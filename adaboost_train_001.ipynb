{
 "cells": [
  {
   "cell_type": "code",
   "execution_count": 1,
   "metadata": {},
   "outputs": [],
   "source": [
    "import os\n",
    "import pickle\n",
    "import numpy as np\n",
    "import pandas as pd\n",
    "from sklearn.ensemble import AdaBoostClassifier, RandomForestClassifier\n",
    "from sklearn.tree import DecisionTreeClassifier\n",
    "from sklearn.metrics import roc_auc_score, roc_curve, f1_score\n",
    "from sklearn.impute import SimpleImputer\n",
    "import matplotlib.pyplot as plt\n",
    "from tqdm import tqdm\n",
    "\n",
    "train_data_path = './data/train'\n",
    "test_data_path = './data/test'\n",
    "\n",
    "train_files = os.listdir(train_data_path)\n",
    "test_files = os.listdir(test_data_path)\n",
    "\n",
    "vitals_features = ['HR', 'O2Sat', 'Temp', 'SBP', 'MAP', 'DBP', 'Resp', 'EtCO2']\n",
    "lab_features = ['BaseExcess','HCO3','FiO2','pH','PaCO2','SaO2','AST','BUN','Alkalinephos','Calcium','Chloride','Creatinine','Bilirubin_direct','Glucose','Lactate','Magnesium','Phosphate','Potassium','Bilirubin_total','TroponinI','Hct','Hgb','PTT','WBC','Fibrinogen','Platelets']\n",
    "demographic_features = ['Age', 'Gender', 'Unit1', 'Unit2', 'HospAdmTime', 'ICULOS']\n",
    "target = 'SepsisLabel'"
   ]
  },
  {
   "cell_type": "code",
   "execution_count": 3,
   "metadata": {},
   "outputs": [],
   "source": [
    "dynamic_features = vitals_features + lab_features\n",
    "take_max_cols = ['SepsisLabel', 'Age', 'Gender', 'ICULOS']\n",
    "\n",
    "def preprocessing(dfs: list[pd.DataFrame], interactions=True):\n",
    "    patient_vecs = []\n",
    "    with tqdm(total=len(dfs)) as pbar:\n",
    "        for i in range(len(dfs)):\n",
    "            _df = dfs[i]\n",
    "            _mean = _df[dynamic_features].mean().add_suffix('_mean')\n",
    "            _rolling_mean = _df[dynamic_features].rolling(3).mean().mean().add_suffix('_rolling_mean')\n",
    "            _diff_mean = _df[dynamic_features].diff().mean().add_suffix('_diff_mean')\n",
    "            _median = _df[dynamic_features].median().add_suffix('_median')\n",
    "            _mean_minus_median = (_df[dynamic_features].mean() - _df[dynamic_features].median()).add_suffix('_mean_minus_median')\n",
    "            _std = _df[dynamic_features].std().add_suffix('_std')\n",
    "            _sem = _df[dynamic_features].sem().add_suffix('_sem')\n",
    "            _range = (_df[dynamic_features].max() - _df[dynamic_features].min()).add_suffix('_range')\n",
    "            _max1 = _df[vitals_features].max().add_suffix('_max')\n",
    "            _max2 = _df[['SepsisLabel', 'Gender', 'Age', 'ICULOS']].max()\n",
    "            _skew  = _df[dynamic_features].skew().add_suffix('_skew')\n",
    "            _pvec = pd.concat([_mean, _rolling_mean, _diff_mean, _range, _std, _sem, _median, _mean_minus_median, _max1, _max2, _skew], axis=0)\n",
    "            patient_vecs.append(_pvec)\n",
    "            pbar.update(1)\n",
    "\n",
    "\n",
    "    _df = pd.DataFrame(patient_vecs)\n",
    "    _df.reset_index(drop=True, inplace=True)\n",
    "\n",
    "    if interactions:\n",
    "        for f1 in vitals_features:\n",
    "            for f2 in vitals_features:\n",
    "                if f1 != f2 and f1 + '_mean' in _df and f2 + '_mean' in _df:\n",
    "                    f1_mean = _df[f1 + '_mean']\n",
    "                    f2_mean = _df[f2 + '_mean']\n",
    "                    _df[f'log_{f1}_mean_x_{f2}_mean'] = np.log(1+f1_mean) * np.log(1+f2_mean)\n",
    "                    _df[f'{f1}_mean_over_{f2}_mean'] = f1_mean / (1+f2_mean)\n",
    "                    _df[f'{f1}_skew_x_{f2}_skew'] = _df[f1+'_skew'] * _df[f2+'_skew']\n",
    "\n",
    "    return _df"
   ]
  },
  {
   "cell_type": "code",
   "execution_count": 4,
   "metadata": {},
   "outputs": [],
   "source": [
    "def read_dataframes(data_path:str) -> list[pd.DataFrame]:\n",
    "    _dfs = []\n",
    "    _files = os.listdir(data_path)\n",
    "    with tqdm(total=len(_files)) as pbar:\n",
    "        for f in _files:\n",
    "            _dfs.append(pd.read_csv(os.path.join(data_path, f), sep='|'))\n",
    "            pbar.update(1)\n",
    "    print(f'Found {len(_dfs)} dataframes in {data_path}')\n",
    "    return _dfs"
   ]
  },
  {
   "cell_type": "markdown",
   "metadata": {},
   "source": [
    "### Load training data"
   ]
  },
  {
   "cell_type": "code",
   "execution_count": 5,
   "metadata": {},
   "outputs": [
    {
     "name": "stderr",
     "output_type": "stream",
     "text": [
      "100%|██████████| 20000/20000 [01:37<00:00, 205.82it/s]"
     ]
    },
    {
     "name": "stdout",
     "output_type": "stream",
     "text": [
      "Found 20000 dataframes in ./data/train\n"
     ]
    },
    {
     "name": "stderr",
     "output_type": "stream",
     "text": [
      "\n"
     ]
    }
   ],
   "source": [
    "train_dfs = read_dataframes(train_data_path)"
   ]
  },
  {
   "cell_type": "code",
   "execution_count": 6,
   "metadata": {},
   "outputs": [
    {
     "name": "stderr",
     "output_type": "stream",
     "text": [
      "100%|██████████| 20000/20000 [08:00<00:00, 41.65it/s]\n",
      "/var/folders/wd/57_v9c5142x7mhyp18nb4bt80000gn/T/ipykernel_3353/1131820091.py:34: PerformanceWarning: DataFrame is highly fragmented.  This is usually the result of calling `frame.insert` many times, which has poor performance.  Consider joining all columns at once using pd.concat(axis=1) instead. To get a de-fragmented frame, use `newframe = frame.copy()`\n",
      "  _df[f'log_{f1}_mean_x_{f2}_mean'] = np.log(1+f1_mean) * np.log(1+f2_mean)\n",
      "/var/folders/wd/57_v9c5142x7mhyp18nb4bt80000gn/T/ipykernel_3353/1131820091.py:35: PerformanceWarning: DataFrame is highly fragmented.  This is usually the result of calling `frame.insert` many times, which has poor performance.  Consider joining all columns at once using pd.concat(axis=1) instead. To get a de-fragmented frame, use `newframe = frame.copy()`\n",
      "  _df[f'{f1}_mean_over_{f2}_mean'] = f1_mean / (1+f2_mean)\n",
      "/var/folders/wd/57_v9c5142x7mhyp18nb4bt80000gn/T/ipykernel_3353/1131820091.py:36: PerformanceWarning: DataFrame is highly fragmented.  This is usually the result of calling `frame.insert` many times, which has poor performance.  Consider joining all columns at once using pd.concat(axis=1) instead. To get a de-fragmented frame, use `newframe = frame.copy()`\n",
      "  _df[f'{f1}_skew_x_{f2}_skew'] = _df[f1+'_skew'] * _df[f2+'_skew']\n",
      "/var/folders/wd/57_v9c5142x7mhyp18nb4bt80000gn/T/ipykernel_3353/1131820091.py:34: PerformanceWarning: DataFrame is highly fragmented.  This is usually the result of calling `frame.insert` many times, which has poor performance.  Consider joining all columns at once using pd.concat(axis=1) instead. To get a de-fragmented frame, use `newframe = frame.copy()`\n",
      "  _df[f'log_{f1}_mean_x_{f2}_mean'] = np.log(1+f1_mean) * np.log(1+f2_mean)\n",
      "/var/folders/wd/57_v9c5142x7mhyp18nb4bt80000gn/T/ipykernel_3353/1131820091.py:35: PerformanceWarning: DataFrame is highly fragmented.  This is usually the result of calling `frame.insert` many times, which has poor performance.  Consider joining all columns at once using pd.concat(axis=1) instead. To get a de-fragmented frame, use `newframe = frame.copy()`\n",
      "  _df[f'{f1}_mean_over_{f2}_mean'] = f1_mean / (1+f2_mean)\n",
      "/var/folders/wd/57_v9c5142x7mhyp18nb4bt80000gn/T/ipykernel_3353/1131820091.py:36: PerformanceWarning: DataFrame is highly fragmented.  This is usually the result of calling `frame.insert` many times, which has poor performance.  Consider joining all columns at once using pd.concat(axis=1) instead. To get a de-fragmented frame, use `newframe = frame.copy()`\n",
      "  _df[f'{f1}_skew_x_{f2}_skew'] = _df[f1+'_skew'] * _df[f2+'_skew']\n",
      "/var/folders/wd/57_v9c5142x7mhyp18nb4bt80000gn/T/ipykernel_3353/1131820091.py:34: PerformanceWarning: DataFrame is highly fragmented.  This is usually the result of calling `frame.insert` many times, which has poor performance.  Consider joining all columns at once using pd.concat(axis=1) instead. To get a de-fragmented frame, use `newframe = frame.copy()`\n",
      "  _df[f'log_{f1}_mean_x_{f2}_mean'] = np.log(1+f1_mean) * np.log(1+f2_mean)\n",
      "/var/folders/wd/57_v9c5142x7mhyp18nb4bt80000gn/T/ipykernel_3353/1131820091.py:35: PerformanceWarning: DataFrame is highly fragmented.  This is usually the result of calling `frame.insert` many times, which has poor performance.  Consider joining all columns at once using pd.concat(axis=1) instead. To get a de-fragmented frame, use `newframe = frame.copy()`\n",
      "  _df[f'{f1}_mean_over_{f2}_mean'] = f1_mean / (1+f2_mean)\n",
      "/var/folders/wd/57_v9c5142x7mhyp18nb4bt80000gn/T/ipykernel_3353/1131820091.py:36: PerformanceWarning: DataFrame is highly fragmented.  This is usually the result of calling `frame.insert` many times, which has poor performance.  Consider joining all columns at once using pd.concat(axis=1) instead. To get a de-fragmented frame, use `newframe = frame.copy()`\n",
      "  _df[f'{f1}_skew_x_{f2}_skew'] = _df[f1+'_skew'] * _df[f2+'_skew']\n",
      "/var/folders/wd/57_v9c5142x7mhyp18nb4bt80000gn/T/ipykernel_3353/1131820091.py:34: PerformanceWarning: DataFrame is highly fragmented.  This is usually the result of calling `frame.insert` many times, which has poor performance.  Consider joining all columns at once using pd.concat(axis=1) instead. To get a de-fragmented frame, use `newframe = frame.copy()`\n",
      "  _df[f'log_{f1}_mean_x_{f2}_mean'] = np.log(1+f1_mean) * np.log(1+f2_mean)\n",
      "/var/folders/wd/57_v9c5142x7mhyp18nb4bt80000gn/T/ipykernel_3353/1131820091.py:35: PerformanceWarning: DataFrame is highly fragmented.  This is usually the result of calling `frame.insert` many times, which has poor performance.  Consider joining all columns at once using pd.concat(axis=1) instead. To get a de-fragmented frame, use `newframe = frame.copy()`\n",
      "  _df[f'{f1}_mean_over_{f2}_mean'] = f1_mean / (1+f2_mean)\n",
      "/var/folders/wd/57_v9c5142x7mhyp18nb4bt80000gn/T/ipykernel_3353/1131820091.py:36: PerformanceWarning: DataFrame is highly fragmented.  This is usually the result of calling `frame.insert` many times, which has poor performance.  Consider joining all columns at once using pd.concat(axis=1) instead. To get a de-fragmented frame, use `newframe = frame.copy()`\n",
      "  _df[f'{f1}_skew_x_{f2}_skew'] = _df[f1+'_skew'] * _df[f2+'_skew']\n",
      "/var/folders/wd/57_v9c5142x7mhyp18nb4bt80000gn/T/ipykernel_3353/1131820091.py:34: PerformanceWarning: DataFrame is highly fragmented.  This is usually the result of calling `frame.insert` many times, which has poor performance.  Consider joining all columns at once using pd.concat(axis=1) instead. To get a de-fragmented frame, use `newframe = frame.copy()`\n",
      "  _df[f'log_{f1}_mean_x_{f2}_mean'] = np.log(1+f1_mean) * np.log(1+f2_mean)\n",
      "/var/folders/wd/57_v9c5142x7mhyp18nb4bt80000gn/T/ipykernel_3353/1131820091.py:35: PerformanceWarning: DataFrame is highly fragmented.  This is usually the result of calling `frame.insert` many times, which has poor performance.  Consider joining all columns at once using pd.concat(axis=1) instead. To get a de-fragmented frame, use `newframe = frame.copy()`\n",
      "  _df[f'{f1}_mean_over_{f2}_mean'] = f1_mean / (1+f2_mean)\n",
      "/var/folders/wd/57_v9c5142x7mhyp18nb4bt80000gn/T/ipykernel_3353/1131820091.py:36: PerformanceWarning: DataFrame is highly fragmented.  This is usually the result of calling `frame.insert` many times, which has poor performance.  Consider joining all columns at once using pd.concat(axis=1) instead. To get a de-fragmented frame, use `newframe = frame.copy()`\n",
      "  _df[f'{f1}_skew_x_{f2}_skew'] = _df[f1+'_skew'] * _df[f2+'_skew']\n",
      "/var/folders/wd/57_v9c5142x7mhyp18nb4bt80000gn/T/ipykernel_3353/1131820091.py:34: PerformanceWarning: DataFrame is highly fragmented.  This is usually the result of calling `frame.insert` many times, which has poor performance.  Consider joining all columns at once using pd.concat(axis=1) instead. To get a de-fragmented frame, use `newframe = frame.copy()`\n",
      "  _df[f'log_{f1}_mean_x_{f2}_mean'] = np.log(1+f1_mean) * np.log(1+f2_mean)\n",
      "/var/folders/wd/57_v9c5142x7mhyp18nb4bt80000gn/T/ipykernel_3353/1131820091.py:35: PerformanceWarning: DataFrame is highly fragmented.  This is usually the result of calling `frame.insert` many times, which has poor performance.  Consider joining all columns at once using pd.concat(axis=1) instead. To get a de-fragmented frame, use `newframe = frame.copy()`\n",
      "  _df[f'{f1}_mean_over_{f2}_mean'] = f1_mean / (1+f2_mean)\n",
      "/var/folders/wd/57_v9c5142x7mhyp18nb4bt80000gn/T/ipykernel_3353/1131820091.py:36: PerformanceWarning: DataFrame is highly fragmented.  This is usually the result of calling `frame.insert` many times, which has poor performance.  Consider joining all columns at once using pd.concat(axis=1) instead. To get a de-fragmented frame, use `newframe = frame.copy()`\n",
      "  _df[f'{f1}_skew_x_{f2}_skew'] = _df[f1+'_skew'] * _df[f2+'_skew']\n",
      "/var/folders/wd/57_v9c5142x7mhyp18nb4bt80000gn/T/ipykernel_3353/1131820091.py:34: PerformanceWarning: DataFrame is highly fragmented.  This is usually the result of calling `frame.insert` many times, which has poor performance.  Consider joining all columns at once using pd.concat(axis=1) instead. To get a de-fragmented frame, use `newframe = frame.copy()`\n",
      "  _df[f'log_{f1}_mean_x_{f2}_mean'] = np.log(1+f1_mean) * np.log(1+f2_mean)\n",
      "/var/folders/wd/57_v9c5142x7mhyp18nb4bt80000gn/T/ipykernel_3353/1131820091.py:35: PerformanceWarning: DataFrame is highly fragmented.  This is usually the result of calling `frame.insert` many times, which has poor performance.  Consider joining all columns at once using pd.concat(axis=1) instead. To get a de-fragmented frame, use `newframe = frame.copy()`\n",
      "  _df[f'{f1}_mean_over_{f2}_mean'] = f1_mean / (1+f2_mean)\n",
      "/var/folders/wd/57_v9c5142x7mhyp18nb4bt80000gn/T/ipykernel_3353/1131820091.py:36: PerformanceWarning: DataFrame is highly fragmented.  This is usually the result of calling `frame.insert` many times, which has poor performance.  Consider joining all columns at once using pd.concat(axis=1) instead. To get a de-fragmented frame, use `newframe = frame.copy()`\n",
      "  _df[f'{f1}_skew_x_{f2}_skew'] = _df[f1+'_skew'] * _df[f2+'_skew']\n",
      "/var/folders/wd/57_v9c5142x7mhyp18nb4bt80000gn/T/ipykernel_3353/1131820091.py:34: PerformanceWarning: DataFrame is highly fragmented.  This is usually the result of calling `frame.insert` many times, which has poor performance.  Consider joining all columns at once using pd.concat(axis=1) instead. To get a de-fragmented frame, use `newframe = frame.copy()`\n",
      "  _df[f'log_{f1}_mean_x_{f2}_mean'] = np.log(1+f1_mean) * np.log(1+f2_mean)\n",
      "/var/folders/wd/57_v9c5142x7mhyp18nb4bt80000gn/T/ipykernel_3353/1131820091.py:35: PerformanceWarning: DataFrame is highly fragmented.  This is usually the result of calling `frame.insert` many times, which has poor performance.  Consider joining all columns at once using pd.concat(axis=1) instead. To get a de-fragmented frame, use `newframe = frame.copy()`\n",
      "  _df[f'{f1}_mean_over_{f2}_mean'] = f1_mean / (1+f2_mean)\n",
      "/var/folders/wd/57_v9c5142x7mhyp18nb4bt80000gn/T/ipykernel_3353/1131820091.py:36: PerformanceWarning: DataFrame is highly fragmented.  This is usually the result of calling `frame.insert` many times, which has poor performance.  Consider joining all columns at once using pd.concat(axis=1) instead. To get a de-fragmented frame, use `newframe = frame.copy()`\n",
      "  _df[f'{f1}_skew_x_{f2}_skew'] = _df[f1+'_skew'] * _df[f2+'_skew']\n",
      "/var/folders/wd/57_v9c5142x7mhyp18nb4bt80000gn/T/ipykernel_3353/1131820091.py:34: PerformanceWarning: DataFrame is highly fragmented.  This is usually the result of calling `frame.insert` many times, which has poor performance.  Consider joining all columns at once using pd.concat(axis=1) instead. To get a de-fragmented frame, use `newframe = frame.copy()`\n",
      "  _df[f'log_{f1}_mean_x_{f2}_mean'] = np.log(1+f1_mean) * np.log(1+f2_mean)\n",
      "/var/folders/wd/57_v9c5142x7mhyp18nb4bt80000gn/T/ipykernel_3353/1131820091.py:35: PerformanceWarning: DataFrame is highly fragmented.  This is usually the result of calling `frame.insert` many times, which has poor performance.  Consider joining all columns at once using pd.concat(axis=1) instead. To get a de-fragmented frame, use `newframe = frame.copy()`\n",
      "  _df[f'{f1}_mean_over_{f2}_mean'] = f1_mean / (1+f2_mean)\n",
      "/var/folders/wd/57_v9c5142x7mhyp18nb4bt80000gn/T/ipykernel_3353/1131820091.py:36: PerformanceWarning: DataFrame is highly fragmented.  This is usually the result of calling `frame.insert` many times, which has poor performance.  Consider joining all columns at once using pd.concat(axis=1) instead. To get a de-fragmented frame, use `newframe = frame.copy()`\n",
      "  _df[f'{f1}_skew_x_{f2}_skew'] = _df[f1+'_skew'] * _df[f2+'_skew']\n",
      "/var/folders/wd/57_v9c5142x7mhyp18nb4bt80000gn/T/ipykernel_3353/1131820091.py:34: PerformanceWarning: DataFrame is highly fragmented.  This is usually the result of calling `frame.insert` many times, which has poor performance.  Consider joining all columns at once using pd.concat(axis=1) instead. To get a de-fragmented frame, use `newframe = frame.copy()`\n",
      "  _df[f'log_{f1}_mean_x_{f2}_mean'] = np.log(1+f1_mean) * np.log(1+f2_mean)\n",
      "/var/folders/wd/57_v9c5142x7mhyp18nb4bt80000gn/T/ipykernel_3353/1131820091.py:35: PerformanceWarning: DataFrame is highly fragmented.  This is usually the result of calling `frame.insert` many times, which has poor performance.  Consider joining all columns at once using pd.concat(axis=1) instead. To get a de-fragmented frame, use `newframe = frame.copy()`\n",
      "  _df[f'{f1}_mean_over_{f2}_mean'] = f1_mean / (1+f2_mean)\n",
      "/var/folders/wd/57_v9c5142x7mhyp18nb4bt80000gn/T/ipykernel_3353/1131820091.py:36: PerformanceWarning: DataFrame is highly fragmented.  This is usually the result of calling `frame.insert` many times, which has poor performance.  Consider joining all columns at once using pd.concat(axis=1) instead. To get a de-fragmented frame, use `newframe = frame.copy()`\n",
      "  _df[f'{f1}_skew_x_{f2}_skew'] = _df[f1+'_skew'] * _df[f2+'_skew']\n",
      "/var/folders/wd/57_v9c5142x7mhyp18nb4bt80000gn/T/ipykernel_3353/1131820091.py:34: PerformanceWarning: DataFrame is highly fragmented.  This is usually the result of calling `frame.insert` many times, which has poor performance.  Consider joining all columns at once using pd.concat(axis=1) instead. To get a de-fragmented frame, use `newframe = frame.copy()`\n",
      "  _df[f'log_{f1}_mean_x_{f2}_mean'] = np.log(1+f1_mean) * np.log(1+f2_mean)\n",
      "/var/folders/wd/57_v9c5142x7mhyp18nb4bt80000gn/T/ipykernel_3353/1131820091.py:35: PerformanceWarning: DataFrame is highly fragmented.  This is usually the result of calling `frame.insert` many times, which has poor performance.  Consider joining all columns at once using pd.concat(axis=1) instead. To get a de-fragmented frame, use `newframe = frame.copy()`\n",
      "  _df[f'{f1}_mean_over_{f2}_mean'] = f1_mean / (1+f2_mean)\n",
      "/var/folders/wd/57_v9c5142x7mhyp18nb4bt80000gn/T/ipykernel_3353/1131820091.py:36: PerformanceWarning: DataFrame is highly fragmented.  This is usually the result of calling `frame.insert` many times, which has poor performance.  Consider joining all columns at once using pd.concat(axis=1) instead. To get a de-fragmented frame, use `newframe = frame.copy()`\n",
      "  _df[f'{f1}_skew_x_{f2}_skew'] = _df[f1+'_skew'] * _df[f2+'_skew']\n",
      "/var/folders/wd/57_v9c5142x7mhyp18nb4bt80000gn/T/ipykernel_3353/1131820091.py:34: PerformanceWarning: DataFrame is highly fragmented.  This is usually the result of calling `frame.insert` many times, which has poor performance.  Consider joining all columns at once using pd.concat(axis=1) instead. To get a de-fragmented frame, use `newframe = frame.copy()`\n",
      "  _df[f'log_{f1}_mean_x_{f2}_mean'] = np.log(1+f1_mean) * np.log(1+f2_mean)\n",
      "/var/folders/wd/57_v9c5142x7mhyp18nb4bt80000gn/T/ipykernel_3353/1131820091.py:35: PerformanceWarning: DataFrame is highly fragmented.  This is usually the result of calling `frame.insert` many times, which has poor performance.  Consider joining all columns at once using pd.concat(axis=1) instead. To get a de-fragmented frame, use `newframe = frame.copy()`\n",
      "  _df[f'{f1}_mean_over_{f2}_mean'] = f1_mean / (1+f2_mean)\n",
      "/var/folders/wd/57_v9c5142x7mhyp18nb4bt80000gn/T/ipykernel_3353/1131820091.py:36: PerformanceWarning: DataFrame is highly fragmented.  This is usually the result of calling `frame.insert` many times, which has poor performance.  Consider joining all columns at once using pd.concat(axis=1) instead. To get a de-fragmented frame, use `newframe = frame.copy()`\n",
      "  _df[f'{f1}_skew_x_{f2}_skew'] = _df[f1+'_skew'] * _df[f2+'_skew']\n",
      "/var/folders/wd/57_v9c5142x7mhyp18nb4bt80000gn/T/ipykernel_3353/1131820091.py:34: PerformanceWarning: DataFrame is highly fragmented.  This is usually the result of calling `frame.insert` many times, which has poor performance.  Consider joining all columns at once using pd.concat(axis=1) instead. To get a de-fragmented frame, use `newframe = frame.copy()`\n",
      "  _df[f'log_{f1}_mean_x_{f2}_mean'] = np.log(1+f1_mean) * np.log(1+f2_mean)\n",
      "/var/folders/wd/57_v9c5142x7mhyp18nb4bt80000gn/T/ipykernel_3353/1131820091.py:35: PerformanceWarning: DataFrame is highly fragmented.  This is usually the result of calling `frame.insert` many times, which has poor performance.  Consider joining all columns at once using pd.concat(axis=1) instead. To get a de-fragmented frame, use `newframe = frame.copy()`\n",
      "  _df[f'{f1}_mean_over_{f2}_mean'] = f1_mean / (1+f2_mean)\n",
      "/var/folders/wd/57_v9c5142x7mhyp18nb4bt80000gn/T/ipykernel_3353/1131820091.py:36: PerformanceWarning: DataFrame is highly fragmented.  This is usually the result of calling `frame.insert` many times, which has poor performance.  Consider joining all columns at once using pd.concat(axis=1) instead. To get a de-fragmented frame, use `newframe = frame.copy()`\n",
      "  _df[f'{f1}_skew_x_{f2}_skew'] = _df[f1+'_skew'] * _df[f2+'_skew']\n",
      "/var/folders/wd/57_v9c5142x7mhyp18nb4bt80000gn/T/ipykernel_3353/1131820091.py:34: PerformanceWarning: DataFrame is highly fragmented.  This is usually the result of calling `frame.insert` many times, which has poor performance.  Consider joining all columns at once using pd.concat(axis=1) instead. To get a de-fragmented frame, use `newframe = frame.copy()`\n",
      "  _df[f'log_{f1}_mean_x_{f2}_mean'] = np.log(1+f1_mean) * np.log(1+f2_mean)\n",
      "/var/folders/wd/57_v9c5142x7mhyp18nb4bt80000gn/T/ipykernel_3353/1131820091.py:35: PerformanceWarning: DataFrame is highly fragmented.  This is usually the result of calling `frame.insert` many times, which has poor performance.  Consider joining all columns at once using pd.concat(axis=1) instead. To get a de-fragmented frame, use `newframe = frame.copy()`\n",
      "  _df[f'{f1}_mean_over_{f2}_mean'] = f1_mean / (1+f2_mean)\n",
      "/var/folders/wd/57_v9c5142x7mhyp18nb4bt80000gn/T/ipykernel_3353/1131820091.py:36: PerformanceWarning: DataFrame is highly fragmented.  This is usually the result of calling `frame.insert` many times, which has poor performance.  Consider joining all columns at once using pd.concat(axis=1) instead. To get a de-fragmented frame, use `newframe = frame.copy()`\n",
      "  _df[f'{f1}_skew_x_{f2}_skew'] = _df[f1+'_skew'] * _df[f2+'_skew']\n",
      "/var/folders/wd/57_v9c5142x7mhyp18nb4bt80000gn/T/ipykernel_3353/1131820091.py:34: PerformanceWarning: DataFrame is highly fragmented.  This is usually the result of calling `frame.insert` many times, which has poor performance.  Consider joining all columns at once using pd.concat(axis=1) instead. To get a de-fragmented frame, use `newframe = frame.copy()`\n",
      "  _df[f'log_{f1}_mean_x_{f2}_mean'] = np.log(1+f1_mean) * np.log(1+f2_mean)\n",
      "/var/folders/wd/57_v9c5142x7mhyp18nb4bt80000gn/T/ipykernel_3353/1131820091.py:35: PerformanceWarning: DataFrame is highly fragmented.  This is usually the result of calling `frame.insert` many times, which has poor performance.  Consider joining all columns at once using pd.concat(axis=1) instead. To get a de-fragmented frame, use `newframe = frame.copy()`\n",
      "  _df[f'{f1}_mean_over_{f2}_mean'] = f1_mean / (1+f2_mean)\n",
      "/var/folders/wd/57_v9c5142x7mhyp18nb4bt80000gn/T/ipykernel_3353/1131820091.py:36: PerformanceWarning: DataFrame is highly fragmented.  This is usually the result of calling `frame.insert` many times, which has poor performance.  Consider joining all columns at once using pd.concat(axis=1) instead. To get a de-fragmented frame, use `newframe = frame.copy()`\n",
      "  _df[f'{f1}_skew_x_{f2}_skew'] = _df[f1+'_skew'] * _df[f2+'_skew']\n",
      "/var/folders/wd/57_v9c5142x7mhyp18nb4bt80000gn/T/ipykernel_3353/1131820091.py:34: PerformanceWarning: DataFrame is highly fragmented.  This is usually the result of calling `frame.insert` many times, which has poor performance.  Consider joining all columns at once using pd.concat(axis=1) instead. To get a de-fragmented frame, use `newframe = frame.copy()`\n",
      "  _df[f'log_{f1}_mean_x_{f2}_mean'] = np.log(1+f1_mean) * np.log(1+f2_mean)\n",
      "/var/folders/wd/57_v9c5142x7mhyp18nb4bt80000gn/T/ipykernel_3353/1131820091.py:35: PerformanceWarning: DataFrame is highly fragmented.  This is usually the result of calling `frame.insert` many times, which has poor performance.  Consider joining all columns at once using pd.concat(axis=1) instead. To get a de-fragmented frame, use `newframe = frame.copy()`\n",
      "  _df[f'{f1}_mean_over_{f2}_mean'] = f1_mean / (1+f2_mean)\n",
      "/var/folders/wd/57_v9c5142x7mhyp18nb4bt80000gn/T/ipykernel_3353/1131820091.py:36: PerformanceWarning: DataFrame is highly fragmented.  This is usually the result of calling `frame.insert` many times, which has poor performance.  Consider joining all columns at once using pd.concat(axis=1) instead. To get a de-fragmented frame, use `newframe = frame.copy()`\n",
      "  _df[f'{f1}_skew_x_{f2}_skew'] = _df[f1+'_skew'] * _df[f2+'_skew']\n",
      "/var/folders/wd/57_v9c5142x7mhyp18nb4bt80000gn/T/ipykernel_3353/1131820091.py:34: PerformanceWarning: DataFrame is highly fragmented.  This is usually the result of calling `frame.insert` many times, which has poor performance.  Consider joining all columns at once using pd.concat(axis=1) instead. To get a de-fragmented frame, use `newframe = frame.copy()`\n",
      "  _df[f'log_{f1}_mean_x_{f2}_mean'] = np.log(1+f1_mean) * np.log(1+f2_mean)\n",
      "/var/folders/wd/57_v9c5142x7mhyp18nb4bt80000gn/T/ipykernel_3353/1131820091.py:35: PerformanceWarning: DataFrame is highly fragmented.  This is usually the result of calling `frame.insert` many times, which has poor performance.  Consider joining all columns at once using pd.concat(axis=1) instead. To get a de-fragmented frame, use `newframe = frame.copy()`\n",
      "  _df[f'{f1}_mean_over_{f2}_mean'] = f1_mean / (1+f2_mean)\n",
      "/var/folders/wd/57_v9c5142x7mhyp18nb4bt80000gn/T/ipykernel_3353/1131820091.py:36: PerformanceWarning: DataFrame is highly fragmented.  This is usually the result of calling `frame.insert` many times, which has poor performance.  Consider joining all columns at once using pd.concat(axis=1) instead. To get a de-fragmented frame, use `newframe = frame.copy()`\n",
      "  _df[f'{f1}_skew_x_{f2}_skew'] = _df[f1+'_skew'] * _df[f2+'_skew']\n",
      "/var/folders/wd/57_v9c5142x7mhyp18nb4bt80000gn/T/ipykernel_3353/1131820091.py:34: PerformanceWarning: DataFrame is highly fragmented.  This is usually the result of calling `frame.insert` many times, which has poor performance.  Consider joining all columns at once using pd.concat(axis=1) instead. To get a de-fragmented frame, use `newframe = frame.copy()`\n",
      "  _df[f'log_{f1}_mean_x_{f2}_mean'] = np.log(1+f1_mean) * np.log(1+f2_mean)\n",
      "/var/folders/wd/57_v9c5142x7mhyp18nb4bt80000gn/T/ipykernel_3353/1131820091.py:35: PerformanceWarning: DataFrame is highly fragmented.  This is usually the result of calling `frame.insert` many times, which has poor performance.  Consider joining all columns at once using pd.concat(axis=1) instead. To get a de-fragmented frame, use `newframe = frame.copy()`\n",
      "  _df[f'{f1}_mean_over_{f2}_mean'] = f1_mean / (1+f2_mean)\n",
      "/var/folders/wd/57_v9c5142x7mhyp18nb4bt80000gn/T/ipykernel_3353/1131820091.py:36: PerformanceWarning: DataFrame is highly fragmented.  This is usually the result of calling `frame.insert` many times, which has poor performance.  Consider joining all columns at once using pd.concat(axis=1) instead. To get a de-fragmented frame, use `newframe = frame.copy()`\n",
      "  _df[f'{f1}_skew_x_{f2}_skew'] = _df[f1+'_skew'] * _df[f2+'_skew']\n",
      "/var/folders/wd/57_v9c5142x7mhyp18nb4bt80000gn/T/ipykernel_3353/1131820091.py:34: PerformanceWarning: DataFrame is highly fragmented.  This is usually the result of calling `frame.insert` many times, which has poor performance.  Consider joining all columns at once using pd.concat(axis=1) instead. To get a de-fragmented frame, use `newframe = frame.copy()`\n",
      "  _df[f'log_{f1}_mean_x_{f2}_mean'] = np.log(1+f1_mean) * np.log(1+f2_mean)\n",
      "/var/folders/wd/57_v9c5142x7mhyp18nb4bt80000gn/T/ipykernel_3353/1131820091.py:35: PerformanceWarning: DataFrame is highly fragmented.  This is usually the result of calling `frame.insert` many times, which has poor performance.  Consider joining all columns at once using pd.concat(axis=1) instead. To get a de-fragmented frame, use `newframe = frame.copy()`\n",
      "  _df[f'{f1}_mean_over_{f2}_mean'] = f1_mean / (1+f2_mean)\n",
      "/var/folders/wd/57_v9c5142x7mhyp18nb4bt80000gn/T/ipykernel_3353/1131820091.py:36: PerformanceWarning: DataFrame is highly fragmented.  This is usually the result of calling `frame.insert` many times, which has poor performance.  Consider joining all columns at once using pd.concat(axis=1) instead. To get a de-fragmented frame, use `newframe = frame.copy()`\n",
      "  _df[f'{f1}_skew_x_{f2}_skew'] = _df[f1+'_skew'] * _df[f2+'_skew']\n",
      "/var/folders/wd/57_v9c5142x7mhyp18nb4bt80000gn/T/ipykernel_3353/1131820091.py:34: PerformanceWarning: DataFrame is highly fragmented.  This is usually the result of calling `frame.insert` many times, which has poor performance.  Consider joining all columns at once using pd.concat(axis=1) instead. To get a de-fragmented frame, use `newframe = frame.copy()`\n",
      "  _df[f'log_{f1}_mean_x_{f2}_mean'] = np.log(1+f1_mean) * np.log(1+f2_mean)\n",
      "/var/folders/wd/57_v9c5142x7mhyp18nb4bt80000gn/T/ipykernel_3353/1131820091.py:35: PerformanceWarning: DataFrame is highly fragmented.  This is usually the result of calling `frame.insert` many times, which has poor performance.  Consider joining all columns at once using pd.concat(axis=1) instead. To get a de-fragmented frame, use `newframe = frame.copy()`\n",
      "  _df[f'{f1}_mean_over_{f2}_mean'] = f1_mean / (1+f2_mean)\n",
      "/var/folders/wd/57_v9c5142x7mhyp18nb4bt80000gn/T/ipykernel_3353/1131820091.py:36: PerformanceWarning: DataFrame is highly fragmented.  This is usually the result of calling `frame.insert` many times, which has poor performance.  Consider joining all columns at once using pd.concat(axis=1) instead. To get a de-fragmented frame, use `newframe = frame.copy()`\n",
      "  _df[f'{f1}_skew_x_{f2}_skew'] = _df[f1+'_skew'] * _df[f2+'_skew']\n",
      "/var/folders/wd/57_v9c5142x7mhyp18nb4bt80000gn/T/ipykernel_3353/1131820091.py:34: PerformanceWarning: DataFrame is highly fragmented.  This is usually the result of calling `frame.insert` many times, which has poor performance.  Consider joining all columns at once using pd.concat(axis=1) instead. To get a de-fragmented frame, use `newframe = frame.copy()`\n",
      "  _df[f'log_{f1}_mean_x_{f2}_mean'] = np.log(1+f1_mean) * np.log(1+f2_mean)\n",
      "/var/folders/wd/57_v9c5142x7mhyp18nb4bt80000gn/T/ipykernel_3353/1131820091.py:35: PerformanceWarning: DataFrame is highly fragmented.  This is usually the result of calling `frame.insert` many times, which has poor performance.  Consider joining all columns at once using pd.concat(axis=1) instead. To get a de-fragmented frame, use `newframe = frame.copy()`\n",
      "  _df[f'{f1}_mean_over_{f2}_mean'] = f1_mean / (1+f2_mean)\n",
      "/var/folders/wd/57_v9c5142x7mhyp18nb4bt80000gn/T/ipykernel_3353/1131820091.py:36: PerformanceWarning: DataFrame is highly fragmented.  This is usually the result of calling `frame.insert` many times, which has poor performance.  Consider joining all columns at once using pd.concat(axis=1) instead. To get a de-fragmented frame, use `newframe = frame.copy()`\n",
      "  _df[f'{f1}_skew_x_{f2}_skew'] = _df[f1+'_skew'] * _df[f2+'_skew']\n",
      "/var/folders/wd/57_v9c5142x7mhyp18nb4bt80000gn/T/ipykernel_3353/1131820091.py:34: PerformanceWarning: DataFrame is highly fragmented.  This is usually the result of calling `frame.insert` many times, which has poor performance.  Consider joining all columns at once using pd.concat(axis=1) instead. To get a de-fragmented frame, use `newframe = frame.copy()`\n",
      "  _df[f'log_{f1}_mean_x_{f2}_mean'] = np.log(1+f1_mean) * np.log(1+f2_mean)\n",
      "/var/folders/wd/57_v9c5142x7mhyp18nb4bt80000gn/T/ipykernel_3353/1131820091.py:35: PerformanceWarning: DataFrame is highly fragmented.  This is usually the result of calling `frame.insert` many times, which has poor performance.  Consider joining all columns at once using pd.concat(axis=1) instead. To get a de-fragmented frame, use `newframe = frame.copy()`\n",
      "  _df[f'{f1}_mean_over_{f2}_mean'] = f1_mean / (1+f2_mean)\n",
      "/var/folders/wd/57_v9c5142x7mhyp18nb4bt80000gn/T/ipykernel_3353/1131820091.py:36: PerformanceWarning: DataFrame is highly fragmented.  This is usually the result of calling `frame.insert` many times, which has poor performance.  Consider joining all columns at once using pd.concat(axis=1) instead. To get a de-fragmented frame, use `newframe = frame.copy()`\n",
      "  _df[f'{f1}_skew_x_{f2}_skew'] = _df[f1+'_skew'] * _df[f2+'_skew']\n",
      "/var/folders/wd/57_v9c5142x7mhyp18nb4bt80000gn/T/ipykernel_3353/1131820091.py:34: PerformanceWarning: DataFrame is highly fragmented.  This is usually the result of calling `frame.insert` many times, which has poor performance.  Consider joining all columns at once using pd.concat(axis=1) instead. To get a de-fragmented frame, use `newframe = frame.copy()`\n",
      "  _df[f'log_{f1}_mean_x_{f2}_mean'] = np.log(1+f1_mean) * np.log(1+f2_mean)\n",
      "/var/folders/wd/57_v9c5142x7mhyp18nb4bt80000gn/T/ipykernel_3353/1131820091.py:35: PerformanceWarning: DataFrame is highly fragmented.  This is usually the result of calling `frame.insert` many times, which has poor performance.  Consider joining all columns at once using pd.concat(axis=1) instead. To get a de-fragmented frame, use `newframe = frame.copy()`\n",
      "  _df[f'{f1}_mean_over_{f2}_mean'] = f1_mean / (1+f2_mean)\n",
      "/var/folders/wd/57_v9c5142x7mhyp18nb4bt80000gn/T/ipykernel_3353/1131820091.py:36: PerformanceWarning: DataFrame is highly fragmented.  This is usually the result of calling `frame.insert` many times, which has poor performance.  Consider joining all columns at once using pd.concat(axis=1) instead. To get a de-fragmented frame, use `newframe = frame.copy()`\n",
      "  _df[f'{f1}_skew_x_{f2}_skew'] = _df[f1+'_skew'] * _df[f2+'_skew']\n"
     ]
    }
   ],
   "source": [
    "train_df = preprocessing(train_dfs)"
   ]
  },
  {
   "cell_type": "code",
   "execution_count": 7,
   "metadata": {},
   "outputs": [
    {
     "data": {
      "text/plain": [
       "'235 training features'"
      ]
     },
     "execution_count": 7,
     "metadata": {},
     "output_type": "execute_result"
    }
   ],
   "source": [
    "missing_values = (train_df.isna().sum() / len(train_df)).sort_values()\n",
    "threshold = 0.2\n",
    "features = list(missing_values[missing_values <= threshold].index)\n",
    "features.remove(target)\n",
    "f'{len(features)} training features'"
   ]
  },
  {
   "cell_type": "code",
   "execution_count": 8,
   "metadata": {},
   "outputs": [
    {
     "name": "stderr",
     "output_type": "stream",
     "text": [
      "100%|██████████| 10000/10000 [00:42<00:00, 234.50it/s]"
     ]
    },
    {
     "name": "stdout",
     "output_type": "stream",
     "text": [
      "Found 10000 dataframes in ./data/test\n"
     ]
    },
    {
     "name": "stderr",
     "output_type": "stream",
     "text": [
      "\n"
     ]
    }
   ],
   "source": [
    "test_dfs = read_dataframes(test_data_path)"
   ]
  },
  {
   "cell_type": "code",
   "execution_count": 9,
   "metadata": {},
   "outputs": [
    {
     "name": "stderr",
     "output_type": "stream",
     "text": [
      "100%|██████████| 10000/10000 [03:52<00:00, 42.96it/s]\n",
      "/var/folders/wd/57_v9c5142x7mhyp18nb4bt80000gn/T/ipykernel_3353/1131820091.py:34: PerformanceWarning: DataFrame is highly fragmented.  This is usually the result of calling `frame.insert` many times, which has poor performance.  Consider joining all columns at once using pd.concat(axis=1) instead. To get a de-fragmented frame, use `newframe = frame.copy()`\n",
      "  _df[f'log_{f1}_mean_x_{f2}_mean'] = np.log(1+f1_mean) * np.log(1+f2_mean)\n",
      "/var/folders/wd/57_v9c5142x7mhyp18nb4bt80000gn/T/ipykernel_3353/1131820091.py:35: PerformanceWarning: DataFrame is highly fragmented.  This is usually the result of calling `frame.insert` many times, which has poor performance.  Consider joining all columns at once using pd.concat(axis=1) instead. To get a de-fragmented frame, use `newframe = frame.copy()`\n",
      "  _df[f'{f1}_mean_over_{f2}_mean'] = f1_mean / (1+f2_mean)\n",
      "/var/folders/wd/57_v9c5142x7mhyp18nb4bt80000gn/T/ipykernel_3353/1131820091.py:36: PerformanceWarning: DataFrame is highly fragmented.  This is usually the result of calling `frame.insert` many times, which has poor performance.  Consider joining all columns at once using pd.concat(axis=1) instead. To get a de-fragmented frame, use `newframe = frame.copy()`\n",
      "  _df[f'{f1}_skew_x_{f2}_skew'] = _df[f1+'_skew'] * _df[f2+'_skew']\n",
      "/var/folders/wd/57_v9c5142x7mhyp18nb4bt80000gn/T/ipykernel_3353/1131820091.py:34: PerformanceWarning: DataFrame is highly fragmented.  This is usually the result of calling `frame.insert` many times, which has poor performance.  Consider joining all columns at once using pd.concat(axis=1) instead. To get a de-fragmented frame, use `newframe = frame.copy()`\n",
      "  _df[f'log_{f1}_mean_x_{f2}_mean'] = np.log(1+f1_mean) * np.log(1+f2_mean)\n",
      "/var/folders/wd/57_v9c5142x7mhyp18nb4bt80000gn/T/ipykernel_3353/1131820091.py:35: PerformanceWarning: DataFrame is highly fragmented.  This is usually the result of calling `frame.insert` many times, which has poor performance.  Consider joining all columns at once using pd.concat(axis=1) instead. To get a de-fragmented frame, use `newframe = frame.copy()`\n",
      "  _df[f'{f1}_mean_over_{f2}_mean'] = f1_mean / (1+f2_mean)\n",
      "/var/folders/wd/57_v9c5142x7mhyp18nb4bt80000gn/T/ipykernel_3353/1131820091.py:36: PerformanceWarning: DataFrame is highly fragmented.  This is usually the result of calling `frame.insert` many times, which has poor performance.  Consider joining all columns at once using pd.concat(axis=1) instead. To get a de-fragmented frame, use `newframe = frame.copy()`\n",
      "  _df[f'{f1}_skew_x_{f2}_skew'] = _df[f1+'_skew'] * _df[f2+'_skew']\n",
      "/var/folders/wd/57_v9c5142x7mhyp18nb4bt80000gn/T/ipykernel_3353/1131820091.py:34: PerformanceWarning: DataFrame is highly fragmented.  This is usually the result of calling `frame.insert` many times, which has poor performance.  Consider joining all columns at once using pd.concat(axis=1) instead. To get a de-fragmented frame, use `newframe = frame.copy()`\n",
      "  _df[f'log_{f1}_mean_x_{f2}_mean'] = np.log(1+f1_mean) * np.log(1+f2_mean)\n",
      "/var/folders/wd/57_v9c5142x7mhyp18nb4bt80000gn/T/ipykernel_3353/1131820091.py:35: PerformanceWarning: DataFrame is highly fragmented.  This is usually the result of calling `frame.insert` many times, which has poor performance.  Consider joining all columns at once using pd.concat(axis=1) instead. To get a de-fragmented frame, use `newframe = frame.copy()`\n",
      "  _df[f'{f1}_mean_over_{f2}_mean'] = f1_mean / (1+f2_mean)\n",
      "/var/folders/wd/57_v9c5142x7mhyp18nb4bt80000gn/T/ipykernel_3353/1131820091.py:36: PerformanceWarning: DataFrame is highly fragmented.  This is usually the result of calling `frame.insert` many times, which has poor performance.  Consider joining all columns at once using pd.concat(axis=1) instead. To get a de-fragmented frame, use `newframe = frame.copy()`\n",
      "  _df[f'{f1}_skew_x_{f2}_skew'] = _df[f1+'_skew'] * _df[f2+'_skew']\n",
      "/var/folders/wd/57_v9c5142x7mhyp18nb4bt80000gn/T/ipykernel_3353/1131820091.py:34: PerformanceWarning: DataFrame is highly fragmented.  This is usually the result of calling `frame.insert` many times, which has poor performance.  Consider joining all columns at once using pd.concat(axis=1) instead. To get a de-fragmented frame, use `newframe = frame.copy()`\n",
      "  _df[f'log_{f1}_mean_x_{f2}_mean'] = np.log(1+f1_mean) * np.log(1+f2_mean)\n",
      "/var/folders/wd/57_v9c5142x7mhyp18nb4bt80000gn/T/ipykernel_3353/1131820091.py:35: PerformanceWarning: DataFrame is highly fragmented.  This is usually the result of calling `frame.insert` many times, which has poor performance.  Consider joining all columns at once using pd.concat(axis=1) instead. To get a de-fragmented frame, use `newframe = frame.copy()`\n",
      "  _df[f'{f1}_mean_over_{f2}_mean'] = f1_mean / (1+f2_mean)\n",
      "/var/folders/wd/57_v9c5142x7mhyp18nb4bt80000gn/T/ipykernel_3353/1131820091.py:36: PerformanceWarning: DataFrame is highly fragmented.  This is usually the result of calling `frame.insert` many times, which has poor performance.  Consider joining all columns at once using pd.concat(axis=1) instead. To get a de-fragmented frame, use `newframe = frame.copy()`\n",
      "  _df[f'{f1}_skew_x_{f2}_skew'] = _df[f1+'_skew'] * _df[f2+'_skew']\n",
      "/var/folders/wd/57_v9c5142x7mhyp18nb4bt80000gn/T/ipykernel_3353/1131820091.py:34: PerformanceWarning: DataFrame is highly fragmented.  This is usually the result of calling `frame.insert` many times, which has poor performance.  Consider joining all columns at once using pd.concat(axis=1) instead. To get a de-fragmented frame, use `newframe = frame.copy()`\n",
      "  _df[f'log_{f1}_mean_x_{f2}_mean'] = np.log(1+f1_mean) * np.log(1+f2_mean)\n",
      "/var/folders/wd/57_v9c5142x7mhyp18nb4bt80000gn/T/ipykernel_3353/1131820091.py:35: PerformanceWarning: DataFrame is highly fragmented.  This is usually the result of calling `frame.insert` many times, which has poor performance.  Consider joining all columns at once using pd.concat(axis=1) instead. To get a de-fragmented frame, use `newframe = frame.copy()`\n",
      "  _df[f'{f1}_mean_over_{f2}_mean'] = f1_mean / (1+f2_mean)\n",
      "/var/folders/wd/57_v9c5142x7mhyp18nb4bt80000gn/T/ipykernel_3353/1131820091.py:36: PerformanceWarning: DataFrame is highly fragmented.  This is usually the result of calling `frame.insert` many times, which has poor performance.  Consider joining all columns at once using pd.concat(axis=1) instead. To get a de-fragmented frame, use `newframe = frame.copy()`\n",
      "  _df[f'{f1}_skew_x_{f2}_skew'] = _df[f1+'_skew'] * _df[f2+'_skew']\n",
      "/var/folders/wd/57_v9c5142x7mhyp18nb4bt80000gn/T/ipykernel_3353/1131820091.py:34: PerformanceWarning: DataFrame is highly fragmented.  This is usually the result of calling `frame.insert` many times, which has poor performance.  Consider joining all columns at once using pd.concat(axis=1) instead. To get a de-fragmented frame, use `newframe = frame.copy()`\n",
      "  _df[f'log_{f1}_mean_x_{f2}_mean'] = np.log(1+f1_mean) * np.log(1+f2_mean)\n",
      "/var/folders/wd/57_v9c5142x7mhyp18nb4bt80000gn/T/ipykernel_3353/1131820091.py:35: PerformanceWarning: DataFrame is highly fragmented.  This is usually the result of calling `frame.insert` many times, which has poor performance.  Consider joining all columns at once using pd.concat(axis=1) instead. To get a de-fragmented frame, use `newframe = frame.copy()`\n",
      "  _df[f'{f1}_mean_over_{f2}_mean'] = f1_mean / (1+f2_mean)\n",
      "/var/folders/wd/57_v9c5142x7mhyp18nb4bt80000gn/T/ipykernel_3353/1131820091.py:36: PerformanceWarning: DataFrame is highly fragmented.  This is usually the result of calling `frame.insert` many times, which has poor performance.  Consider joining all columns at once using pd.concat(axis=1) instead. To get a de-fragmented frame, use `newframe = frame.copy()`\n",
      "  _df[f'{f1}_skew_x_{f2}_skew'] = _df[f1+'_skew'] * _df[f2+'_skew']\n",
      "/var/folders/wd/57_v9c5142x7mhyp18nb4bt80000gn/T/ipykernel_3353/1131820091.py:34: PerformanceWarning: DataFrame is highly fragmented.  This is usually the result of calling `frame.insert` many times, which has poor performance.  Consider joining all columns at once using pd.concat(axis=1) instead. To get a de-fragmented frame, use `newframe = frame.copy()`\n",
      "  _df[f'log_{f1}_mean_x_{f2}_mean'] = np.log(1+f1_mean) * np.log(1+f2_mean)\n",
      "/var/folders/wd/57_v9c5142x7mhyp18nb4bt80000gn/T/ipykernel_3353/1131820091.py:35: PerformanceWarning: DataFrame is highly fragmented.  This is usually the result of calling `frame.insert` many times, which has poor performance.  Consider joining all columns at once using pd.concat(axis=1) instead. To get a de-fragmented frame, use `newframe = frame.copy()`\n",
      "  _df[f'{f1}_mean_over_{f2}_mean'] = f1_mean / (1+f2_mean)\n",
      "/var/folders/wd/57_v9c5142x7mhyp18nb4bt80000gn/T/ipykernel_3353/1131820091.py:36: PerformanceWarning: DataFrame is highly fragmented.  This is usually the result of calling `frame.insert` many times, which has poor performance.  Consider joining all columns at once using pd.concat(axis=1) instead. To get a de-fragmented frame, use `newframe = frame.copy()`\n",
      "  _df[f'{f1}_skew_x_{f2}_skew'] = _df[f1+'_skew'] * _df[f2+'_skew']\n",
      "/var/folders/wd/57_v9c5142x7mhyp18nb4bt80000gn/T/ipykernel_3353/1131820091.py:34: PerformanceWarning: DataFrame is highly fragmented.  This is usually the result of calling `frame.insert` many times, which has poor performance.  Consider joining all columns at once using pd.concat(axis=1) instead. To get a de-fragmented frame, use `newframe = frame.copy()`\n",
      "  _df[f'log_{f1}_mean_x_{f2}_mean'] = np.log(1+f1_mean) * np.log(1+f2_mean)\n",
      "/var/folders/wd/57_v9c5142x7mhyp18nb4bt80000gn/T/ipykernel_3353/1131820091.py:35: PerformanceWarning: DataFrame is highly fragmented.  This is usually the result of calling `frame.insert` many times, which has poor performance.  Consider joining all columns at once using pd.concat(axis=1) instead. To get a de-fragmented frame, use `newframe = frame.copy()`\n",
      "  _df[f'{f1}_mean_over_{f2}_mean'] = f1_mean / (1+f2_mean)\n",
      "/var/folders/wd/57_v9c5142x7mhyp18nb4bt80000gn/T/ipykernel_3353/1131820091.py:36: PerformanceWarning: DataFrame is highly fragmented.  This is usually the result of calling `frame.insert` many times, which has poor performance.  Consider joining all columns at once using pd.concat(axis=1) instead. To get a de-fragmented frame, use `newframe = frame.copy()`\n",
      "  _df[f'{f1}_skew_x_{f2}_skew'] = _df[f1+'_skew'] * _df[f2+'_skew']\n",
      "/var/folders/wd/57_v9c5142x7mhyp18nb4bt80000gn/T/ipykernel_3353/1131820091.py:34: PerformanceWarning: DataFrame is highly fragmented.  This is usually the result of calling `frame.insert` many times, which has poor performance.  Consider joining all columns at once using pd.concat(axis=1) instead. To get a de-fragmented frame, use `newframe = frame.copy()`\n",
      "  _df[f'log_{f1}_mean_x_{f2}_mean'] = np.log(1+f1_mean) * np.log(1+f2_mean)\n",
      "/var/folders/wd/57_v9c5142x7mhyp18nb4bt80000gn/T/ipykernel_3353/1131820091.py:35: PerformanceWarning: DataFrame is highly fragmented.  This is usually the result of calling `frame.insert` many times, which has poor performance.  Consider joining all columns at once using pd.concat(axis=1) instead. To get a de-fragmented frame, use `newframe = frame.copy()`\n",
      "  _df[f'{f1}_mean_over_{f2}_mean'] = f1_mean / (1+f2_mean)\n",
      "/var/folders/wd/57_v9c5142x7mhyp18nb4bt80000gn/T/ipykernel_3353/1131820091.py:36: PerformanceWarning: DataFrame is highly fragmented.  This is usually the result of calling `frame.insert` many times, which has poor performance.  Consider joining all columns at once using pd.concat(axis=1) instead. To get a de-fragmented frame, use `newframe = frame.copy()`\n",
      "  _df[f'{f1}_skew_x_{f2}_skew'] = _df[f1+'_skew'] * _df[f2+'_skew']\n",
      "/var/folders/wd/57_v9c5142x7mhyp18nb4bt80000gn/T/ipykernel_3353/1131820091.py:34: PerformanceWarning: DataFrame is highly fragmented.  This is usually the result of calling `frame.insert` many times, which has poor performance.  Consider joining all columns at once using pd.concat(axis=1) instead. To get a de-fragmented frame, use `newframe = frame.copy()`\n",
      "  _df[f'log_{f1}_mean_x_{f2}_mean'] = np.log(1+f1_mean) * np.log(1+f2_mean)\n",
      "/var/folders/wd/57_v9c5142x7mhyp18nb4bt80000gn/T/ipykernel_3353/1131820091.py:35: PerformanceWarning: DataFrame is highly fragmented.  This is usually the result of calling `frame.insert` many times, which has poor performance.  Consider joining all columns at once using pd.concat(axis=1) instead. To get a de-fragmented frame, use `newframe = frame.copy()`\n",
      "  _df[f'{f1}_mean_over_{f2}_mean'] = f1_mean / (1+f2_mean)\n",
      "/var/folders/wd/57_v9c5142x7mhyp18nb4bt80000gn/T/ipykernel_3353/1131820091.py:36: PerformanceWarning: DataFrame is highly fragmented.  This is usually the result of calling `frame.insert` many times, which has poor performance.  Consider joining all columns at once using pd.concat(axis=1) instead. To get a de-fragmented frame, use `newframe = frame.copy()`\n",
      "  _df[f'{f1}_skew_x_{f2}_skew'] = _df[f1+'_skew'] * _df[f2+'_skew']\n",
      "/var/folders/wd/57_v9c5142x7mhyp18nb4bt80000gn/T/ipykernel_3353/1131820091.py:34: PerformanceWarning: DataFrame is highly fragmented.  This is usually the result of calling `frame.insert` many times, which has poor performance.  Consider joining all columns at once using pd.concat(axis=1) instead. To get a de-fragmented frame, use `newframe = frame.copy()`\n",
      "  _df[f'log_{f1}_mean_x_{f2}_mean'] = np.log(1+f1_mean) * np.log(1+f2_mean)\n",
      "/var/folders/wd/57_v9c5142x7mhyp18nb4bt80000gn/T/ipykernel_3353/1131820091.py:35: PerformanceWarning: DataFrame is highly fragmented.  This is usually the result of calling `frame.insert` many times, which has poor performance.  Consider joining all columns at once using pd.concat(axis=1) instead. To get a de-fragmented frame, use `newframe = frame.copy()`\n",
      "  _df[f'{f1}_mean_over_{f2}_mean'] = f1_mean / (1+f2_mean)\n",
      "/var/folders/wd/57_v9c5142x7mhyp18nb4bt80000gn/T/ipykernel_3353/1131820091.py:36: PerformanceWarning: DataFrame is highly fragmented.  This is usually the result of calling `frame.insert` many times, which has poor performance.  Consider joining all columns at once using pd.concat(axis=1) instead. To get a de-fragmented frame, use `newframe = frame.copy()`\n",
      "  _df[f'{f1}_skew_x_{f2}_skew'] = _df[f1+'_skew'] * _df[f2+'_skew']\n",
      "/var/folders/wd/57_v9c5142x7mhyp18nb4bt80000gn/T/ipykernel_3353/1131820091.py:34: PerformanceWarning: DataFrame is highly fragmented.  This is usually the result of calling `frame.insert` many times, which has poor performance.  Consider joining all columns at once using pd.concat(axis=1) instead. To get a de-fragmented frame, use `newframe = frame.copy()`\n",
      "  _df[f'log_{f1}_mean_x_{f2}_mean'] = np.log(1+f1_mean) * np.log(1+f2_mean)\n",
      "/var/folders/wd/57_v9c5142x7mhyp18nb4bt80000gn/T/ipykernel_3353/1131820091.py:35: PerformanceWarning: DataFrame is highly fragmented.  This is usually the result of calling `frame.insert` many times, which has poor performance.  Consider joining all columns at once using pd.concat(axis=1) instead. To get a de-fragmented frame, use `newframe = frame.copy()`\n",
      "  _df[f'{f1}_mean_over_{f2}_mean'] = f1_mean / (1+f2_mean)\n",
      "/var/folders/wd/57_v9c5142x7mhyp18nb4bt80000gn/T/ipykernel_3353/1131820091.py:36: PerformanceWarning: DataFrame is highly fragmented.  This is usually the result of calling `frame.insert` many times, which has poor performance.  Consider joining all columns at once using pd.concat(axis=1) instead. To get a de-fragmented frame, use `newframe = frame.copy()`\n",
      "  _df[f'{f1}_skew_x_{f2}_skew'] = _df[f1+'_skew'] * _df[f2+'_skew']\n",
      "/var/folders/wd/57_v9c5142x7mhyp18nb4bt80000gn/T/ipykernel_3353/1131820091.py:34: PerformanceWarning: DataFrame is highly fragmented.  This is usually the result of calling `frame.insert` many times, which has poor performance.  Consider joining all columns at once using pd.concat(axis=1) instead. To get a de-fragmented frame, use `newframe = frame.copy()`\n",
      "  _df[f'log_{f1}_mean_x_{f2}_mean'] = np.log(1+f1_mean) * np.log(1+f2_mean)\n",
      "/var/folders/wd/57_v9c5142x7mhyp18nb4bt80000gn/T/ipykernel_3353/1131820091.py:35: PerformanceWarning: DataFrame is highly fragmented.  This is usually the result of calling `frame.insert` many times, which has poor performance.  Consider joining all columns at once using pd.concat(axis=1) instead. To get a de-fragmented frame, use `newframe = frame.copy()`\n",
      "  _df[f'{f1}_mean_over_{f2}_mean'] = f1_mean / (1+f2_mean)\n",
      "/var/folders/wd/57_v9c5142x7mhyp18nb4bt80000gn/T/ipykernel_3353/1131820091.py:36: PerformanceWarning: DataFrame is highly fragmented.  This is usually the result of calling `frame.insert` many times, which has poor performance.  Consider joining all columns at once using pd.concat(axis=1) instead. To get a de-fragmented frame, use `newframe = frame.copy()`\n",
      "  _df[f'{f1}_skew_x_{f2}_skew'] = _df[f1+'_skew'] * _df[f2+'_skew']\n",
      "/var/folders/wd/57_v9c5142x7mhyp18nb4bt80000gn/T/ipykernel_3353/1131820091.py:34: PerformanceWarning: DataFrame is highly fragmented.  This is usually the result of calling `frame.insert` many times, which has poor performance.  Consider joining all columns at once using pd.concat(axis=1) instead. To get a de-fragmented frame, use `newframe = frame.copy()`\n",
      "  _df[f'log_{f1}_mean_x_{f2}_mean'] = np.log(1+f1_mean) * np.log(1+f2_mean)\n",
      "/var/folders/wd/57_v9c5142x7mhyp18nb4bt80000gn/T/ipykernel_3353/1131820091.py:35: PerformanceWarning: DataFrame is highly fragmented.  This is usually the result of calling `frame.insert` many times, which has poor performance.  Consider joining all columns at once using pd.concat(axis=1) instead. To get a de-fragmented frame, use `newframe = frame.copy()`\n",
      "  _df[f'{f1}_mean_over_{f2}_mean'] = f1_mean / (1+f2_mean)\n",
      "/var/folders/wd/57_v9c5142x7mhyp18nb4bt80000gn/T/ipykernel_3353/1131820091.py:36: PerformanceWarning: DataFrame is highly fragmented.  This is usually the result of calling `frame.insert` many times, which has poor performance.  Consider joining all columns at once using pd.concat(axis=1) instead. To get a de-fragmented frame, use `newframe = frame.copy()`\n",
      "  _df[f'{f1}_skew_x_{f2}_skew'] = _df[f1+'_skew'] * _df[f2+'_skew']\n",
      "/var/folders/wd/57_v9c5142x7mhyp18nb4bt80000gn/T/ipykernel_3353/1131820091.py:34: PerformanceWarning: DataFrame is highly fragmented.  This is usually the result of calling `frame.insert` many times, which has poor performance.  Consider joining all columns at once using pd.concat(axis=1) instead. To get a de-fragmented frame, use `newframe = frame.copy()`\n",
      "  _df[f'log_{f1}_mean_x_{f2}_mean'] = np.log(1+f1_mean) * np.log(1+f2_mean)\n",
      "/var/folders/wd/57_v9c5142x7mhyp18nb4bt80000gn/T/ipykernel_3353/1131820091.py:35: PerformanceWarning: DataFrame is highly fragmented.  This is usually the result of calling `frame.insert` many times, which has poor performance.  Consider joining all columns at once using pd.concat(axis=1) instead. To get a de-fragmented frame, use `newframe = frame.copy()`\n",
      "  _df[f'{f1}_mean_over_{f2}_mean'] = f1_mean / (1+f2_mean)\n",
      "/var/folders/wd/57_v9c5142x7mhyp18nb4bt80000gn/T/ipykernel_3353/1131820091.py:36: PerformanceWarning: DataFrame is highly fragmented.  This is usually the result of calling `frame.insert` many times, which has poor performance.  Consider joining all columns at once using pd.concat(axis=1) instead. To get a de-fragmented frame, use `newframe = frame.copy()`\n",
      "  _df[f'{f1}_skew_x_{f2}_skew'] = _df[f1+'_skew'] * _df[f2+'_skew']\n",
      "/var/folders/wd/57_v9c5142x7mhyp18nb4bt80000gn/T/ipykernel_3353/1131820091.py:34: PerformanceWarning: DataFrame is highly fragmented.  This is usually the result of calling `frame.insert` many times, which has poor performance.  Consider joining all columns at once using pd.concat(axis=1) instead. To get a de-fragmented frame, use `newframe = frame.copy()`\n",
      "  _df[f'log_{f1}_mean_x_{f2}_mean'] = np.log(1+f1_mean) * np.log(1+f2_mean)\n",
      "/var/folders/wd/57_v9c5142x7mhyp18nb4bt80000gn/T/ipykernel_3353/1131820091.py:35: PerformanceWarning: DataFrame is highly fragmented.  This is usually the result of calling `frame.insert` many times, which has poor performance.  Consider joining all columns at once using pd.concat(axis=1) instead. To get a de-fragmented frame, use `newframe = frame.copy()`\n",
      "  _df[f'{f1}_mean_over_{f2}_mean'] = f1_mean / (1+f2_mean)\n",
      "/var/folders/wd/57_v9c5142x7mhyp18nb4bt80000gn/T/ipykernel_3353/1131820091.py:36: PerformanceWarning: DataFrame is highly fragmented.  This is usually the result of calling `frame.insert` many times, which has poor performance.  Consider joining all columns at once using pd.concat(axis=1) instead. To get a de-fragmented frame, use `newframe = frame.copy()`\n",
      "  _df[f'{f1}_skew_x_{f2}_skew'] = _df[f1+'_skew'] * _df[f2+'_skew']\n",
      "/var/folders/wd/57_v9c5142x7mhyp18nb4bt80000gn/T/ipykernel_3353/1131820091.py:34: PerformanceWarning: DataFrame is highly fragmented.  This is usually the result of calling `frame.insert` many times, which has poor performance.  Consider joining all columns at once using pd.concat(axis=1) instead. To get a de-fragmented frame, use `newframe = frame.copy()`\n",
      "  _df[f'log_{f1}_mean_x_{f2}_mean'] = np.log(1+f1_mean) * np.log(1+f2_mean)\n",
      "/var/folders/wd/57_v9c5142x7mhyp18nb4bt80000gn/T/ipykernel_3353/1131820091.py:35: PerformanceWarning: DataFrame is highly fragmented.  This is usually the result of calling `frame.insert` many times, which has poor performance.  Consider joining all columns at once using pd.concat(axis=1) instead. To get a de-fragmented frame, use `newframe = frame.copy()`\n",
      "  _df[f'{f1}_mean_over_{f2}_mean'] = f1_mean / (1+f2_mean)\n",
      "/var/folders/wd/57_v9c5142x7mhyp18nb4bt80000gn/T/ipykernel_3353/1131820091.py:36: PerformanceWarning: DataFrame is highly fragmented.  This is usually the result of calling `frame.insert` many times, which has poor performance.  Consider joining all columns at once using pd.concat(axis=1) instead. To get a de-fragmented frame, use `newframe = frame.copy()`\n",
      "  _df[f'{f1}_skew_x_{f2}_skew'] = _df[f1+'_skew'] * _df[f2+'_skew']\n",
      "/var/folders/wd/57_v9c5142x7mhyp18nb4bt80000gn/T/ipykernel_3353/1131820091.py:34: PerformanceWarning: DataFrame is highly fragmented.  This is usually the result of calling `frame.insert` many times, which has poor performance.  Consider joining all columns at once using pd.concat(axis=1) instead. To get a de-fragmented frame, use `newframe = frame.copy()`\n",
      "  _df[f'log_{f1}_mean_x_{f2}_mean'] = np.log(1+f1_mean) * np.log(1+f2_mean)\n",
      "/var/folders/wd/57_v9c5142x7mhyp18nb4bt80000gn/T/ipykernel_3353/1131820091.py:35: PerformanceWarning: DataFrame is highly fragmented.  This is usually the result of calling `frame.insert` many times, which has poor performance.  Consider joining all columns at once using pd.concat(axis=1) instead. To get a de-fragmented frame, use `newframe = frame.copy()`\n",
      "  _df[f'{f1}_mean_over_{f2}_mean'] = f1_mean / (1+f2_mean)\n",
      "/var/folders/wd/57_v9c5142x7mhyp18nb4bt80000gn/T/ipykernel_3353/1131820091.py:36: PerformanceWarning: DataFrame is highly fragmented.  This is usually the result of calling `frame.insert` many times, which has poor performance.  Consider joining all columns at once using pd.concat(axis=1) instead. To get a de-fragmented frame, use `newframe = frame.copy()`\n",
      "  _df[f'{f1}_skew_x_{f2}_skew'] = _df[f1+'_skew'] * _df[f2+'_skew']\n",
      "/var/folders/wd/57_v9c5142x7mhyp18nb4bt80000gn/T/ipykernel_3353/1131820091.py:34: PerformanceWarning: DataFrame is highly fragmented.  This is usually the result of calling `frame.insert` many times, which has poor performance.  Consider joining all columns at once using pd.concat(axis=1) instead. To get a de-fragmented frame, use `newframe = frame.copy()`\n",
      "  _df[f'log_{f1}_mean_x_{f2}_mean'] = np.log(1+f1_mean) * np.log(1+f2_mean)\n",
      "/var/folders/wd/57_v9c5142x7mhyp18nb4bt80000gn/T/ipykernel_3353/1131820091.py:35: PerformanceWarning: DataFrame is highly fragmented.  This is usually the result of calling `frame.insert` many times, which has poor performance.  Consider joining all columns at once using pd.concat(axis=1) instead. To get a de-fragmented frame, use `newframe = frame.copy()`\n",
      "  _df[f'{f1}_mean_over_{f2}_mean'] = f1_mean / (1+f2_mean)\n",
      "/var/folders/wd/57_v9c5142x7mhyp18nb4bt80000gn/T/ipykernel_3353/1131820091.py:36: PerformanceWarning: DataFrame is highly fragmented.  This is usually the result of calling `frame.insert` many times, which has poor performance.  Consider joining all columns at once using pd.concat(axis=1) instead. To get a de-fragmented frame, use `newframe = frame.copy()`\n",
      "  _df[f'{f1}_skew_x_{f2}_skew'] = _df[f1+'_skew'] * _df[f2+'_skew']\n",
      "/var/folders/wd/57_v9c5142x7mhyp18nb4bt80000gn/T/ipykernel_3353/1131820091.py:34: PerformanceWarning: DataFrame is highly fragmented.  This is usually the result of calling `frame.insert` many times, which has poor performance.  Consider joining all columns at once using pd.concat(axis=1) instead. To get a de-fragmented frame, use `newframe = frame.copy()`\n",
      "  _df[f'log_{f1}_mean_x_{f2}_mean'] = np.log(1+f1_mean) * np.log(1+f2_mean)\n",
      "/var/folders/wd/57_v9c5142x7mhyp18nb4bt80000gn/T/ipykernel_3353/1131820091.py:35: PerformanceWarning: DataFrame is highly fragmented.  This is usually the result of calling `frame.insert` many times, which has poor performance.  Consider joining all columns at once using pd.concat(axis=1) instead. To get a de-fragmented frame, use `newframe = frame.copy()`\n",
      "  _df[f'{f1}_mean_over_{f2}_mean'] = f1_mean / (1+f2_mean)\n",
      "/var/folders/wd/57_v9c5142x7mhyp18nb4bt80000gn/T/ipykernel_3353/1131820091.py:36: PerformanceWarning: DataFrame is highly fragmented.  This is usually the result of calling `frame.insert` many times, which has poor performance.  Consider joining all columns at once using pd.concat(axis=1) instead. To get a de-fragmented frame, use `newframe = frame.copy()`\n",
      "  _df[f'{f1}_skew_x_{f2}_skew'] = _df[f1+'_skew'] * _df[f2+'_skew']\n",
      "/var/folders/wd/57_v9c5142x7mhyp18nb4bt80000gn/T/ipykernel_3353/1131820091.py:34: PerformanceWarning: DataFrame is highly fragmented.  This is usually the result of calling `frame.insert` many times, which has poor performance.  Consider joining all columns at once using pd.concat(axis=1) instead. To get a de-fragmented frame, use `newframe = frame.copy()`\n",
      "  _df[f'log_{f1}_mean_x_{f2}_mean'] = np.log(1+f1_mean) * np.log(1+f2_mean)\n",
      "/var/folders/wd/57_v9c5142x7mhyp18nb4bt80000gn/T/ipykernel_3353/1131820091.py:35: PerformanceWarning: DataFrame is highly fragmented.  This is usually the result of calling `frame.insert` many times, which has poor performance.  Consider joining all columns at once using pd.concat(axis=1) instead. To get a de-fragmented frame, use `newframe = frame.copy()`\n",
      "  _df[f'{f1}_mean_over_{f2}_mean'] = f1_mean / (1+f2_mean)\n",
      "/var/folders/wd/57_v9c5142x7mhyp18nb4bt80000gn/T/ipykernel_3353/1131820091.py:36: PerformanceWarning: DataFrame is highly fragmented.  This is usually the result of calling `frame.insert` many times, which has poor performance.  Consider joining all columns at once using pd.concat(axis=1) instead. To get a de-fragmented frame, use `newframe = frame.copy()`\n",
      "  _df[f'{f1}_skew_x_{f2}_skew'] = _df[f1+'_skew'] * _df[f2+'_skew']\n",
      "/var/folders/wd/57_v9c5142x7mhyp18nb4bt80000gn/T/ipykernel_3353/1131820091.py:34: PerformanceWarning: DataFrame is highly fragmented.  This is usually the result of calling `frame.insert` many times, which has poor performance.  Consider joining all columns at once using pd.concat(axis=1) instead. To get a de-fragmented frame, use `newframe = frame.copy()`\n",
      "  _df[f'log_{f1}_mean_x_{f2}_mean'] = np.log(1+f1_mean) * np.log(1+f2_mean)\n",
      "/var/folders/wd/57_v9c5142x7mhyp18nb4bt80000gn/T/ipykernel_3353/1131820091.py:35: PerformanceWarning: DataFrame is highly fragmented.  This is usually the result of calling `frame.insert` many times, which has poor performance.  Consider joining all columns at once using pd.concat(axis=1) instead. To get a de-fragmented frame, use `newframe = frame.copy()`\n",
      "  _df[f'{f1}_mean_over_{f2}_mean'] = f1_mean / (1+f2_mean)\n",
      "/var/folders/wd/57_v9c5142x7mhyp18nb4bt80000gn/T/ipykernel_3353/1131820091.py:36: PerformanceWarning: DataFrame is highly fragmented.  This is usually the result of calling `frame.insert` many times, which has poor performance.  Consider joining all columns at once using pd.concat(axis=1) instead. To get a de-fragmented frame, use `newframe = frame.copy()`\n",
      "  _df[f'{f1}_skew_x_{f2}_skew'] = _df[f1+'_skew'] * _df[f2+'_skew']\n",
      "/var/folders/wd/57_v9c5142x7mhyp18nb4bt80000gn/T/ipykernel_3353/1131820091.py:34: PerformanceWarning: DataFrame is highly fragmented.  This is usually the result of calling `frame.insert` many times, which has poor performance.  Consider joining all columns at once using pd.concat(axis=1) instead. To get a de-fragmented frame, use `newframe = frame.copy()`\n",
      "  _df[f'log_{f1}_mean_x_{f2}_mean'] = np.log(1+f1_mean) * np.log(1+f2_mean)\n",
      "/var/folders/wd/57_v9c5142x7mhyp18nb4bt80000gn/T/ipykernel_3353/1131820091.py:35: PerformanceWarning: DataFrame is highly fragmented.  This is usually the result of calling `frame.insert` many times, which has poor performance.  Consider joining all columns at once using pd.concat(axis=1) instead. To get a de-fragmented frame, use `newframe = frame.copy()`\n",
      "  _df[f'{f1}_mean_over_{f2}_mean'] = f1_mean / (1+f2_mean)\n",
      "/var/folders/wd/57_v9c5142x7mhyp18nb4bt80000gn/T/ipykernel_3353/1131820091.py:36: PerformanceWarning: DataFrame is highly fragmented.  This is usually the result of calling `frame.insert` many times, which has poor performance.  Consider joining all columns at once using pd.concat(axis=1) instead. To get a de-fragmented frame, use `newframe = frame.copy()`\n",
      "  _df[f'{f1}_skew_x_{f2}_skew'] = _df[f1+'_skew'] * _df[f2+'_skew']\n"
     ]
    }
   ],
   "source": [
    "test_df = preprocessing(test_dfs)"
   ]
  },
  {
   "cell_type": "code",
   "execution_count": 105,
   "metadata": {},
   "outputs": [
    {
     "name": "stdout",
     "output_type": "stream",
     "text": [
      "Weighted average of target values (0.5=balanced):\n"
     ]
    },
    {
     "data": {
      "text/plain": [
       "0.7111289570490228"
      ]
     },
     "execution_count": 105,
     "metadata": {},
     "output_type": "execute_result"
    }
   ],
   "source": [
    "alpha = 0.97\n",
    "weights = alpha * train_df[target] + (1-alpha) * (1-train_df[target])\n",
    "print('Weighted average of target values (0.5=balanced):')\n",
    "sum(weights * train_df[target]) / sum(weights)"
   ]
  },
  {
   "cell_type": "markdown",
   "metadata": {},
   "source": [
    "# Imputation"
   ]
  },
  {
   "cell_type": "code",
   "execution_count": 106,
   "metadata": {},
   "outputs": [
    {
     "name": "stdout",
     "output_type": "stream",
     "text": [
      "183 training features\n"
     ]
    }
   ],
   "source": [
    "missing_values = (train_df.isna().sum() / len(train_df)).sort_values()\n",
    "threshold = 0.1\n",
    "features = list(missing_values[missing_values <= threshold].index)\n",
    "features.remove(target)\n",
    "print(f'{len(features)} training features')\n",
    "\n",
    "X_train, y_train = train_df[features].to_numpy(), train_df[target].to_numpy()\n",
    "X_test, y_test = test_df[features].to_numpy(), test_df[target].to_numpy()\n",
    "\n",
    "imputer = SimpleImputer()\n",
    "imputer.fit(X_train, y_train)\n",
    "\n",
    "X_train = imputer.transform(X_train)\n",
    "X_test = imputer.transform(X_test)"
   ]
  },
  {
   "cell_type": "markdown",
   "metadata": {},
   "source": [
    "# Adaboost Classification"
   ]
  },
  {
   "cell_type": "code",
   "execution_count": 122,
   "metadata": {},
   "outputs": [
    {
     "data": {
      "text/plain": [
       "AdaBoostClassifier(n_estimators=350)"
      ]
     },
     "execution_count": 122,
     "metadata": {},
     "output_type": "execute_result"
    }
   ],
   "source": [
    "model = AdaBoostClassifier(n_estimators=350)\n",
    "model.fit(X_train, y_train, weights)"
   ]
  },
  {
   "cell_type": "code",
   "execution_count": 123,
   "metadata": {},
   "outputs": [],
   "source": [
    "y_predict_train = model.predict_proba(X_train)[:,1:].squeeze()\n",
    "y_predict_test = model.predict_proba(X_test)[:,1:].squeeze()"
   ]
  },
  {
   "cell_type": "code",
   "execution_count": null,
   "metadata": {},
   "outputs": [],
   "source": [
    "# HOW TO PLOT IMPORTANT FEATURES??"
   ]
  },
  {
   "cell_type": "code",
   "execution_count": 124,
   "metadata": {},
   "outputs": [
    {
     "data": {
      "text/plain": [
       "0.49826989619377154"
      ]
     },
     "execution_count": 124,
     "metadata": {},
     "output_type": "execute_result"
    }
   ],
   "source": [
    "y_predict_train_label = model.predict(X_train)\n",
    "f1_score(train_df[target], y_predict_train_label)"
   ]
  },
  {
   "cell_type": "code",
   "execution_count": 108,
   "metadata": {},
   "outputs": [],
   "source": [
    "# SAVE MODEL TO FILE"
   ]
  },
  {
   "cell_type": "markdown",
   "metadata": {},
   "source": [
    "# Test"
   ]
  },
  {
   "cell_type": "code",
   "execution_count": 125,
   "metadata": {},
   "outputs": [
    {
     "data": {
      "image/png": "[encoded data removed]",
      "text/plain": [
       "<Figure size 504x504 with 1 Axes>"
      ]
     },
     "metadata": {
      "needs_background": "light"
     },
     "output_type": "display_data"
    }
   ],
   "source": [
    "train_fpr, train_tpr, train_thresholds = roc_curve(y_true=train_df[target], y_score=y_predict_train)\n",
    "test_fpr, test_tpr, test_thresholds = roc_curve(y_true=test_df[target], y_score=y_predict_test)\n",
    "\n",
    "train_auc_score = roc_auc_score(y_true=train_df[target], y_score=y_predict_train)\n",
    "test_auc_score = roc_auc_score(y_true=test_df[target], y_score=y_predict_test)\n",
    "\n",
    "plt.figure(figsize=(7,7))\n",
    "plt.title('ROC Curve')\n",
    "plt.xlabel('False-Positive rate')\n",
    "plt.ylabel('True-Positive rate')\n",
    "plt.plot(train_fpr, train_tpr, color='purple', label='Train')\n",
    "plt.plot(test_fpr, test_tpr, color='green', label='Test')\n",
    "plt.legend([f'Train, AUC={train_auc_score:.3}', f'Test, AUC={test_auc_score:.3}'])\n",
    "plt.plot([0, 1], [0, 1], color=\"navy\", lw=2, linestyle=\"--\")\n",
    "plt.show()\n"
   ]
  },
  {
   "cell_type": "code",
   "execution_count": 126,
   "metadata": {},
   "outputs": [
    {
     "data": {
      "image/png": "[encoded data removed]",
      "text/plain": [
       "<Figure size 720x360 with 1 Axes>"
      ]
     },
     "metadata": {
      "needs_background": "light"
     },
     "output_type": "display_data"
    }
   ],
   "source": [
    "thresholds = np.linspace(0,1,100)\n",
    "_f1 = [f1_score(y_true=test_df[target], y_pred=1*(y_predict_test >= t)) for t in thresholds]\n",
    "\n",
    "plt.figure(figsize=(10,5))\n",
    "plt.title('F1 score using different thresholds')\n",
    "plt.xlabel('Threshold')\n",
    "plt.ylabel('F1 Score')\n",
    "plt.scatter(thresholds, _f1)\n",
    "plt.show()"
   ]
  },
  {
   "cell_type": "code",
   "execution_count": 127,
   "metadata": {},
   "outputs": [
    {
     "data": {
      "text/plain": [
       "0.2517162471395881"
      ]
     },
     "execution_count": 127,
     "metadata": {},
     "output_type": "execute_result"
    }
   ],
   "source": [
    "max_f1 = max(_f1)\n",
    "optimal_threshold = _f1.index(max_f1)\n",
    "max_f1"
   ]
  },
  {
   "cell_type": "markdown",
   "metadata": {},
   "source": [
    "# Random Forest Classifiction"
   ]
  },
  {
   "cell_type": "code",
   "execution_count": 128,
   "metadata": {},
   "outputs": [
    {
     "name": "stdout",
     "output_type": "stream",
     "text": [
      "235 training features\n"
     ]
    }
   ],
   "source": [
    "missing_values = (train_df.isna().sum() / len(train_df)).sort_values()\n",
    "threshold = 0.2\n",
    "features = list(missing_values[missing_values <= threshold].index)\n",
    "features.remove(target)\n",
    "print(f'{len(features)} training features')\n",
    "\n",
    "X_train, y_train = train_df[features].to_numpy(), train_df[target].to_numpy()\n",
    "X_test, y_test = test_df[features].to_numpy(), test_df[target].to_numpy()\n",
    "\n",
    "imputer = SimpleImputer(strategy='median')\n",
    "imputer.fit(X_train, y_train)\n",
    "\n",
    "X_train = imputer.transform(X_train)\n",
    "X_test = imputer.transform(X_test)\n",
    "\n",
    "alpha = 0.8\n",
    "weights = alpha * train_df[target] + (1-alpha) * (1-train_df[target])\n",
    "print('Weighted average of target values (0.5=balanced):')\n",
    "sum(weights * train_df[target]) / sum(weights)"
   ]
  },
  {
   "cell_type": "code",
   "execution_count": 130,
   "metadata": {},
   "outputs": [
    {
     "data": {
      "text/plain": [
       "RandomForestClassifier(max_features=10, n_estimators=256)"
      ]
     },
     "execution_count": 130,
     "metadata": {},
     "output_type": "execute_result"
    }
   ],
   "source": [
    "forest = RandomForestClassifier(n_estimators=256, max_features=10)\n",
    "print('Fitting...')\n",
    "forest.fit(X_train, y_train, weights)\n",
    "\n",
    "y_predict_train = forest.predict_proba(X_train)[:,1:].squeeze()\n",
    "y_predict_test = forest.predict_proba(X_test)[:,1:].squeeze()\n",
    "y_predict_train_label = forest.predict(X_train)\n",
    "print('Train f1:', f1_score(train_df[target], y_predict_train_label))\n",
    "\n",
    "thresholds = np.linspace(0,1,100)\n",
    "_f1 = [f1_score(y_true=test_df[target], y_pred=1*(y_predict_test >= t)) for t in thresholds]\n",
    "max_f1 = max(_f1)\n",
    "optimal_threshold = thresholds[_f1.index(max_f1)]\n",
    "print(f'max f1: {max_f1:.5}\\nUsing threshold of {optimal_threshold:.4}')"
   ]
  },
  {
   "cell_type": "code",
   "execution_count": 135,
   "metadata": {},
   "outputs": [
    {
     "data": {
      "image/png": "[encoded data removed]",
      "text/plain": [
       "<Figure size 504x504 with 1 Axes>"
      ]
     },
     "metadata": {
      "needs_background": "light"
     },
     "output_type": "display_data"
    }
   ],
   "source": [
    "train_fpr, train_tpr, train_thresholds = roc_curve(y_true=train_df[target], y_score=y_predict_train)\n",
    "test_fpr, test_tpr, test_thresholds = roc_curve(y_true=test_df[target], y_score=y_predict_test)\n",
    "\n",
    "train_auc_score = roc_auc_score(y_true=train_df[target], y_score=y_predict_train)\n",
    "test_auc_score = roc_auc_score(y_true=test_df[target], y_score=y_predict_test)\n",
    "\n",
    "plt.figure(figsize=(7,7))\n",
    "plt.title('ROC Curve')\n",
    "plt.xlabel('False-Positive rate')\n",
    "plt.ylabel('True-Positive rate')\n",
    "plt.plot(train_fpr, train_tpr, color='purple', label='Train')\n",
    "plt.plot(test_fpr, test_tpr, color='green', label='Test')\n",
    "plt.legend([f'Train, AUC={train_auc_score:.3}', f'Test, AUC={test_auc_score:.3}'])\n",
    "plt.plot([0, 1], [0, 1], color=\"navy\", lw=2, linestyle=\"--\")\n",
    "plt.show()"
   ]
  },
  {
   "cell_type": "code",
   "execution_count": 136,
   "metadata": {},
   "outputs": [
    {
     "data": {
      "image/png": "[encoded data removed]",
      "text/plain": [
       "<Figure size 720x360 with 1 Axes>"
      ]
     },
     "metadata": {
      "needs_background": "light"
     },
     "output_type": "display_data"
    }
   ],
   "source": [
    "thresholds = np.linspace(0,1,100)\n",
    "_f1 = [f1_score(y_true=test_df[target], y_pred=1*(y_predict_test >= t)) for t in thresholds]\n",
    "max_f1 = max(_f1)\n",
    "optimal_threshold = thresholds[_f1.index(max_f1)]\n",
    "print(f'max f1: {max_f1:.5}\\nUsing threshold of {optimal_threshold:.4}')\n",
    "plt.figure(figsize=(10,5))\n",
    "plt.title('F1 score using different thresholds')\n",
    "plt.xlabel('Threshold')\n",
    "plt.ylabel('F1 Score')\n",
    "plt.scatter(thresholds, _f1)\n",
    "plt.show()"
   ]
  }
 ],
 "metadata": {
  "interpreter": {
   "hash": "7d538358a4a844c2698117f72ddbeea822b864d784b5f9260aa8445549be4a00"
  },
  "kernelspec": {
   "display_name": "Python 3.10.4 ('deep')",
   "language": "python",
   "name": "python3"
  },
  "language_info": {
   "codemirror_mode": {
    "name": "ipython",
    "version": 3
   },
   "file_extension": ".py",
   "mimetype": "text/x-python",
   "name": "python",
   "nbconvert_exporter": "python",
   "pygments_lexer": "ipython3",
   "version": "3.10.4"
  },
  "orig_nbformat": 4
 },
 "nbformat": 4,
 "nbformat_minor": 2
}
