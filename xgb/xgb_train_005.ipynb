{
 "cells": [
  {
   "cell_type": "code",
   "execution_count": 52,
   "metadata": {},
   "outputs": [],
   "source": [
    "import os\n",
    "import pickle\n",
    "import xgboost as xgb\n",
    "import numpy as np\n",
    "import pandas as pd\n",
    "from sklearn.metrics import roc_auc_score, roc_curve, f1_score\n",
    "from sklearn.impute import SimpleImputer\n",
    "import matplotlib.pyplot as plt\n",
    "from tqdm import tqdm\n",
    "\n",
    "train_data_path = '../data/train'\n",
    "test_data_path = '../data/test'\n",
    "\n",
    "train_files = os.listdir(train_data_path)\n",
    "test_files = os.listdir(test_data_path)\n",
    "\n",
    "vitals_features = ['HR', 'O2Sat', 'Temp', 'SBP', 'MAP', 'DBP', 'Resp', 'EtCO2']\n",
    "lab_features = ['BaseExcess','HCO3','FiO2','pH','PaCO2','SaO2','AST','BUN','Alkalinephos','Calcium','Chloride','Creatinine','Bilirubin_direct','Glucose','Lactate','Magnesium','Phosphate','Potassium','Bilirubin_total','TroponinI','Hct','Hgb','PTT','WBC','Fibrinogen','Platelets']\n",
    "demographic_features = ['Age', 'Gender', 'Unit1', 'Unit2', 'HospAdmTime', 'ICULOS']\n",
    "target = 'SepsisLabel'"
   ]
  },
  {
   "cell_type": "code",
   "execution_count": 30,
   "metadata": {},
   "outputs": [],
   "source": [
    "dynamic_features = vitals_features + lab_features\n",
    "take_max_cols = ['SepsisLabel', 'Age', 'Gender', 'ICULOS']\n",
    "\n",
    "def preprocessing(dfs: list[pd.DataFrame], interactions=True):\n",
    "    patient_vecs = []\n",
    "    with tqdm(total=len(dfs)) as pbar:\n",
    "        for i in range(len(dfs)):\n",
    "            _df = dfs[i]\n",
    "            _mean = _df[dynamic_features].mean().add_suffix('_mean')\n",
    "            _rolling_mean = _df[dynamic_features].rolling(3).mean().mean().add_suffix('_rolling_mean')\n",
    "            _diff_mean = _df[dynamic_features].diff().mean().add_suffix('_diff_mean')\n",
    "            _sem = _df[dynamic_features].sem().add_suffix('_sem')\n",
    "            _max2 = _df[['SepsisLabel', 'Gender', 'Age', 'ICULOS']].max()\n",
    "            _skew  = _df[dynamic_features].skew().add_suffix('_skew')\n",
    "            _pvec = pd.concat([_mean, _rolling_mean, _diff_mean, _sem, _max2, _skew], axis=0)\n",
    "            patient_vecs.append(_pvec)\n",
    "            pbar.update(1)\n",
    "\n",
    "\n",
    "    _df = pd.DataFrame(patient_vecs)\n",
    "    _df.reset_index(drop=True, inplace=True)\n",
    "\n",
    "    if interactions:\n",
    "        for f1 in vitals_features:\n",
    "            for f2 in vitals_features:\n",
    "                if f1 != f2 and f1 + '_mean' in _df and f2 + '_mean' in _df:\n",
    "                    f1_mean = _df[f1 + '_mean']\n",
    "                    f2_mean = _df[f2 + '_mean']\n",
    "                    _df[f'{f1}_mean_x_{f2}_mean'] = f1_mean * f2_mean\n",
    "                    # _df[f'{f1}_mean_over_{f2}_mean'] = f1_mean / (1+f2_mean)\n",
    "                    _df[f'{f1}_skew_x_{f2}_skew'] = _df[f1+'_skew'] * _df[f2+'_skew']\n",
    "\n",
    "        # for f1 in vitals_features:\n",
    "        #     for f2 in vitals_features:\n",
    "        #         if f1 != f2 and f1 + '_std' in _df and f2 + '_std' in _df:\n",
    "        #             f1_std = _df[f1 + '_std']\n",
    "        #             f2_std = _df[f2 + '_std']\n",
    "        #             _df[f'{f1}_std_x_{f2}_std'] = f1_std * f2_std\n",
    "\n",
    "    return _df"
   ]
  },
  {
   "cell_type": "code",
   "execution_count": 7,
   "metadata": {},
   "outputs": [],
   "source": [
    "def read_dataframes(data_path:str) -> list[pd.DataFrame]:\n",
    "    _dfs = []\n",
    "    _files = os.listdir(data_path)\n",
    "    with tqdm(total=len(_files)) as pbar:\n",
    "        for f in _files:\n",
    "            _dfs.append(pd.read_csv(os.path.join(data_path, f), sep='|'))\n",
    "            pbar.update(1)\n",
    "    print(f'Found {len(_dfs)} dataframes in {data_path}')\n",
    "    return _dfs"
   ]
  },
  {
   "cell_type": "markdown",
   "metadata": {},
   "source": [
    "### Load training data"
   ]
  },
  {
   "cell_type": "code",
   "execution_count": 8,
   "metadata": {},
   "outputs": [
    {
     "name": "stderr",
     "output_type": "stream",
     "text": [
      "100%|██████████| 20000/20000 [01:12<00:00, 276.55it/s]"
     ]
    },
    {
     "name": "stdout",
     "output_type": "stream",
     "text": [
      "Found 20000 dataframes in ../data/train\n"
     ]
    },
    {
     "name": "stderr",
     "output_type": "stream",
     "text": [
      "\n"
     ]
    }
   ],
   "source": [
    "train_dfs = read_dataframes(train_data_path)"
   ]
  },
  {
   "cell_type": "code",
   "execution_count": 31,
   "metadata": {},
   "outputs": [
    {
     "name": "stderr",
     "output_type": "stream",
     "text": [
      "100%|██████████| 20000/20000 [03:54<00:00, 85.27it/s] \n"
     ]
    }
   ],
   "source": [
    "train_df = preprocessing(train_dfs, interactions=False)"
   ]
  },
  {
   "cell_type": "code",
   "execution_count": 11,
   "metadata": {},
   "outputs": [
    {
     "name": "stderr",
     "output_type": "stream",
     "text": [
      "100%|██████████| 10000/10000 [00:38<00:00, 262.61it/s]"
     ]
    },
    {
     "name": "stdout",
     "output_type": "stream",
     "text": [
      "Found 10000 dataframes in ../data/test\n"
     ]
    },
    {
     "name": "stderr",
     "output_type": "stream",
     "text": [
      "\n"
     ]
    }
   ],
   "source": [
    "test_dfs = read_dataframes(test_data_path)"
   ]
  },
  {
   "cell_type": "code",
   "execution_count": 12,
   "metadata": {},
   "outputs": [
    {
     "name": "stderr",
     "output_type": "stream",
     "text": [
      "100%|██████████| 10000/10000 [02:41<00:00, 61.84it/s]\n",
      "/var/folders/wd/57_v9c5142x7mhyp18nb4bt80000gn/T/ipykernel_6300/3720521992.py:35: PerformanceWarning: DataFrame is highly fragmented.  This is usually the result of calling `frame.insert` many times, which has poor performance.  Consider joining all columns at once using pd.concat(axis=1) instead. To get a de-fragmented frame, use `newframe = frame.copy()`\n",
      "  _df[f'{f1}_skew_x_{f2}_skew'] = _df[f1+'_skew'] * _df[f2+'_skew']\n",
      "/var/folders/wd/57_v9c5142x7mhyp18nb4bt80000gn/T/ipykernel_6300/3720521992.py:33: PerformanceWarning: DataFrame is highly fragmented.  This is usually the result of calling `frame.insert` many times, which has poor performance.  Consider joining all columns at once using pd.concat(axis=1) instead. To get a de-fragmented frame, use `newframe = frame.copy()`\n",
      "  _df[f'{f1}_mean_x_{f2}_mean'] = f1_mean * f2_mean\n",
      "/var/folders/wd/57_v9c5142x7mhyp18nb4bt80000gn/T/ipykernel_6300/3720521992.py:35: PerformanceWarning: DataFrame is highly fragmented.  This is usually the result of calling `frame.insert` many times, which has poor performance.  Consider joining all columns at once using pd.concat(axis=1) instead. To get a de-fragmented frame, use `newframe = frame.copy()`\n",
      "  _df[f'{f1}_skew_x_{f2}_skew'] = _df[f1+'_skew'] * _df[f2+'_skew']\n",
      "/var/folders/wd/57_v9c5142x7mhyp18nb4bt80000gn/T/ipykernel_6300/3720521992.py:33: PerformanceWarning: DataFrame is highly fragmented.  This is usually the result of calling `frame.insert` many times, which has poor performance.  Consider joining all columns at once using pd.concat(axis=1) instead. To get a de-fragmented frame, use `newframe = frame.copy()`\n",
      "  _df[f'{f1}_mean_x_{f2}_mean'] = f1_mean * f2_mean\n",
      "/var/folders/wd/57_v9c5142x7mhyp18nb4bt80000gn/T/ipykernel_6300/3720521992.py:35: PerformanceWarning: DataFrame is highly fragmented.  This is usually the result of calling `frame.insert` many times, which has poor performance.  Consider joining all columns at once using pd.concat(axis=1) instead. To get a de-fragmented frame, use `newframe = frame.copy()`\n",
      "  _df[f'{f1}_skew_x_{f2}_skew'] = _df[f1+'_skew'] * _df[f2+'_skew']\n",
      "/var/folders/wd/57_v9c5142x7mhyp18nb4bt80000gn/T/ipykernel_6300/3720521992.py:33: PerformanceWarning: DataFrame is highly fragmented.  This is usually the result of calling `frame.insert` many times, which has poor performance.  Consider joining all columns at once using pd.concat(axis=1) instead. To get a de-fragmented frame, use `newframe = frame.copy()`\n",
      "  _df[f'{f1}_mean_x_{f2}_mean'] = f1_mean * f2_mean\n",
      "/var/folders/wd/57_v9c5142x7mhyp18nb4bt80000gn/T/ipykernel_6300/3720521992.py:35: PerformanceWarning: DataFrame is highly fragmented.  This is usually the result of calling `frame.insert` many times, which has poor performance.  Consider joining all columns at once using pd.concat(axis=1) instead. To get a de-fragmented frame, use `newframe = frame.copy()`\n",
      "  _df[f'{f1}_skew_x_{f2}_skew'] = _df[f1+'_skew'] * _df[f2+'_skew']\n",
      "/var/folders/wd/57_v9c5142x7mhyp18nb4bt80000gn/T/ipykernel_6300/3720521992.py:33: PerformanceWarning: DataFrame is highly fragmented.  This is usually the result of calling `frame.insert` many times, which has poor performance.  Consider joining all columns at once using pd.concat(axis=1) instead. To get a de-fragmented frame, use `newframe = frame.copy()`\n",
      "  _df[f'{f1}_mean_x_{f2}_mean'] = f1_mean * f2_mean\n",
      "/var/folders/wd/57_v9c5142x7mhyp18nb4bt80000gn/T/ipykernel_6300/3720521992.py:35: PerformanceWarning: DataFrame is highly fragmented.  This is usually the result of calling `frame.insert` many times, which has poor performance.  Consider joining all columns at once using pd.concat(axis=1) instead. To get a de-fragmented frame, use `newframe = frame.copy()`\n",
      "  _df[f'{f1}_skew_x_{f2}_skew'] = _df[f1+'_skew'] * _df[f2+'_skew']\n",
      "/var/folders/wd/57_v9c5142x7mhyp18nb4bt80000gn/T/ipykernel_6300/3720521992.py:33: PerformanceWarning: DataFrame is highly fragmented.  This is usually the result of calling `frame.insert` many times, which has poor performance.  Consider joining all columns at once using pd.concat(axis=1) instead. To get a de-fragmented frame, use `newframe = frame.copy()`\n",
      "  _df[f'{f1}_mean_x_{f2}_mean'] = f1_mean * f2_mean\n",
      "/var/folders/wd/57_v9c5142x7mhyp18nb4bt80000gn/T/ipykernel_6300/3720521992.py:35: PerformanceWarning: DataFrame is highly fragmented.  This is usually the result of calling `frame.insert` many times, which has poor performance.  Consider joining all columns at once using pd.concat(axis=1) instead. To get a de-fragmented frame, use `newframe = frame.copy()`\n",
      "  _df[f'{f1}_skew_x_{f2}_skew'] = _df[f1+'_skew'] * _df[f2+'_skew']\n",
      "/var/folders/wd/57_v9c5142x7mhyp18nb4bt80000gn/T/ipykernel_6300/3720521992.py:33: PerformanceWarning: DataFrame is highly fragmented.  This is usually the result of calling `frame.insert` many times, which has poor performance.  Consider joining all columns at once using pd.concat(axis=1) instead. To get a de-fragmented frame, use `newframe = frame.copy()`\n",
      "  _df[f'{f1}_mean_x_{f2}_mean'] = f1_mean * f2_mean\n",
      "/var/folders/wd/57_v9c5142x7mhyp18nb4bt80000gn/T/ipykernel_6300/3720521992.py:35: PerformanceWarning: DataFrame is highly fragmented.  This is usually the result of calling `frame.insert` many times, which has poor performance.  Consider joining all columns at once using pd.concat(axis=1) instead. To get a de-fragmented frame, use `newframe = frame.copy()`\n",
      "  _df[f'{f1}_skew_x_{f2}_skew'] = _df[f1+'_skew'] * _df[f2+'_skew']\n"
     ]
    }
   ],
   "source": [
    "test_df = preprocessing(test_dfs)"
   ]
  },
  {
   "cell_type": "code",
   "execution_count": 132,
   "metadata": {},
   "outputs": [
    {
     "data": {
      "text/plain": [
       "'88 training features'"
      ]
     },
     "execution_count": 132,
     "metadata": {},
     "output_type": "execute_result"
    }
   ],
   "source": [
    "missing_values = (train_df.isna().sum() / len(train_df)).sort_values()\n",
    "threshold = 0.7\n",
    "features = list(missing_values[missing_values <= threshold].index)\n",
    "features.remove(target)\n",
    "f'{len(features)} training features'"
   ]
  },
  {
   "cell_type": "code",
   "execution_count": 133,
   "metadata": {},
   "outputs": [],
   "source": [
    "X_train = train_df[features]\n",
    "y_train = train_df[target]\n",
    "\n",
    "X_test = test_df[features]\n",
    "y_test = test_df[target]"
   ]
  },
  {
   "cell_type": "code",
   "execution_count": 103,
   "metadata": {},
   "outputs": [],
   "source": [
    "imputer = SimpleImputer()\n",
    "imputer.fit(train_df[features], train_df[target])\n",
    "\n",
    "X_train = imputer.transform(train_df[features])\n",
    "y_train = train_df[target]\n",
    "\n",
    "X_test = imputer.transform(test_df[features])\n",
    "y_test = test_df[target]"
   ]
  },
  {
   "cell_type": "code",
   "execution_count": 134,
   "metadata": {},
   "outputs": [
    {
     "name": "stdout",
     "output_type": "stream",
     "text": [
      "Weighted average of target values (0.5=balanced):\n"
     ]
    },
    {
     "data": {
      "text/plain": [
       "0.6036045643596033"
      ]
     },
     "execution_count": 134,
     "metadata": {},
     "output_type": "execute_result"
    }
   ],
   "source": [
    "alpha = 0.99\n",
    "weights = alpha * train_df[target] + (1-alpha) * (1-train_df[target])\n",
    "weights = 10 * train_df[target] + 0.5 * (1-train_df[target])\n",
    "print('Weighted average of target values (0.5=balanced):')\n",
    "sum(weights * train_df[target]) / sum(weights)"
   ]
  },
  {
   "cell_type": "code",
   "execution_count": 135,
   "metadata": {},
   "outputs": [
    {
     "name": "stderr",
     "output_type": "stream",
     "text": [
      "/Users/snirlugassy/miniconda3/envs/deep/lib/python3.10/site-packages/xgboost/data.py:250: FutureWarning: pandas.Int64Index is deprecated and will be removed from pandas in a future version. Use pandas.Index with the appropriate dtype instead.\n",
      "  elif isinstance(data.columns, (pd.Int64Index, pd.RangeIndex)):\n"
     ]
    }
   ],
   "source": [
    "train_data = xgb.DMatrix(X_train, label=y_train, weight=weights)\n",
    "test_data = xgb.DMatrix(X_test)"
   ]
  },
  {
   "cell_type": "code",
   "execution_count": 136,
   "metadata": {},
   "outputs": [],
   "source": [
    "training_params = {\n",
    "    'objective': 'binary:logistic',\n",
    "    'eval_metric': 'logloss',\n",
    "}\n",
    "\n",
    "NUM_ROUNDS = 128\n",
    "\n",
    "bst = xgb.train(params=training_params, dtrain=train_data, num_boost_round=NUM_ROUNDS)"
   ]
  },
  {
   "cell_type": "code",
   "execution_count": 137,
   "metadata": {},
   "outputs": [
    {
     "data": {
      "text/plain": [
       "(array([0.00058045, 0.00322601, 0.00112469, ..., 0.00304237, 0.00078928,\n",
       "        0.00116065], dtype=float32),\n",
       " numpy.ndarray)"
      ]
     },
     "execution_count": 137,
     "metadata": {},
     "output_type": "execute_result"
    }
   ],
   "source": [
    "y_predict_train = bst.predict(train_data)\n",
    "y_predict_train, type(y_predict_train)"
   ]
  },
  {
   "cell_type": "code",
   "execution_count": 138,
   "metadata": {},
   "outputs": [
    {
     "data": {
      "image/png": "[encoded data removed]",
      "text/plain": [
       "<Figure size 360x216 with 1 Axes>"
      ]
     },
     "metadata": {
      "needs_background": "light"
     },
     "output_type": "display_data"
    }
   ],
   "source": [
    "fig, ax = plt.subplots()\n",
    "fig.set_size_inches(5,3)\n",
    "xgb.plot_importance(bst, ax, max_num_features=10)\n",
    "plt.show()"
   ]
  },
  {
   "cell_type": "code",
   "execution_count": 139,
   "metadata": {},
   "outputs": [
    {
     "data": {
      "text/plain": [
       "1.0"
      ]
     },
     "execution_count": 139,
     "metadata": {},
     "output_type": "execute_result"
    }
   ],
   "source": [
    "y_predict_train_label = 1 * (y_predict_train >= 0.5)\n",
    "f1_score(train_df[target], y_predict_train_label)"
   ]
  },
  {
   "cell_type": "code",
   "execution_count": 140,
   "metadata": {},
   "outputs": [],
   "source": [
    "bst.save_model('005.model')"
   ]
  },
  {
   "cell_type": "markdown",
   "metadata": {},
   "source": [
    "# Test"
   ]
  },
  {
   "cell_type": "code",
   "execution_count": 141,
   "metadata": {},
   "outputs": [],
   "source": [
    "y_predict_test = bst.predict(test_data)"
   ]
  },
  {
   "cell_type": "code",
   "execution_count": 142,
   "metadata": {},
   "outputs": [
    {
     "data": {
      "image/png": "[encoded data removed]",
      "text/plain": [
       "<Figure size 504x504 with 1 Axes>"
      ]
     },
     "metadata": {
      "needs_background": "light"
     },
     "output_type": "display_data"
    }
   ],
   "source": [
    "train_fpr, train_tpr, train_thresholds = roc_curve(y_true=train_df[target], y_score=y_predict_train)\n",
    "test_fpr, test_tpr, test_thresholds = roc_curve(y_true=test_df[target], y_score=y_predict_test)\n",
    "\n",
    "train_auc_score = roc_auc_score(y_true=train_df[target], y_score=y_predict_train)\n",
    "test_auc_score = roc_auc_score(y_true=test_df[target], y_score=y_predict_test)\n",
    "\n",
    "plt.figure(figsize=(7,7))\n",
    "plt.title('ROC Curve')\n",
    "plt.xlabel('False-Positive rate')\n",
    "plt.ylabel('True-Positive rate')\n",
    "plt.plot(train_fpr, train_tpr, color='purple', label='Train')\n",
    "plt.plot(test_fpr, test_tpr, color='green', label='Test')\n",
    "plt.legend([f'Train, AUC={train_auc_score:.3}', f'Test, AUC={test_auc_score:.3}'])\n",
    "plt.plot([0, 1], [0, 1], color=\"navy\", lw=2, linestyle=\"--\")\n",
    "plt.show()\n"
   ]
  },
  {
   "cell_type": "code",
   "execution_count": 143,
   "metadata": {},
   "outputs": [
    {
     "data": {
      "image/png": "[encoded data removed]",
      "text/plain": [
       "<Figure size 720x360 with 1 Axes>"
      ]
     },
     "metadata": {
      "needs_background": "light"
     },
     "output_type": "display_data"
    }
   ],
   "source": [
    "thresholds = np.linspace(0,1,100)\n",
    "_f1 = [f1_score(y_true=test_df[target], y_pred=1*(y_predict_test >= t)) for t in thresholds]\n",
    "\n",
    "plt.figure(figsize=(10,5))\n",
    "plt.title('F1 score using different thresholds')\n",
    "plt.xlabel('Threshold')\n",
    "plt.ylabel('F1 Score')\n",
    "plt.scatter(thresholds, _f1)\n",
    "plt.show()"
   ]
  },
  {
   "cell_type": "code",
   "execution_count": 144,
   "metadata": {},
   "outputs": [
    {
     "data": {
      "text/plain": [
       "0.6714285714285714"
      ]
     },
     "execution_count": 144,
     "metadata": {},
     "output_type": "execute_result"
    }
   ],
   "source": [
    "max_f1 = max(_f1)\n",
    "optimal_threshold = _f1.index(max_f1)\n",
    "max_f1"
   ]
  }
 ],
 "metadata": {
  "interpreter": {
   "hash": "7d538358a4a844c2698117f72ddbeea822b864d784b5f9260aa8445549be4a00"
  },
  "kernelspec": {
   "display_name": "Python 3.10.4 ('deep')",
   "language": "python",
   "name": "python3"
  },
  "language_info": {
   "codemirror_mode": {
    "name": "ipython",
    "version": 3
   },
   "file_extension": ".py",
   "mimetype": "text/x-python",
   "name": "python",
   "nbconvert_exporter": "python",
   "pygments_lexer": "ipython3",
   "version": "3.10.4"
  },
  "orig_nbformat": 4
 },
 "nbformat": 4,
 "nbformat_minor": 2
}
