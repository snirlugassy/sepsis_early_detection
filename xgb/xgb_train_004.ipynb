{
 "cells": [
  {
   "cell_type": "code",
   "execution_count": 4,
   "metadata": {},
   "outputs": [],
   "source": [
    "import os\n",
    "import pickle\n",
    "import xgboost as xgb\n",
    "import numpy as np\n",
    "import pandas as pd\n",
    "from sklearn.metrics import roc_auc_score, roc_curve, f1_score\n",
    "import matplotlib.pyplot as plt\n",
    "from tqdm import tqdm\n",
    "\n",
    "train_data_path = '../data/train'\n",
    "test_data_path = '../data/test'\n",
    "\n",
    "train_files = os.listdir(train_data_path)\n",
    "test_files = os.listdir(test_data_path)\n",
    "\n",
    "vitals_features = ['HR', 'O2Sat', 'Temp', 'SBP', 'MAP', 'DBP', 'Resp', 'EtCO2']\n",
    "lab_features = ['BaseExcess','HCO3','FiO2','pH','PaCO2','SaO2','AST','BUN','Alkalinephos','Calcium','Chloride','Creatinine','Bilirubin_direct','Glucose','Lactate','Magnesium','Phosphate','Potassium','Bilirubin_total','TroponinI','Hct','Hgb','PTT','WBC','Fibrinogen','Platelets']\n",
    "demographic_features = ['Age', 'Gender', 'Unit1', 'Unit2', 'HospAdmTime', 'ICULOS']\n",
    "target = 'SepsisLabel'"
   ]
  },
  {
   "cell_type": "code",
   "execution_count": 5,
   "metadata": {},
   "outputs": [],
   "source": [
    "dynamic_features = vitals_features + lab_features\n",
    "take_max_cols = ['SepsisLabel', 'Age', 'Gender', 'ICULOS']\n",
    "\n",
    "def preprocessing(dfs: list[pd.DataFrame], interactions=True):\n",
    "    patient_vecs = []\n",
    "    with tqdm(total=len(dfs)) as pbar:\n",
    "        for i in range(len(dfs)):\n",
    "            _df = dfs[i]\n",
    "            _mean = _df[dynamic_features].mean().add_suffix('_mean')\n",
    "            _rolling_mean = _df[dynamic_features].rolling(3).mean().mean().add_suffix('_rolling_mean')\n",
    "            _diff_mean = _df[dynamic_features].diff().mean().add_suffix('_diff_mean')\n",
    "            _median = _df[dynamic_features].median().add_suffix('_median')\n",
    "            _mean_minus_median = (_df[dynamic_features].mean() - _df[dynamic_features].median()).add_suffix('_mean_minus_median')\n",
    "            _std = _df[dynamic_features].std().add_suffix('_std')\n",
    "            _sem = _df[dynamic_features].sem().add_suffix('_sem')\n",
    "            _range = (_df[dynamic_features].max() - _df[dynamic_features].min()).add_suffix('_range')\n",
    "            _max1 = _df[vitals_features].max().add_suffix('_max')\n",
    "            _max2 = _df[['SepsisLabel', 'Gender', 'Age', 'ICULOS']].max()\n",
    "            _skew  = _df[dynamic_features].skew().add_suffix('_skew')\n",
    "            _pvec = pd.concat([_mean, _rolling_mean, _diff_mean, _range, _std, _sem, _median, _mean_minus_median, _max1, _max2, _skew], axis=0)\n",
    "            patient_vecs.append(_pvec)\n",
    "            pbar.update(1)\n",
    "\n",
    "\n",
    "    _df = pd.DataFrame(patient_vecs)\n",
    "    _df.reset_index(drop=True, inplace=True)\n",
    "\n",
    "    if interactions:\n",
    "        for f1 in vitals_features:\n",
    "            for f2 in vitals_features:\n",
    "                if f1 != f2 and f1 + '_mean' in _df and f2 + '_mean' in _df:\n",
    "                    f1_mean = _df[f1 + '_mean']\n",
    "                    f2_mean = _df[f2 + '_mean']\n",
    "                    _df[f'log_{f1}_mean_x_{f2}_mean'] = np.log(1+f1_mean) * np.log(1+f2_mean)\n",
    "                    _df[f'{f1}_mean_over_{f2}_mean'] = f1_mean / (1+f2_mean)\n",
    "                    _df[f'{f1}_skew_x_{f2}_skew'] = _df[f1+'_skew'] * _df[f2+'_skew']\n",
    "\n",
    "    return _df"
   ]
  },
  {
   "cell_type": "code",
   "execution_count": 6,
   "metadata": {},
   "outputs": [],
   "source": [
    "def read_dataframes(data_path:str) -> list[pd.DataFrame]:\n",
    "    _dfs = []\n",
    "    _files = os.listdir(data_path)\n",
    "    with tqdm(total=len(_files)) as pbar:\n",
    "        for f in _files:\n",
    "            _dfs.append(pd.read_csv(os.path.join(data_path, f), sep='|'))\n",
    "            pbar.update(1)\n",
    "    print(f'Found {len(_dfs)} dataframes in {data_path}')\n",
    "    return _dfs"
   ]
  },
  {
   "cell_type": "markdown",
   "metadata": {},
   "source": [
    "### Load training data"
   ]
  },
  {
   "cell_type": "code",
   "execution_count": 7,
   "metadata": {},
   "outputs": [
    {
     "name": "stderr",
     "output_type": "stream",
     "text": [
      "100%|██████████| 20000/20000 [01:20<00:00, 247.15it/s]"
     ]
    },
    {
     "name": "stdout",
     "output_type": "stream",
     "text": [
      "Found 20000 dataframes in ../data/train\n"
     ]
    },
    {
     "name": "stderr",
     "output_type": "stream",
     "text": [
      "\n"
     ]
    }
   ],
   "source": [
    "train_dfs = read_dataframes(train_data_path)"
   ]
  },
  {
   "cell_type": "code",
   "execution_count": 8,
   "metadata": {},
   "outputs": [
    {
     "name": "stderr",
     "output_type": "stream",
     "text": [
      "100%|██████████| 20000/20000 [06:55<00:00, 48.11it/s]\n",
      "/var/folders/wd/57_v9c5142x7mhyp18nb4bt80000gn/T/ipykernel_6799/1131820091.py:34: PerformanceWarning: DataFrame is highly fragmented.  This is usually the result of calling `frame.insert` many times, which has poor performance.  Consider joining all columns at once using pd.concat(axis=1) instead. To get a de-fragmented frame, use `newframe = frame.copy()`\n",
      "  _df[f'log_{f1}_mean_x_{f2}_mean'] = np.log(1+f1_mean) * np.log(1+f2_mean)\n",
      "/var/folders/wd/57_v9c5142x7mhyp18nb4bt80000gn/T/ipykernel_6799/1131820091.py:35: PerformanceWarning: DataFrame is highly fragmented.  This is usually the result of calling `frame.insert` many times, which has poor performance.  Consider joining all columns at once using pd.concat(axis=1) instead. To get a de-fragmented frame, use `newframe = frame.copy()`\n",
      "  _df[f'{f1}_mean_over_{f2}_mean'] = f1_mean / (1+f2_mean)\n",
      "/var/folders/wd/57_v9c5142x7mhyp18nb4bt80000gn/T/ipykernel_6799/1131820091.py:36: PerformanceWarning: DataFrame is highly fragmented.  This is usually the result of calling `frame.insert` many times, which has poor performance.  Consider joining all columns at once using pd.concat(axis=1) instead. To get a de-fragmented frame, use `newframe = frame.copy()`\n",
      "  _df[f'{f1}_skew_x_{f2}_skew'] = _df[f1+'_skew'] * _df[f2+'_skew']\n",
      "/var/folders/wd/57_v9c5142x7mhyp18nb4bt80000gn/T/ipykernel_6799/1131820091.py:34: PerformanceWarning: DataFrame is highly fragmented.  This is usually the result of calling `frame.insert` many times, which has poor performance.  Consider joining all columns at once using pd.concat(axis=1) instead. To get a de-fragmented frame, use `newframe = frame.copy()`\n",
      "  _df[f'log_{f1}_mean_x_{f2}_mean'] = np.log(1+f1_mean) * np.log(1+f2_mean)\n",
      "/var/folders/wd/57_v9c5142x7mhyp18nb4bt80000gn/T/ipykernel_6799/1131820091.py:35: PerformanceWarning: DataFrame is highly fragmented.  This is usually the result of calling `frame.insert` many times, which has poor performance.  Consider joining all columns at once using pd.concat(axis=1) instead. To get a de-fragmented frame, use `newframe = frame.copy()`\n",
      "  _df[f'{f1}_mean_over_{f2}_mean'] = f1_mean / (1+f2_mean)\n",
      "/var/folders/wd/57_v9c5142x7mhyp18nb4bt80000gn/T/ipykernel_6799/1131820091.py:36: PerformanceWarning: DataFrame is highly fragmented.  This is usually the result of calling `frame.insert` many times, which has poor performance.  Consider joining all columns at once using pd.concat(axis=1) instead. To get a de-fragmented frame, use `newframe = frame.copy()`\n",
      "  _df[f'{f1}_skew_x_{f2}_skew'] = _df[f1+'_skew'] * _df[f2+'_skew']\n",
      "/var/folders/wd/57_v9c5142x7mhyp18nb4bt80000gn/T/ipykernel_6799/1131820091.py:34: PerformanceWarning: DataFrame is highly fragmented.  This is usually the result of calling `frame.insert` many times, which has poor performance.  Consider joining all columns at once using pd.concat(axis=1) instead. To get a de-fragmented frame, use `newframe = frame.copy()`\n",
      "  _df[f'log_{f1}_mean_x_{f2}_mean'] = np.log(1+f1_mean) * np.log(1+f2_mean)\n",
      "/var/folders/wd/57_v9c5142x7mhyp18nb4bt80000gn/T/ipykernel_6799/1131820091.py:35: PerformanceWarning: DataFrame is highly fragmented.  This is usually the result of calling `frame.insert` many times, which has poor performance.  Consider joining all columns at once using pd.concat(axis=1) instead. To get a de-fragmented frame, use `newframe = frame.copy()`\n",
      "  _df[f'{f1}_mean_over_{f2}_mean'] = f1_mean / (1+f2_mean)\n",
      "/var/folders/wd/57_v9c5142x7mhyp18nb4bt80000gn/T/ipykernel_6799/1131820091.py:36: PerformanceWarning: DataFrame is highly fragmented.  This is usually the result of calling `frame.insert` many times, which has poor performance.  Consider joining all columns at once using pd.concat(axis=1) instead. To get a de-fragmented frame, use `newframe = frame.copy()`\n",
      "  _df[f'{f1}_skew_x_{f2}_skew'] = _df[f1+'_skew'] * _df[f2+'_skew']\n",
      "/var/folders/wd/57_v9c5142x7mhyp18nb4bt80000gn/T/ipykernel_6799/1131820091.py:34: PerformanceWarning: DataFrame is highly fragmented.  This is usually the result of calling `frame.insert` many times, which has poor performance.  Consider joining all columns at once using pd.concat(axis=1) instead. To get a de-fragmented frame, use `newframe = frame.copy()`\n",
      "  _df[f'log_{f1}_mean_x_{f2}_mean'] = np.log(1+f1_mean) * np.log(1+f2_mean)\n",
      "/var/folders/wd/57_v9c5142x7mhyp18nb4bt80000gn/T/ipykernel_6799/1131820091.py:35: PerformanceWarning: DataFrame is highly fragmented.  This is usually the result of calling `frame.insert` many times, which has poor performance.  Consider joining all columns at once using pd.concat(axis=1) instead. To get a de-fragmented frame, use `newframe = frame.copy()`\n",
      "  _df[f'{f1}_mean_over_{f2}_mean'] = f1_mean / (1+f2_mean)\n",
      "/var/folders/wd/57_v9c5142x7mhyp18nb4bt80000gn/T/ipykernel_6799/1131820091.py:36: PerformanceWarning: DataFrame is highly fragmented.  This is usually the result of calling `frame.insert` many times, which has poor performance.  Consider joining all columns at once using pd.concat(axis=1) instead. To get a de-fragmented frame, use `newframe = frame.copy()`\n",
      "  _df[f'{f1}_skew_x_{f2}_skew'] = _df[f1+'_skew'] * _df[f2+'_skew']\n",
      "/var/folders/wd/57_v9c5142x7mhyp18nb4bt80000gn/T/ipykernel_6799/1131820091.py:34: PerformanceWarning: DataFrame is highly fragmented.  This is usually the result of calling `frame.insert` many times, which has poor performance.  Consider joining all columns at once using pd.concat(axis=1) instead. To get a de-fragmented frame, use `newframe = frame.copy()`\n",
      "  _df[f'log_{f1}_mean_x_{f2}_mean'] = np.log(1+f1_mean) * np.log(1+f2_mean)\n",
      "/var/folders/wd/57_v9c5142x7mhyp18nb4bt80000gn/T/ipykernel_6799/1131820091.py:35: PerformanceWarning: DataFrame is highly fragmented.  This is usually the result of calling `frame.insert` many times, which has poor performance.  Consider joining all columns at once using pd.concat(axis=1) instead. To get a de-fragmented frame, use `newframe = frame.copy()`\n",
      "  _df[f'{f1}_mean_over_{f2}_mean'] = f1_mean / (1+f2_mean)\n",
      "/var/folders/wd/57_v9c5142x7mhyp18nb4bt80000gn/T/ipykernel_6799/1131820091.py:36: PerformanceWarning: DataFrame is highly fragmented.  This is usually the result of calling `frame.insert` many times, which has poor performance.  Consider joining all columns at once using pd.concat(axis=1) instead. To get a de-fragmented frame, use `newframe = frame.copy()`\n",
      "  _df[f'{f1}_skew_x_{f2}_skew'] = _df[f1+'_skew'] * _df[f2+'_skew']\n",
      "/var/folders/wd/57_v9c5142x7mhyp18nb4bt80000gn/T/ipykernel_6799/1131820091.py:34: PerformanceWarning: DataFrame is highly fragmented.  This is usually the result of calling `frame.insert` many times, which has poor performance.  Consider joining all columns at once using pd.concat(axis=1) instead. To get a de-fragmented frame, use `newframe = frame.copy()`\n",
      "  _df[f'log_{f1}_mean_x_{f2}_mean'] = np.log(1+f1_mean) * np.log(1+f2_mean)\n",
      "/var/folders/wd/57_v9c5142x7mhyp18nb4bt80000gn/T/ipykernel_6799/1131820091.py:35: PerformanceWarning: DataFrame is highly fragmented.  This is usually the result of calling `frame.insert` many times, which has poor performance.  Consider joining all columns at once using pd.concat(axis=1) instead. To get a de-fragmented frame, use `newframe = frame.copy()`\n",
      "  _df[f'{f1}_mean_over_{f2}_mean'] = f1_mean / (1+f2_mean)\n",
      "/var/folders/wd/57_v9c5142x7mhyp18nb4bt80000gn/T/ipykernel_6799/1131820091.py:36: PerformanceWarning: DataFrame is highly fragmented.  This is usually the result of calling `frame.insert` many times, which has poor performance.  Consider joining all columns at once using pd.concat(axis=1) instead. To get a de-fragmented frame, use `newframe = frame.copy()`\n",
      "  _df[f'{f1}_skew_x_{f2}_skew'] = _df[f1+'_skew'] * _df[f2+'_skew']\n",
      "/var/folders/wd/57_v9c5142x7mhyp18nb4bt80000gn/T/ipykernel_6799/1131820091.py:34: PerformanceWarning: DataFrame is highly fragmented.  This is usually the result of calling `frame.insert` many times, which has poor performance.  Consider joining all columns at once using pd.concat(axis=1) instead. To get a de-fragmented frame, use `newframe = frame.copy()`\n",
      "  _df[f'log_{f1}_mean_x_{f2}_mean'] = np.log(1+f1_mean) * np.log(1+f2_mean)\n",
      "/var/folders/wd/57_v9c5142x7mhyp18nb4bt80000gn/T/ipykernel_6799/1131820091.py:35: PerformanceWarning: DataFrame is highly fragmented.  This is usually the result of calling `frame.insert` many times, which has poor performance.  Consider joining all columns at once using pd.concat(axis=1) instead. To get a de-fragmented frame, use `newframe = frame.copy()`\n",
      "  _df[f'{f1}_mean_over_{f2}_mean'] = f1_mean / (1+f2_mean)\n",
      "/var/folders/wd/57_v9c5142x7mhyp18nb4bt80000gn/T/ipykernel_6799/1131820091.py:36: PerformanceWarning: DataFrame is highly fragmented.  This is usually the result of calling `frame.insert` many times, which has poor performance.  Consider joining all columns at once using pd.concat(axis=1) instead. To get a de-fragmented frame, use `newframe = frame.copy()`\n",
      "  _df[f'{f1}_skew_x_{f2}_skew'] = _df[f1+'_skew'] * _df[f2+'_skew']\n",
      "/var/folders/wd/57_v9c5142x7mhyp18nb4bt80000gn/T/ipykernel_6799/1131820091.py:34: PerformanceWarning: DataFrame is highly fragmented.  This is usually the result of calling `frame.insert` many times, which has poor performance.  Consider joining all columns at once using pd.concat(axis=1) instead. To get a de-fragmented frame, use `newframe = frame.copy()`\n",
      "  _df[f'log_{f1}_mean_x_{f2}_mean'] = np.log(1+f1_mean) * np.log(1+f2_mean)\n",
      "/var/folders/wd/57_v9c5142x7mhyp18nb4bt80000gn/T/ipykernel_6799/1131820091.py:35: PerformanceWarning: DataFrame is highly fragmented.  This is usually the result of calling `frame.insert` many times, which has poor performance.  Consider joining all columns at once using pd.concat(axis=1) instead. To get a de-fragmented frame, use `newframe = frame.copy()`\n",
      "  _df[f'{f1}_mean_over_{f2}_mean'] = f1_mean / (1+f2_mean)\n",
      "/var/folders/wd/57_v9c5142x7mhyp18nb4bt80000gn/T/ipykernel_6799/1131820091.py:36: PerformanceWarning: DataFrame is highly fragmented.  This is usually the result of calling `frame.insert` many times, which has poor performance.  Consider joining all columns at once using pd.concat(axis=1) instead. To get a de-fragmented frame, use `newframe = frame.copy()`\n",
      "  _df[f'{f1}_skew_x_{f2}_skew'] = _df[f1+'_skew'] * _df[f2+'_skew']\n",
      "/var/folders/wd/57_v9c5142x7mhyp18nb4bt80000gn/T/ipykernel_6799/1131820091.py:34: PerformanceWarning: DataFrame is highly fragmented.  This is usually the result of calling `frame.insert` many times, which has poor performance.  Consider joining all columns at once using pd.concat(axis=1) instead. To get a de-fragmented frame, use `newframe = frame.copy()`\n",
      "  _df[f'log_{f1}_mean_x_{f2}_mean'] = np.log(1+f1_mean) * np.log(1+f2_mean)\n",
      "/var/folders/wd/57_v9c5142x7mhyp18nb4bt80000gn/T/ipykernel_6799/1131820091.py:35: PerformanceWarning: DataFrame is highly fragmented.  This is usually the result of calling `frame.insert` many times, which has poor performance.  Consider joining all columns at once using pd.concat(axis=1) instead. To get a de-fragmented frame, use `newframe = frame.copy()`\n",
      "  _df[f'{f1}_mean_over_{f2}_mean'] = f1_mean / (1+f2_mean)\n",
      "/var/folders/wd/57_v9c5142x7mhyp18nb4bt80000gn/T/ipykernel_6799/1131820091.py:36: PerformanceWarning: DataFrame is highly fragmented.  This is usually the result of calling `frame.insert` many times, which has poor performance.  Consider joining all columns at once using pd.concat(axis=1) instead. To get a de-fragmented frame, use `newframe = frame.copy()`\n",
      "  _df[f'{f1}_skew_x_{f2}_skew'] = _df[f1+'_skew'] * _df[f2+'_skew']\n",
      "/var/folders/wd/57_v9c5142x7mhyp18nb4bt80000gn/T/ipykernel_6799/1131820091.py:34: PerformanceWarning: DataFrame is highly fragmented.  This is usually the result of calling `frame.insert` many times, which has poor performance.  Consider joining all columns at once using pd.concat(axis=1) instead. To get a de-fragmented frame, use `newframe = frame.copy()`\n",
      "  _df[f'log_{f1}_mean_x_{f2}_mean'] = np.log(1+f1_mean) * np.log(1+f2_mean)\n",
      "/var/folders/wd/57_v9c5142x7mhyp18nb4bt80000gn/T/ipykernel_6799/1131820091.py:35: PerformanceWarning: DataFrame is highly fragmented.  This is usually the result of calling `frame.insert` many times, which has poor performance.  Consider joining all columns at once using pd.concat(axis=1) instead. To get a de-fragmented frame, use `newframe = frame.copy()`\n",
      "  _df[f'{f1}_mean_over_{f2}_mean'] = f1_mean / (1+f2_mean)\n",
      "/var/folders/wd/57_v9c5142x7mhyp18nb4bt80000gn/T/ipykernel_6799/1131820091.py:36: PerformanceWarning: DataFrame is highly fragmented.  This is usually the result of calling `frame.insert` many times, which has poor performance.  Consider joining all columns at once using pd.concat(axis=1) instead. To get a de-fragmented frame, use `newframe = frame.copy()`\n",
      "  _df[f'{f1}_skew_x_{f2}_skew'] = _df[f1+'_skew'] * _df[f2+'_skew']\n",
      "/var/folders/wd/57_v9c5142x7mhyp18nb4bt80000gn/T/ipykernel_6799/1131820091.py:34: PerformanceWarning: DataFrame is highly fragmented.  This is usually the result of calling `frame.insert` many times, which has poor performance.  Consider joining all columns at once using pd.concat(axis=1) instead. To get a de-fragmented frame, use `newframe = frame.copy()`\n",
      "  _df[f'log_{f1}_mean_x_{f2}_mean'] = np.log(1+f1_mean) * np.log(1+f2_mean)\n",
      "/var/folders/wd/57_v9c5142x7mhyp18nb4bt80000gn/T/ipykernel_6799/1131820091.py:35: PerformanceWarning: DataFrame is highly fragmented.  This is usually the result of calling `frame.insert` many times, which has poor performance.  Consider joining all columns at once using pd.concat(axis=1) instead. To get a de-fragmented frame, use `newframe = frame.copy()`\n",
      "  _df[f'{f1}_mean_over_{f2}_mean'] = f1_mean / (1+f2_mean)\n",
      "/var/folders/wd/57_v9c5142x7mhyp18nb4bt80000gn/T/ipykernel_6799/1131820091.py:36: PerformanceWarning: DataFrame is highly fragmented.  This is usually the result of calling `frame.insert` many times, which has poor performance.  Consider joining all columns at once using pd.concat(axis=1) instead. To get a de-fragmented frame, use `newframe = frame.copy()`\n",
      "  _df[f'{f1}_skew_x_{f2}_skew'] = _df[f1+'_skew'] * _df[f2+'_skew']\n",
      "/var/folders/wd/57_v9c5142x7mhyp18nb4bt80000gn/T/ipykernel_6799/1131820091.py:34: PerformanceWarning: DataFrame is highly fragmented.  This is usually the result of calling `frame.insert` many times, which has poor performance.  Consider joining all columns at once using pd.concat(axis=1) instead. To get a de-fragmented frame, use `newframe = frame.copy()`\n",
      "  _df[f'log_{f1}_mean_x_{f2}_mean'] = np.log(1+f1_mean) * np.log(1+f2_mean)\n",
      "/var/folders/wd/57_v9c5142x7mhyp18nb4bt80000gn/T/ipykernel_6799/1131820091.py:35: PerformanceWarning: DataFrame is highly fragmented.  This is usually the result of calling `frame.insert` many times, which has poor performance.  Consider joining all columns at once using pd.concat(axis=1) instead. To get a de-fragmented frame, use `newframe = frame.copy()`\n",
      "  _df[f'{f1}_mean_over_{f2}_mean'] = f1_mean / (1+f2_mean)\n",
      "/var/folders/wd/57_v9c5142x7mhyp18nb4bt80000gn/T/ipykernel_6799/1131820091.py:36: PerformanceWarning: DataFrame is highly fragmented.  This is usually the result of calling `frame.insert` many times, which has poor performance.  Consider joining all columns at once using pd.concat(axis=1) instead. To get a de-fragmented frame, use `newframe = frame.copy()`\n",
      "  _df[f'{f1}_skew_x_{f2}_skew'] = _df[f1+'_skew'] * _df[f2+'_skew']\n",
      "/var/folders/wd/57_v9c5142x7mhyp18nb4bt80000gn/T/ipykernel_6799/1131820091.py:34: PerformanceWarning: DataFrame is highly fragmented.  This is usually the result of calling `frame.insert` many times, which has poor performance.  Consider joining all columns at once using pd.concat(axis=1) instead. To get a de-fragmented frame, use `newframe = frame.copy()`\n",
      "  _df[f'log_{f1}_mean_x_{f2}_mean'] = np.log(1+f1_mean) * np.log(1+f2_mean)\n",
      "/var/folders/wd/57_v9c5142x7mhyp18nb4bt80000gn/T/ipykernel_6799/1131820091.py:35: PerformanceWarning: DataFrame is highly fragmented.  This is usually the result of calling `frame.insert` many times, which has poor performance.  Consider joining all columns at once using pd.concat(axis=1) instead. To get a de-fragmented frame, use `newframe = frame.copy()`\n",
      "  _df[f'{f1}_mean_over_{f2}_mean'] = f1_mean / (1+f2_mean)\n",
      "/var/folders/wd/57_v9c5142x7mhyp18nb4bt80000gn/T/ipykernel_6799/1131820091.py:36: PerformanceWarning: DataFrame is highly fragmented.  This is usually the result of calling `frame.insert` many times, which has poor performance.  Consider joining all columns at once using pd.concat(axis=1) instead. To get a de-fragmented frame, use `newframe = frame.copy()`\n",
      "  _df[f'{f1}_skew_x_{f2}_skew'] = _df[f1+'_skew'] * _df[f2+'_skew']\n",
      "/var/folders/wd/57_v9c5142x7mhyp18nb4bt80000gn/T/ipykernel_6799/1131820091.py:34: PerformanceWarning: DataFrame is highly fragmented.  This is usually the result of calling `frame.insert` many times, which has poor performance.  Consider joining all columns at once using pd.concat(axis=1) instead. To get a de-fragmented frame, use `newframe = frame.copy()`\n",
      "  _df[f'log_{f1}_mean_x_{f2}_mean'] = np.log(1+f1_mean) * np.log(1+f2_mean)\n",
      "/var/folders/wd/57_v9c5142x7mhyp18nb4bt80000gn/T/ipykernel_6799/1131820091.py:35: PerformanceWarning: DataFrame is highly fragmented.  This is usually the result of calling `frame.insert` many times, which has poor performance.  Consider joining all columns at once using pd.concat(axis=1) instead. To get a de-fragmented frame, use `newframe = frame.copy()`\n",
      "  _df[f'{f1}_mean_over_{f2}_mean'] = f1_mean / (1+f2_mean)\n",
      "/var/folders/wd/57_v9c5142x7mhyp18nb4bt80000gn/T/ipykernel_6799/1131820091.py:36: PerformanceWarning: DataFrame is highly fragmented.  This is usually the result of calling `frame.insert` many times, which has poor performance.  Consider joining all columns at once using pd.concat(axis=1) instead. To get a de-fragmented frame, use `newframe = frame.copy()`\n",
      "  _df[f'{f1}_skew_x_{f2}_skew'] = _df[f1+'_skew'] * _df[f2+'_skew']\n",
      "/var/folders/wd/57_v9c5142x7mhyp18nb4bt80000gn/T/ipykernel_6799/1131820091.py:34: PerformanceWarning: DataFrame is highly fragmented.  This is usually the result of calling `frame.insert` many times, which has poor performance.  Consider joining all columns at once using pd.concat(axis=1) instead. To get a de-fragmented frame, use `newframe = frame.copy()`\n",
      "  _df[f'log_{f1}_mean_x_{f2}_mean'] = np.log(1+f1_mean) * np.log(1+f2_mean)\n",
      "/var/folders/wd/57_v9c5142x7mhyp18nb4bt80000gn/T/ipykernel_6799/1131820091.py:35: PerformanceWarning: DataFrame is highly fragmented.  This is usually the result of calling `frame.insert` many times, which has poor performance.  Consider joining all columns at once using pd.concat(axis=1) instead. To get a de-fragmented frame, use `newframe = frame.copy()`\n",
      "  _df[f'{f1}_mean_over_{f2}_mean'] = f1_mean / (1+f2_mean)\n",
      "/var/folders/wd/57_v9c5142x7mhyp18nb4bt80000gn/T/ipykernel_6799/1131820091.py:36: PerformanceWarning: DataFrame is highly fragmented.  This is usually the result of calling `frame.insert` many times, which has poor performance.  Consider joining all columns at once using pd.concat(axis=1) instead. To get a de-fragmented frame, use `newframe = frame.copy()`\n",
      "  _df[f'{f1}_skew_x_{f2}_skew'] = _df[f1+'_skew'] * _df[f2+'_skew']\n",
      "/var/folders/wd/57_v9c5142x7mhyp18nb4bt80000gn/T/ipykernel_6799/1131820091.py:34: PerformanceWarning: DataFrame is highly fragmented.  This is usually the result of calling `frame.insert` many times, which has poor performance.  Consider joining all columns at once using pd.concat(axis=1) instead. To get a de-fragmented frame, use `newframe = frame.copy()`\n",
      "  _df[f'log_{f1}_mean_x_{f2}_mean'] = np.log(1+f1_mean) * np.log(1+f2_mean)\n",
      "/var/folders/wd/57_v9c5142x7mhyp18nb4bt80000gn/T/ipykernel_6799/1131820091.py:35: PerformanceWarning: DataFrame is highly fragmented.  This is usually the result of calling `frame.insert` many times, which has poor performance.  Consider joining all columns at once using pd.concat(axis=1) instead. To get a de-fragmented frame, use `newframe = frame.copy()`\n",
      "  _df[f'{f1}_mean_over_{f2}_mean'] = f1_mean / (1+f2_mean)\n",
      "/var/folders/wd/57_v9c5142x7mhyp18nb4bt80000gn/T/ipykernel_6799/1131820091.py:36: PerformanceWarning: DataFrame is highly fragmented.  This is usually the result of calling `frame.insert` many times, which has poor performance.  Consider joining all columns at once using pd.concat(axis=1) instead. To get a de-fragmented frame, use `newframe = frame.copy()`\n",
      "  _df[f'{f1}_skew_x_{f2}_skew'] = _df[f1+'_skew'] * _df[f2+'_skew']\n",
      "/var/folders/wd/57_v9c5142x7mhyp18nb4bt80000gn/T/ipykernel_6799/1131820091.py:34: PerformanceWarning: DataFrame is highly fragmented.  This is usually the result of calling `frame.insert` many times, which has poor performance.  Consider joining all columns at once using pd.concat(axis=1) instead. To get a de-fragmented frame, use `newframe = frame.copy()`\n",
      "  _df[f'log_{f1}_mean_x_{f2}_mean'] = np.log(1+f1_mean) * np.log(1+f2_mean)\n",
      "/var/folders/wd/57_v9c5142x7mhyp18nb4bt80000gn/T/ipykernel_6799/1131820091.py:35: PerformanceWarning: DataFrame is highly fragmented.  This is usually the result of calling `frame.insert` many times, which has poor performance.  Consider joining all columns at once using pd.concat(axis=1) instead. To get a de-fragmented frame, use `newframe = frame.copy()`\n",
      "  _df[f'{f1}_mean_over_{f2}_mean'] = f1_mean / (1+f2_mean)\n",
      "/var/folders/wd/57_v9c5142x7mhyp18nb4bt80000gn/T/ipykernel_6799/1131820091.py:36: PerformanceWarning: DataFrame is highly fragmented.  This is usually the result of calling `frame.insert` many times, which has poor performance.  Consider joining all columns at once using pd.concat(axis=1) instead. To get a de-fragmented frame, use `newframe = frame.copy()`\n",
      "  _df[f'{f1}_skew_x_{f2}_skew'] = _df[f1+'_skew'] * _df[f2+'_skew']\n",
      "/var/folders/wd/57_v9c5142x7mhyp18nb4bt80000gn/T/ipykernel_6799/1131820091.py:34: PerformanceWarning: DataFrame is highly fragmented.  This is usually the result of calling `frame.insert` many times, which has poor performance.  Consider joining all columns at once using pd.concat(axis=1) instead. To get a de-fragmented frame, use `newframe = frame.copy()`\n",
      "  _df[f'log_{f1}_mean_x_{f2}_mean'] = np.log(1+f1_mean) * np.log(1+f2_mean)\n",
      "/var/folders/wd/57_v9c5142x7mhyp18nb4bt80000gn/T/ipykernel_6799/1131820091.py:35: PerformanceWarning: DataFrame is highly fragmented.  This is usually the result of calling `frame.insert` many times, which has poor performance.  Consider joining all columns at once using pd.concat(axis=1) instead. To get a de-fragmented frame, use `newframe = frame.copy()`\n",
      "  _df[f'{f1}_mean_over_{f2}_mean'] = f1_mean / (1+f2_mean)\n",
      "/var/folders/wd/57_v9c5142x7mhyp18nb4bt80000gn/T/ipykernel_6799/1131820091.py:36: PerformanceWarning: DataFrame is highly fragmented.  This is usually the result of calling `frame.insert` many times, which has poor performance.  Consider joining all columns at once using pd.concat(axis=1) instead. To get a de-fragmented frame, use `newframe = frame.copy()`\n",
      "  _df[f'{f1}_skew_x_{f2}_skew'] = _df[f1+'_skew'] * _df[f2+'_skew']\n",
      "/var/folders/wd/57_v9c5142x7mhyp18nb4bt80000gn/T/ipykernel_6799/1131820091.py:34: PerformanceWarning: DataFrame is highly fragmented.  This is usually the result of calling `frame.insert` many times, which has poor performance.  Consider joining all columns at once using pd.concat(axis=1) instead. To get a de-fragmented frame, use `newframe = frame.copy()`\n",
      "  _df[f'log_{f1}_mean_x_{f2}_mean'] = np.log(1+f1_mean) * np.log(1+f2_mean)\n",
      "/var/folders/wd/57_v9c5142x7mhyp18nb4bt80000gn/T/ipykernel_6799/1131820091.py:35: PerformanceWarning: DataFrame is highly fragmented.  This is usually the result of calling `frame.insert` many times, which has poor performance.  Consider joining all columns at once using pd.concat(axis=1) instead. To get a de-fragmented frame, use `newframe = frame.copy()`\n",
      "  _df[f'{f1}_mean_over_{f2}_mean'] = f1_mean / (1+f2_mean)\n",
      "/var/folders/wd/57_v9c5142x7mhyp18nb4bt80000gn/T/ipykernel_6799/1131820091.py:36: PerformanceWarning: DataFrame is highly fragmented.  This is usually the result of calling `frame.insert` many times, which has poor performance.  Consider joining all columns at once using pd.concat(axis=1) instead. To get a de-fragmented frame, use `newframe = frame.copy()`\n",
      "  _df[f'{f1}_skew_x_{f2}_skew'] = _df[f1+'_skew'] * _df[f2+'_skew']\n",
      "/var/folders/wd/57_v9c5142x7mhyp18nb4bt80000gn/T/ipykernel_6799/1131820091.py:34: PerformanceWarning: DataFrame is highly fragmented.  This is usually the result of calling `frame.insert` many times, which has poor performance.  Consider joining all columns at once using pd.concat(axis=1) instead. To get a de-fragmented frame, use `newframe = frame.copy()`\n",
      "  _df[f'log_{f1}_mean_x_{f2}_mean'] = np.log(1+f1_mean) * np.log(1+f2_mean)\n",
      "/var/folders/wd/57_v9c5142x7mhyp18nb4bt80000gn/T/ipykernel_6799/1131820091.py:35: PerformanceWarning: DataFrame is highly fragmented.  This is usually the result of calling `frame.insert` many times, which has poor performance.  Consider joining all columns at once using pd.concat(axis=1) instead. To get a de-fragmented frame, use `newframe = frame.copy()`\n",
      "  _df[f'{f1}_mean_over_{f2}_mean'] = f1_mean / (1+f2_mean)\n",
      "/var/folders/wd/57_v9c5142x7mhyp18nb4bt80000gn/T/ipykernel_6799/1131820091.py:36: PerformanceWarning: DataFrame is highly fragmented.  This is usually the result of calling `frame.insert` many times, which has poor performance.  Consider joining all columns at once using pd.concat(axis=1) instead. To get a de-fragmented frame, use `newframe = frame.copy()`\n",
      "  _df[f'{f1}_skew_x_{f2}_skew'] = _df[f1+'_skew'] * _df[f2+'_skew']\n",
      "/var/folders/wd/57_v9c5142x7mhyp18nb4bt80000gn/T/ipykernel_6799/1131820091.py:34: PerformanceWarning: DataFrame is highly fragmented.  This is usually the result of calling `frame.insert` many times, which has poor performance.  Consider joining all columns at once using pd.concat(axis=1) instead. To get a de-fragmented frame, use `newframe = frame.copy()`\n",
      "  _df[f'log_{f1}_mean_x_{f2}_mean'] = np.log(1+f1_mean) * np.log(1+f2_mean)\n",
      "/var/folders/wd/57_v9c5142x7mhyp18nb4bt80000gn/T/ipykernel_6799/1131820091.py:35: PerformanceWarning: DataFrame is highly fragmented.  This is usually the result of calling `frame.insert` many times, which has poor performance.  Consider joining all columns at once using pd.concat(axis=1) instead. To get a de-fragmented frame, use `newframe = frame.copy()`\n",
      "  _df[f'{f1}_mean_over_{f2}_mean'] = f1_mean / (1+f2_mean)\n",
      "/var/folders/wd/57_v9c5142x7mhyp18nb4bt80000gn/T/ipykernel_6799/1131820091.py:36: PerformanceWarning: DataFrame is highly fragmented.  This is usually the result of calling `frame.insert` many times, which has poor performance.  Consider joining all columns at once using pd.concat(axis=1) instead. To get a de-fragmented frame, use `newframe = frame.copy()`\n",
      "  _df[f'{f1}_skew_x_{f2}_skew'] = _df[f1+'_skew'] * _df[f2+'_skew']\n",
      "/var/folders/wd/57_v9c5142x7mhyp18nb4bt80000gn/T/ipykernel_6799/1131820091.py:34: PerformanceWarning: DataFrame is highly fragmented.  This is usually the result of calling `frame.insert` many times, which has poor performance.  Consider joining all columns at once using pd.concat(axis=1) instead. To get a de-fragmented frame, use `newframe = frame.copy()`\n",
      "  _df[f'log_{f1}_mean_x_{f2}_mean'] = np.log(1+f1_mean) * np.log(1+f2_mean)\n",
      "/var/folders/wd/57_v9c5142x7mhyp18nb4bt80000gn/T/ipykernel_6799/1131820091.py:35: PerformanceWarning: DataFrame is highly fragmented.  This is usually the result of calling `frame.insert` many times, which has poor performance.  Consider joining all columns at once using pd.concat(axis=1) instead. To get a de-fragmented frame, use `newframe = frame.copy()`\n",
      "  _df[f'{f1}_mean_over_{f2}_mean'] = f1_mean / (1+f2_mean)\n",
      "/var/folders/wd/57_v9c5142x7mhyp18nb4bt80000gn/T/ipykernel_6799/1131820091.py:36: PerformanceWarning: DataFrame is highly fragmented.  This is usually the result of calling `frame.insert` many times, which has poor performance.  Consider joining all columns at once using pd.concat(axis=1) instead. To get a de-fragmented frame, use `newframe = frame.copy()`\n",
      "  _df[f'{f1}_skew_x_{f2}_skew'] = _df[f1+'_skew'] * _df[f2+'_skew']\n",
      "/var/folders/wd/57_v9c5142x7mhyp18nb4bt80000gn/T/ipykernel_6799/1131820091.py:34: PerformanceWarning: DataFrame is highly fragmented.  This is usually the result of calling `frame.insert` many times, which has poor performance.  Consider joining all columns at once using pd.concat(axis=1) instead. To get a de-fragmented frame, use `newframe = frame.copy()`\n",
      "  _df[f'log_{f1}_mean_x_{f2}_mean'] = np.log(1+f1_mean) * np.log(1+f2_mean)\n",
      "/var/folders/wd/57_v9c5142x7mhyp18nb4bt80000gn/T/ipykernel_6799/1131820091.py:35: PerformanceWarning: DataFrame is highly fragmented.  This is usually the result of calling `frame.insert` many times, which has poor performance.  Consider joining all columns at once using pd.concat(axis=1) instead. To get a de-fragmented frame, use `newframe = frame.copy()`\n",
      "  _df[f'{f1}_mean_over_{f2}_mean'] = f1_mean / (1+f2_mean)\n",
      "/var/folders/wd/57_v9c5142x7mhyp18nb4bt80000gn/T/ipykernel_6799/1131820091.py:36: PerformanceWarning: DataFrame is highly fragmented.  This is usually the result of calling `frame.insert` many times, which has poor performance.  Consider joining all columns at once using pd.concat(axis=1) instead. To get a de-fragmented frame, use `newframe = frame.copy()`\n",
      "  _df[f'{f1}_skew_x_{f2}_skew'] = _df[f1+'_skew'] * _df[f2+'_skew']\n"
     ]
    }
   ],
   "source": [
    "train_df = preprocessing(train_dfs)"
   ]
  },
  {
   "cell_type": "code",
   "execution_count": 9,
   "metadata": {},
   "outputs": [
    {
     "data": {
      "text/plain": [
       "'485 training features'"
      ]
     },
     "execution_count": 9,
     "metadata": {},
     "output_type": "execute_result"
    }
   ],
   "source": [
    "features = list(train_df.columns)\n",
    "features.remove(target)\n",
    "f'{len(features)} training features'"
   ]
  },
  {
   "cell_type": "code",
   "execution_count": 10,
   "metadata": {},
   "outputs": [
    {
     "name": "stderr",
     "output_type": "stream",
     "text": [
      "100%|██████████| 10000/10000 [00:38<00:00, 260.48it/s]"
     ]
    },
    {
     "name": "stdout",
     "output_type": "stream",
     "text": [
      "Found 10000 dataframes in ../data/test\n"
     ]
    },
    {
     "name": "stderr",
     "output_type": "stream",
     "text": [
      "\n"
     ]
    }
   ],
   "source": [
    "test_dfs = read_dataframes(test_data_path)"
   ]
  },
  {
   "cell_type": "code",
   "execution_count": 11,
   "metadata": {},
   "outputs": [
    {
     "name": "stderr",
     "output_type": "stream",
     "text": [
      "100%|██████████| 10000/10000 [03:19<00:00, 50.00it/s]\n",
      "/var/folders/wd/57_v9c5142x7mhyp18nb4bt80000gn/T/ipykernel_6799/1131820091.py:34: PerformanceWarning: DataFrame is highly fragmented.  This is usually the result of calling `frame.insert` many times, which has poor performance.  Consider joining all columns at once using pd.concat(axis=1) instead. To get a de-fragmented frame, use `newframe = frame.copy()`\n",
      "  _df[f'log_{f1}_mean_x_{f2}_mean'] = np.log(1+f1_mean) * np.log(1+f2_mean)\n",
      "/var/folders/wd/57_v9c5142x7mhyp18nb4bt80000gn/T/ipykernel_6799/1131820091.py:35: PerformanceWarning: DataFrame is highly fragmented.  This is usually the result of calling `frame.insert` many times, which has poor performance.  Consider joining all columns at once using pd.concat(axis=1) instead. To get a de-fragmented frame, use `newframe = frame.copy()`\n",
      "  _df[f'{f1}_mean_over_{f2}_mean'] = f1_mean / (1+f2_mean)\n",
      "/var/folders/wd/57_v9c5142x7mhyp18nb4bt80000gn/T/ipykernel_6799/1131820091.py:36: PerformanceWarning: DataFrame is highly fragmented.  This is usually the result of calling `frame.insert` many times, which has poor performance.  Consider joining all columns at once using pd.concat(axis=1) instead. To get a de-fragmented frame, use `newframe = frame.copy()`\n",
      "  _df[f'{f1}_skew_x_{f2}_skew'] = _df[f1+'_skew'] * _df[f2+'_skew']\n",
      "/var/folders/wd/57_v9c5142x7mhyp18nb4bt80000gn/T/ipykernel_6799/1131820091.py:34: PerformanceWarning: DataFrame is highly fragmented.  This is usually the result of calling `frame.insert` many times, which has poor performance.  Consider joining all columns at once using pd.concat(axis=1) instead. To get a de-fragmented frame, use `newframe = frame.copy()`\n",
      "  _df[f'log_{f1}_mean_x_{f2}_mean'] = np.log(1+f1_mean) * np.log(1+f2_mean)\n",
      "/var/folders/wd/57_v9c5142x7mhyp18nb4bt80000gn/T/ipykernel_6799/1131820091.py:35: PerformanceWarning: DataFrame is highly fragmented.  This is usually the result of calling `frame.insert` many times, which has poor performance.  Consider joining all columns at once using pd.concat(axis=1) instead. To get a de-fragmented frame, use `newframe = frame.copy()`\n",
      "  _df[f'{f1}_mean_over_{f2}_mean'] = f1_mean / (1+f2_mean)\n",
      "/var/folders/wd/57_v9c5142x7mhyp18nb4bt80000gn/T/ipykernel_6799/1131820091.py:36: PerformanceWarning: DataFrame is highly fragmented.  This is usually the result of calling `frame.insert` many times, which has poor performance.  Consider joining all columns at once using pd.concat(axis=1) instead. To get a de-fragmented frame, use `newframe = frame.copy()`\n",
      "  _df[f'{f1}_skew_x_{f2}_skew'] = _df[f1+'_skew'] * _df[f2+'_skew']\n",
      "/var/folders/wd/57_v9c5142x7mhyp18nb4bt80000gn/T/ipykernel_6799/1131820091.py:34: PerformanceWarning: DataFrame is highly fragmented.  This is usually the result of calling `frame.insert` many times, which has poor performance.  Consider joining all columns at once using pd.concat(axis=1) instead. To get a de-fragmented frame, use `newframe = frame.copy()`\n",
      "  _df[f'log_{f1}_mean_x_{f2}_mean'] = np.log(1+f1_mean) * np.log(1+f2_mean)\n",
      "/var/folders/wd/57_v9c5142x7mhyp18nb4bt80000gn/T/ipykernel_6799/1131820091.py:35: PerformanceWarning: DataFrame is highly fragmented.  This is usually the result of calling `frame.insert` many times, which has poor performance.  Consider joining all columns at once using pd.concat(axis=1) instead. To get a de-fragmented frame, use `newframe = frame.copy()`\n",
      "  _df[f'{f1}_mean_over_{f2}_mean'] = f1_mean / (1+f2_mean)\n",
      "/var/folders/wd/57_v9c5142x7mhyp18nb4bt80000gn/T/ipykernel_6799/1131820091.py:36: PerformanceWarning: DataFrame is highly fragmented.  This is usually the result of calling `frame.insert` many times, which has poor performance.  Consider joining all columns at once using pd.concat(axis=1) instead. To get a de-fragmented frame, use `newframe = frame.copy()`\n",
      "  _df[f'{f1}_skew_x_{f2}_skew'] = _df[f1+'_skew'] * _df[f2+'_skew']\n",
      "/var/folders/wd/57_v9c5142x7mhyp18nb4bt80000gn/T/ipykernel_6799/1131820091.py:34: PerformanceWarning: DataFrame is highly fragmented.  This is usually the result of calling `frame.insert` many times, which has poor performance.  Consider joining all columns at once using pd.concat(axis=1) instead. To get a de-fragmented frame, use `newframe = frame.copy()`\n",
      "  _df[f'log_{f1}_mean_x_{f2}_mean'] = np.log(1+f1_mean) * np.log(1+f2_mean)\n",
      "/var/folders/wd/57_v9c5142x7mhyp18nb4bt80000gn/T/ipykernel_6799/1131820091.py:35: PerformanceWarning: DataFrame is highly fragmented.  This is usually the result of calling `frame.insert` many times, which has poor performance.  Consider joining all columns at once using pd.concat(axis=1) instead. To get a de-fragmented frame, use `newframe = frame.copy()`\n",
      "  _df[f'{f1}_mean_over_{f2}_mean'] = f1_mean / (1+f2_mean)\n",
      "/var/folders/wd/57_v9c5142x7mhyp18nb4bt80000gn/T/ipykernel_6799/1131820091.py:36: PerformanceWarning: DataFrame is highly fragmented.  This is usually the result of calling `frame.insert` many times, which has poor performance.  Consider joining all columns at once using pd.concat(axis=1) instead. To get a de-fragmented frame, use `newframe = frame.copy()`\n",
      "  _df[f'{f1}_skew_x_{f2}_skew'] = _df[f1+'_skew'] * _df[f2+'_skew']\n",
      "/var/folders/wd/57_v9c5142x7mhyp18nb4bt80000gn/T/ipykernel_6799/1131820091.py:34: PerformanceWarning: DataFrame is highly fragmented.  This is usually the result of calling `frame.insert` many times, which has poor performance.  Consider joining all columns at once using pd.concat(axis=1) instead. To get a de-fragmented frame, use `newframe = frame.copy()`\n",
      "  _df[f'log_{f1}_mean_x_{f2}_mean'] = np.log(1+f1_mean) * np.log(1+f2_mean)\n",
      "/var/folders/wd/57_v9c5142x7mhyp18nb4bt80000gn/T/ipykernel_6799/1131820091.py:35: PerformanceWarning: DataFrame is highly fragmented.  This is usually the result of calling `frame.insert` many times, which has poor performance.  Consider joining all columns at once using pd.concat(axis=1) instead. To get a de-fragmented frame, use `newframe = frame.copy()`\n",
      "  _df[f'{f1}_mean_over_{f2}_mean'] = f1_mean / (1+f2_mean)\n",
      "/var/folders/wd/57_v9c5142x7mhyp18nb4bt80000gn/T/ipykernel_6799/1131820091.py:36: PerformanceWarning: DataFrame is highly fragmented.  This is usually the result of calling `frame.insert` many times, which has poor performance.  Consider joining all columns at once using pd.concat(axis=1) instead. To get a de-fragmented frame, use `newframe = frame.copy()`\n",
      "  _df[f'{f1}_skew_x_{f2}_skew'] = _df[f1+'_skew'] * _df[f2+'_skew']\n",
      "/var/folders/wd/57_v9c5142x7mhyp18nb4bt80000gn/T/ipykernel_6799/1131820091.py:34: PerformanceWarning: DataFrame is highly fragmented.  This is usually the result of calling `frame.insert` many times, which has poor performance.  Consider joining all columns at once using pd.concat(axis=1) instead. To get a de-fragmented frame, use `newframe = frame.copy()`\n",
      "  _df[f'log_{f1}_mean_x_{f2}_mean'] = np.log(1+f1_mean) * np.log(1+f2_mean)\n",
      "/var/folders/wd/57_v9c5142x7mhyp18nb4bt80000gn/T/ipykernel_6799/1131820091.py:35: PerformanceWarning: DataFrame is highly fragmented.  This is usually the result of calling `frame.insert` many times, which has poor performance.  Consider joining all columns at once using pd.concat(axis=1) instead. To get a de-fragmented frame, use `newframe = frame.copy()`\n",
      "  _df[f'{f1}_mean_over_{f2}_mean'] = f1_mean / (1+f2_mean)\n",
      "/var/folders/wd/57_v9c5142x7mhyp18nb4bt80000gn/T/ipykernel_6799/1131820091.py:36: PerformanceWarning: DataFrame is highly fragmented.  This is usually the result of calling `frame.insert` many times, which has poor performance.  Consider joining all columns at once using pd.concat(axis=1) instead. To get a de-fragmented frame, use `newframe = frame.copy()`\n",
      "  _df[f'{f1}_skew_x_{f2}_skew'] = _df[f1+'_skew'] * _df[f2+'_skew']\n",
      "/var/folders/wd/57_v9c5142x7mhyp18nb4bt80000gn/T/ipykernel_6799/1131820091.py:34: PerformanceWarning: DataFrame is highly fragmented.  This is usually the result of calling `frame.insert` many times, which has poor performance.  Consider joining all columns at once using pd.concat(axis=1) instead. To get a de-fragmented frame, use `newframe = frame.copy()`\n",
      "  _df[f'log_{f1}_mean_x_{f2}_mean'] = np.log(1+f1_mean) * np.log(1+f2_mean)\n",
      "/var/folders/wd/57_v9c5142x7mhyp18nb4bt80000gn/T/ipykernel_6799/1131820091.py:35: PerformanceWarning: DataFrame is highly fragmented.  This is usually the result of calling `frame.insert` many times, which has poor performance.  Consider joining all columns at once using pd.concat(axis=1) instead. To get a de-fragmented frame, use `newframe = frame.copy()`\n",
      "  _df[f'{f1}_mean_over_{f2}_mean'] = f1_mean / (1+f2_mean)\n",
      "/var/folders/wd/57_v9c5142x7mhyp18nb4bt80000gn/T/ipykernel_6799/1131820091.py:36: PerformanceWarning: DataFrame is highly fragmented.  This is usually the result of calling `frame.insert` many times, which has poor performance.  Consider joining all columns at once using pd.concat(axis=1) instead. To get a de-fragmented frame, use `newframe = frame.copy()`\n",
      "  _df[f'{f1}_skew_x_{f2}_skew'] = _df[f1+'_skew'] * _df[f2+'_skew']\n",
      "/var/folders/wd/57_v9c5142x7mhyp18nb4bt80000gn/T/ipykernel_6799/1131820091.py:34: PerformanceWarning: DataFrame is highly fragmented.  This is usually the result of calling `frame.insert` many times, which has poor performance.  Consider joining all columns at once using pd.concat(axis=1) instead. To get a de-fragmented frame, use `newframe = frame.copy()`\n",
      "  _df[f'log_{f1}_mean_x_{f2}_mean'] = np.log(1+f1_mean) * np.log(1+f2_mean)\n",
      "/var/folders/wd/57_v9c5142x7mhyp18nb4bt80000gn/T/ipykernel_6799/1131820091.py:35: PerformanceWarning: DataFrame is highly fragmented.  This is usually the result of calling `frame.insert` many times, which has poor performance.  Consider joining all columns at once using pd.concat(axis=1) instead. To get a de-fragmented frame, use `newframe = frame.copy()`\n",
      "  _df[f'{f1}_mean_over_{f2}_mean'] = f1_mean / (1+f2_mean)\n",
      "/var/folders/wd/57_v9c5142x7mhyp18nb4bt80000gn/T/ipykernel_6799/1131820091.py:36: PerformanceWarning: DataFrame is highly fragmented.  This is usually the result of calling `frame.insert` many times, which has poor performance.  Consider joining all columns at once using pd.concat(axis=1) instead. To get a de-fragmented frame, use `newframe = frame.copy()`\n",
      "  _df[f'{f1}_skew_x_{f2}_skew'] = _df[f1+'_skew'] * _df[f2+'_skew']\n",
      "/var/folders/wd/57_v9c5142x7mhyp18nb4bt80000gn/T/ipykernel_6799/1131820091.py:34: PerformanceWarning: DataFrame is highly fragmented.  This is usually the result of calling `frame.insert` many times, which has poor performance.  Consider joining all columns at once using pd.concat(axis=1) instead. To get a de-fragmented frame, use `newframe = frame.copy()`\n",
      "  _df[f'log_{f1}_mean_x_{f2}_mean'] = np.log(1+f1_mean) * np.log(1+f2_mean)\n",
      "/var/folders/wd/57_v9c5142x7mhyp18nb4bt80000gn/T/ipykernel_6799/1131820091.py:35: PerformanceWarning: DataFrame is highly fragmented.  This is usually the result of calling `frame.insert` many times, which has poor performance.  Consider joining all columns at once using pd.concat(axis=1) instead. To get a de-fragmented frame, use `newframe = frame.copy()`\n",
      "  _df[f'{f1}_mean_over_{f2}_mean'] = f1_mean / (1+f2_mean)\n",
      "/var/folders/wd/57_v9c5142x7mhyp18nb4bt80000gn/T/ipykernel_6799/1131820091.py:36: PerformanceWarning: DataFrame is highly fragmented.  This is usually the result of calling `frame.insert` many times, which has poor performance.  Consider joining all columns at once using pd.concat(axis=1) instead. To get a de-fragmented frame, use `newframe = frame.copy()`\n",
      "  _df[f'{f1}_skew_x_{f2}_skew'] = _df[f1+'_skew'] * _df[f2+'_skew']\n",
      "/var/folders/wd/57_v9c5142x7mhyp18nb4bt80000gn/T/ipykernel_6799/1131820091.py:34: PerformanceWarning: DataFrame is highly fragmented.  This is usually the result of calling `frame.insert` many times, which has poor performance.  Consider joining all columns at once using pd.concat(axis=1) instead. To get a de-fragmented frame, use `newframe = frame.copy()`\n",
      "  _df[f'log_{f1}_mean_x_{f2}_mean'] = np.log(1+f1_mean) * np.log(1+f2_mean)\n",
      "/var/folders/wd/57_v9c5142x7mhyp18nb4bt80000gn/T/ipykernel_6799/1131820091.py:35: PerformanceWarning: DataFrame is highly fragmented.  This is usually the result of calling `frame.insert` many times, which has poor performance.  Consider joining all columns at once using pd.concat(axis=1) instead. To get a de-fragmented frame, use `newframe = frame.copy()`\n",
      "  _df[f'{f1}_mean_over_{f2}_mean'] = f1_mean / (1+f2_mean)\n",
      "/var/folders/wd/57_v9c5142x7mhyp18nb4bt80000gn/T/ipykernel_6799/1131820091.py:36: PerformanceWarning: DataFrame is highly fragmented.  This is usually the result of calling `frame.insert` many times, which has poor performance.  Consider joining all columns at once using pd.concat(axis=1) instead. To get a de-fragmented frame, use `newframe = frame.copy()`\n",
      "  _df[f'{f1}_skew_x_{f2}_skew'] = _df[f1+'_skew'] * _df[f2+'_skew']\n",
      "/var/folders/wd/57_v9c5142x7mhyp18nb4bt80000gn/T/ipykernel_6799/1131820091.py:34: PerformanceWarning: DataFrame is highly fragmented.  This is usually the result of calling `frame.insert` many times, which has poor performance.  Consider joining all columns at once using pd.concat(axis=1) instead. To get a de-fragmented frame, use `newframe = frame.copy()`\n",
      "  _df[f'log_{f1}_mean_x_{f2}_mean'] = np.log(1+f1_mean) * np.log(1+f2_mean)\n",
      "/var/folders/wd/57_v9c5142x7mhyp18nb4bt80000gn/T/ipykernel_6799/1131820091.py:35: PerformanceWarning: DataFrame is highly fragmented.  This is usually the result of calling `frame.insert` many times, which has poor performance.  Consider joining all columns at once using pd.concat(axis=1) instead. To get a de-fragmented frame, use `newframe = frame.copy()`\n",
      "  _df[f'{f1}_mean_over_{f2}_mean'] = f1_mean / (1+f2_mean)\n",
      "/var/folders/wd/57_v9c5142x7mhyp18nb4bt80000gn/T/ipykernel_6799/1131820091.py:36: PerformanceWarning: DataFrame is highly fragmented.  This is usually the result of calling `frame.insert` many times, which has poor performance.  Consider joining all columns at once using pd.concat(axis=1) instead. To get a de-fragmented frame, use `newframe = frame.copy()`\n",
      "  _df[f'{f1}_skew_x_{f2}_skew'] = _df[f1+'_skew'] * _df[f2+'_skew']\n",
      "/var/folders/wd/57_v9c5142x7mhyp18nb4bt80000gn/T/ipykernel_6799/1131820091.py:34: PerformanceWarning: DataFrame is highly fragmented.  This is usually the result of calling `frame.insert` many times, which has poor performance.  Consider joining all columns at once using pd.concat(axis=1) instead. To get a de-fragmented frame, use `newframe = frame.copy()`\n",
      "  _df[f'log_{f1}_mean_x_{f2}_mean'] = np.log(1+f1_mean) * np.log(1+f2_mean)\n",
      "/var/folders/wd/57_v9c5142x7mhyp18nb4bt80000gn/T/ipykernel_6799/1131820091.py:35: PerformanceWarning: DataFrame is highly fragmented.  This is usually the result of calling `frame.insert` many times, which has poor performance.  Consider joining all columns at once using pd.concat(axis=1) instead. To get a de-fragmented frame, use `newframe = frame.copy()`\n",
      "  _df[f'{f1}_mean_over_{f2}_mean'] = f1_mean / (1+f2_mean)\n",
      "/var/folders/wd/57_v9c5142x7mhyp18nb4bt80000gn/T/ipykernel_6799/1131820091.py:36: PerformanceWarning: DataFrame is highly fragmented.  This is usually the result of calling `frame.insert` many times, which has poor performance.  Consider joining all columns at once using pd.concat(axis=1) instead. To get a de-fragmented frame, use `newframe = frame.copy()`\n",
      "  _df[f'{f1}_skew_x_{f2}_skew'] = _df[f1+'_skew'] * _df[f2+'_skew']\n",
      "/var/folders/wd/57_v9c5142x7mhyp18nb4bt80000gn/T/ipykernel_6799/1131820091.py:34: PerformanceWarning: DataFrame is highly fragmented.  This is usually the result of calling `frame.insert` many times, which has poor performance.  Consider joining all columns at once using pd.concat(axis=1) instead. To get a de-fragmented frame, use `newframe = frame.copy()`\n",
      "  _df[f'log_{f1}_mean_x_{f2}_mean'] = np.log(1+f1_mean) * np.log(1+f2_mean)\n",
      "/var/folders/wd/57_v9c5142x7mhyp18nb4bt80000gn/T/ipykernel_6799/1131820091.py:35: PerformanceWarning: DataFrame is highly fragmented.  This is usually the result of calling `frame.insert` many times, which has poor performance.  Consider joining all columns at once using pd.concat(axis=1) instead. To get a de-fragmented frame, use `newframe = frame.copy()`\n",
      "  _df[f'{f1}_mean_over_{f2}_mean'] = f1_mean / (1+f2_mean)\n",
      "/var/folders/wd/57_v9c5142x7mhyp18nb4bt80000gn/T/ipykernel_6799/1131820091.py:36: PerformanceWarning: DataFrame is highly fragmented.  This is usually the result of calling `frame.insert` many times, which has poor performance.  Consider joining all columns at once using pd.concat(axis=1) instead. To get a de-fragmented frame, use `newframe = frame.copy()`\n",
      "  _df[f'{f1}_skew_x_{f2}_skew'] = _df[f1+'_skew'] * _df[f2+'_skew']\n",
      "/var/folders/wd/57_v9c5142x7mhyp18nb4bt80000gn/T/ipykernel_6799/1131820091.py:34: PerformanceWarning: DataFrame is highly fragmented.  This is usually the result of calling `frame.insert` many times, which has poor performance.  Consider joining all columns at once using pd.concat(axis=1) instead. To get a de-fragmented frame, use `newframe = frame.copy()`\n",
      "  _df[f'log_{f1}_mean_x_{f2}_mean'] = np.log(1+f1_mean) * np.log(1+f2_mean)\n",
      "/var/folders/wd/57_v9c5142x7mhyp18nb4bt80000gn/T/ipykernel_6799/1131820091.py:35: PerformanceWarning: DataFrame is highly fragmented.  This is usually the result of calling `frame.insert` many times, which has poor performance.  Consider joining all columns at once using pd.concat(axis=1) instead. To get a de-fragmented frame, use `newframe = frame.copy()`\n",
      "  _df[f'{f1}_mean_over_{f2}_mean'] = f1_mean / (1+f2_mean)\n",
      "/var/folders/wd/57_v9c5142x7mhyp18nb4bt80000gn/T/ipykernel_6799/1131820091.py:36: PerformanceWarning: DataFrame is highly fragmented.  This is usually the result of calling `frame.insert` many times, which has poor performance.  Consider joining all columns at once using pd.concat(axis=1) instead. To get a de-fragmented frame, use `newframe = frame.copy()`\n",
      "  _df[f'{f1}_skew_x_{f2}_skew'] = _df[f1+'_skew'] * _df[f2+'_skew']\n",
      "/var/folders/wd/57_v9c5142x7mhyp18nb4bt80000gn/T/ipykernel_6799/1131820091.py:34: PerformanceWarning: DataFrame is highly fragmented.  This is usually the result of calling `frame.insert` many times, which has poor performance.  Consider joining all columns at once using pd.concat(axis=1) instead. To get a de-fragmented frame, use `newframe = frame.copy()`\n",
      "  _df[f'log_{f1}_mean_x_{f2}_mean'] = np.log(1+f1_mean) * np.log(1+f2_mean)\n",
      "/var/folders/wd/57_v9c5142x7mhyp18nb4bt80000gn/T/ipykernel_6799/1131820091.py:35: PerformanceWarning: DataFrame is highly fragmented.  This is usually the result of calling `frame.insert` many times, which has poor performance.  Consider joining all columns at once using pd.concat(axis=1) instead. To get a de-fragmented frame, use `newframe = frame.copy()`\n",
      "  _df[f'{f1}_mean_over_{f2}_mean'] = f1_mean / (1+f2_mean)\n",
      "/var/folders/wd/57_v9c5142x7mhyp18nb4bt80000gn/T/ipykernel_6799/1131820091.py:36: PerformanceWarning: DataFrame is highly fragmented.  This is usually the result of calling `frame.insert` many times, which has poor performance.  Consider joining all columns at once using pd.concat(axis=1) instead. To get a de-fragmented frame, use `newframe = frame.copy()`\n",
      "  _df[f'{f1}_skew_x_{f2}_skew'] = _df[f1+'_skew'] * _df[f2+'_skew']\n",
      "/var/folders/wd/57_v9c5142x7mhyp18nb4bt80000gn/T/ipykernel_6799/1131820091.py:34: PerformanceWarning: DataFrame is highly fragmented.  This is usually the result of calling `frame.insert` many times, which has poor performance.  Consider joining all columns at once using pd.concat(axis=1) instead. To get a de-fragmented frame, use `newframe = frame.copy()`\n",
      "  _df[f'log_{f1}_mean_x_{f2}_mean'] = np.log(1+f1_mean) * np.log(1+f2_mean)\n",
      "/var/folders/wd/57_v9c5142x7mhyp18nb4bt80000gn/T/ipykernel_6799/1131820091.py:35: PerformanceWarning: DataFrame is highly fragmented.  This is usually the result of calling `frame.insert` many times, which has poor performance.  Consider joining all columns at once using pd.concat(axis=1) instead. To get a de-fragmented frame, use `newframe = frame.copy()`\n",
      "  _df[f'{f1}_mean_over_{f2}_mean'] = f1_mean / (1+f2_mean)\n",
      "/var/folders/wd/57_v9c5142x7mhyp18nb4bt80000gn/T/ipykernel_6799/1131820091.py:36: PerformanceWarning: DataFrame is highly fragmented.  This is usually the result of calling `frame.insert` many times, which has poor performance.  Consider joining all columns at once using pd.concat(axis=1) instead. To get a de-fragmented frame, use `newframe = frame.copy()`\n",
      "  _df[f'{f1}_skew_x_{f2}_skew'] = _df[f1+'_skew'] * _df[f2+'_skew']\n",
      "/var/folders/wd/57_v9c5142x7mhyp18nb4bt80000gn/T/ipykernel_6799/1131820091.py:34: PerformanceWarning: DataFrame is highly fragmented.  This is usually the result of calling `frame.insert` many times, which has poor performance.  Consider joining all columns at once using pd.concat(axis=1) instead. To get a de-fragmented frame, use `newframe = frame.copy()`\n",
      "  _df[f'log_{f1}_mean_x_{f2}_mean'] = np.log(1+f1_mean) * np.log(1+f2_mean)\n",
      "/var/folders/wd/57_v9c5142x7mhyp18nb4bt80000gn/T/ipykernel_6799/1131820091.py:35: PerformanceWarning: DataFrame is highly fragmented.  This is usually the result of calling `frame.insert` many times, which has poor performance.  Consider joining all columns at once using pd.concat(axis=1) instead. To get a de-fragmented frame, use `newframe = frame.copy()`\n",
      "  _df[f'{f1}_mean_over_{f2}_mean'] = f1_mean / (1+f2_mean)\n",
      "/var/folders/wd/57_v9c5142x7mhyp18nb4bt80000gn/T/ipykernel_6799/1131820091.py:36: PerformanceWarning: DataFrame is highly fragmented.  This is usually the result of calling `frame.insert` many times, which has poor performance.  Consider joining all columns at once using pd.concat(axis=1) instead. To get a de-fragmented frame, use `newframe = frame.copy()`\n",
      "  _df[f'{f1}_skew_x_{f2}_skew'] = _df[f1+'_skew'] * _df[f2+'_skew']\n",
      "/var/folders/wd/57_v9c5142x7mhyp18nb4bt80000gn/T/ipykernel_6799/1131820091.py:34: PerformanceWarning: DataFrame is highly fragmented.  This is usually the result of calling `frame.insert` many times, which has poor performance.  Consider joining all columns at once using pd.concat(axis=1) instead. To get a de-fragmented frame, use `newframe = frame.copy()`\n",
      "  _df[f'log_{f1}_mean_x_{f2}_mean'] = np.log(1+f1_mean) * np.log(1+f2_mean)\n",
      "/var/folders/wd/57_v9c5142x7mhyp18nb4bt80000gn/T/ipykernel_6799/1131820091.py:35: PerformanceWarning: DataFrame is highly fragmented.  This is usually the result of calling `frame.insert` many times, which has poor performance.  Consider joining all columns at once using pd.concat(axis=1) instead. To get a de-fragmented frame, use `newframe = frame.copy()`\n",
      "  _df[f'{f1}_mean_over_{f2}_mean'] = f1_mean / (1+f2_mean)\n",
      "/var/folders/wd/57_v9c5142x7mhyp18nb4bt80000gn/T/ipykernel_6799/1131820091.py:36: PerformanceWarning: DataFrame is highly fragmented.  This is usually the result of calling `frame.insert` many times, which has poor performance.  Consider joining all columns at once using pd.concat(axis=1) instead. To get a de-fragmented frame, use `newframe = frame.copy()`\n",
      "  _df[f'{f1}_skew_x_{f2}_skew'] = _df[f1+'_skew'] * _df[f2+'_skew']\n",
      "/var/folders/wd/57_v9c5142x7mhyp18nb4bt80000gn/T/ipykernel_6799/1131820091.py:34: PerformanceWarning: DataFrame is highly fragmented.  This is usually the result of calling `frame.insert` many times, which has poor performance.  Consider joining all columns at once using pd.concat(axis=1) instead. To get a de-fragmented frame, use `newframe = frame.copy()`\n",
      "  _df[f'log_{f1}_mean_x_{f2}_mean'] = np.log(1+f1_mean) * np.log(1+f2_mean)\n",
      "/var/folders/wd/57_v9c5142x7mhyp18nb4bt80000gn/T/ipykernel_6799/1131820091.py:35: PerformanceWarning: DataFrame is highly fragmented.  This is usually the result of calling `frame.insert` many times, which has poor performance.  Consider joining all columns at once using pd.concat(axis=1) instead. To get a de-fragmented frame, use `newframe = frame.copy()`\n",
      "  _df[f'{f1}_mean_over_{f2}_mean'] = f1_mean / (1+f2_mean)\n",
      "/var/folders/wd/57_v9c5142x7mhyp18nb4bt80000gn/T/ipykernel_6799/1131820091.py:36: PerformanceWarning: DataFrame is highly fragmented.  This is usually the result of calling `frame.insert` many times, which has poor performance.  Consider joining all columns at once using pd.concat(axis=1) instead. To get a de-fragmented frame, use `newframe = frame.copy()`\n",
      "  _df[f'{f1}_skew_x_{f2}_skew'] = _df[f1+'_skew'] * _df[f2+'_skew']\n",
      "/var/folders/wd/57_v9c5142x7mhyp18nb4bt80000gn/T/ipykernel_6799/1131820091.py:34: PerformanceWarning: DataFrame is highly fragmented.  This is usually the result of calling `frame.insert` many times, which has poor performance.  Consider joining all columns at once using pd.concat(axis=1) instead. To get a de-fragmented frame, use `newframe = frame.copy()`\n",
      "  _df[f'log_{f1}_mean_x_{f2}_mean'] = np.log(1+f1_mean) * np.log(1+f2_mean)\n",
      "/var/folders/wd/57_v9c5142x7mhyp18nb4bt80000gn/T/ipykernel_6799/1131820091.py:35: PerformanceWarning: DataFrame is highly fragmented.  This is usually the result of calling `frame.insert` many times, which has poor performance.  Consider joining all columns at once using pd.concat(axis=1) instead. To get a de-fragmented frame, use `newframe = frame.copy()`\n",
      "  _df[f'{f1}_mean_over_{f2}_mean'] = f1_mean / (1+f2_mean)\n",
      "/var/folders/wd/57_v9c5142x7mhyp18nb4bt80000gn/T/ipykernel_6799/1131820091.py:36: PerformanceWarning: DataFrame is highly fragmented.  This is usually the result of calling `frame.insert` many times, which has poor performance.  Consider joining all columns at once using pd.concat(axis=1) instead. To get a de-fragmented frame, use `newframe = frame.copy()`\n",
      "  _df[f'{f1}_skew_x_{f2}_skew'] = _df[f1+'_skew'] * _df[f2+'_skew']\n",
      "/var/folders/wd/57_v9c5142x7mhyp18nb4bt80000gn/T/ipykernel_6799/1131820091.py:34: PerformanceWarning: DataFrame is highly fragmented.  This is usually the result of calling `frame.insert` many times, which has poor performance.  Consider joining all columns at once using pd.concat(axis=1) instead. To get a de-fragmented frame, use `newframe = frame.copy()`\n",
      "  _df[f'log_{f1}_mean_x_{f2}_mean'] = np.log(1+f1_mean) * np.log(1+f2_mean)\n",
      "/var/folders/wd/57_v9c5142x7mhyp18nb4bt80000gn/T/ipykernel_6799/1131820091.py:35: PerformanceWarning: DataFrame is highly fragmented.  This is usually the result of calling `frame.insert` many times, which has poor performance.  Consider joining all columns at once using pd.concat(axis=1) instead. To get a de-fragmented frame, use `newframe = frame.copy()`\n",
      "  _df[f'{f1}_mean_over_{f2}_mean'] = f1_mean / (1+f2_mean)\n",
      "/var/folders/wd/57_v9c5142x7mhyp18nb4bt80000gn/T/ipykernel_6799/1131820091.py:36: PerformanceWarning: DataFrame is highly fragmented.  This is usually the result of calling `frame.insert` many times, which has poor performance.  Consider joining all columns at once using pd.concat(axis=1) instead. To get a de-fragmented frame, use `newframe = frame.copy()`\n",
      "  _df[f'{f1}_skew_x_{f2}_skew'] = _df[f1+'_skew'] * _df[f2+'_skew']\n",
      "/var/folders/wd/57_v9c5142x7mhyp18nb4bt80000gn/T/ipykernel_6799/1131820091.py:34: PerformanceWarning: DataFrame is highly fragmented.  This is usually the result of calling `frame.insert` many times, which has poor performance.  Consider joining all columns at once using pd.concat(axis=1) instead. To get a de-fragmented frame, use `newframe = frame.copy()`\n",
      "  _df[f'log_{f1}_mean_x_{f2}_mean'] = np.log(1+f1_mean) * np.log(1+f2_mean)\n",
      "/var/folders/wd/57_v9c5142x7mhyp18nb4bt80000gn/T/ipykernel_6799/1131820091.py:35: PerformanceWarning: DataFrame is highly fragmented.  This is usually the result of calling `frame.insert` many times, which has poor performance.  Consider joining all columns at once using pd.concat(axis=1) instead. To get a de-fragmented frame, use `newframe = frame.copy()`\n",
      "  _df[f'{f1}_mean_over_{f2}_mean'] = f1_mean / (1+f2_mean)\n",
      "/var/folders/wd/57_v9c5142x7mhyp18nb4bt80000gn/T/ipykernel_6799/1131820091.py:36: PerformanceWarning: DataFrame is highly fragmented.  This is usually the result of calling `frame.insert` many times, which has poor performance.  Consider joining all columns at once using pd.concat(axis=1) instead. To get a de-fragmented frame, use `newframe = frame.copy()`\n",
      "  _df[f'{f1}_skew_x_{f2}_skew'] = _df[f1+'_skew'] * _df[f2+'_skew']\n",
      "/var/folders/wd/57_v9c5142x7mhyp18nb4bt80000gn/T/ipykernel_6799/1131820091.py:34: PerformanceWarning: DataFrame is highly fragmented.  This is usually the result of calling `frame.insert` many times, which has poor performance.  Consider joining all columns at once using pd.concat(axis=1) instead. To get a de-fragmented frame, use `newframe = frame.copy()`\n",
      "  _df[f'log_{f1}_mean_x_{f2}_mean'] = np.log(1+f1_mean) * np.log(1+f2_mean)\n",
      "/var/folders/wd/57_v9c5142x7mhyp18nb4bt80000gn/T/ipykernel_6799/1131820091.py:35: PerformanceWarning: DataFrame is highly fragmented.  This is usually the result of calling `frame.insert` many times, which has poor performance.  Consider joining all columns at once using pd.concat(axis=1) instead. To get a de-fragmented frame, use `newframe = frame.copy()`\n",
      "  _df[f'{f1}_mean_over_{f2}_mean'] = f1_mean / (1+f2_mean)\n",
      "/var/folders/wd/57_v9c5142x7mhyp18nb4bt80000gn/T/ipykernel_6799/1131820091.py:36: PerformanceWarning: DataFrame is highly fragmented.  This is usually the result of calling `frame.insert` many times, which has poor performance.  Consider joining all columns at once using pd.concat(axis=1) instead. To get a de-fragmented frame, use `newframe = frame.copy()`\n",
      "  _df[f'{f1}_skew_x_{f2}_skew'] = _df[f1+'_skew'] * _df[f2+'_skew']\n"
     ]
    }
   ],
   "source": [
    "test_df = preprocessing(test_dfs)"
   ]
  },
  {
   "cell_type": "code",
   "execution_count": 12,
   "metadata": {},
   "outputs": [
    {
     "name": "stderr",
     "output_type": "stream",
     "text": [
      "/Users/snirlugassy/miniconda3/envs/deep/lib/python3.10/site-packages/xgboost/data.py:250: FutureWarning: pandas.Int64Index is deprecated and will be removed from pandas in a future version. Use pandas.Index with the appropriate dtype instead.\n",
      "  elif isinstance(data.columns, (pd.Int64Index, pd.RangeIndex)):\n"
     ]
    }
   ],
   "source": [
    "test_data = xgb.DMatrix(test_df[features])"
   ]
  },
  {
   "cell_type": "code",
   "execution_count": 13,
   "metadata": {},
   "outputs": [
    {
     "data": {
      "text/html": [
       "<div>\n",
       "<style scoped>\n",
       "    .dataframe tbody tr th:only-of-type {\n",
       "        vertical-align: middle;\n",
       "    }\n",
       "\n",
       "    .dataframe tbody tr th {\n",
       "        vertical-align: top;\n",
       "    }\n",
       "\n",
       "    .dataframe thead th {\n",
       "        text-align: right;\n",
       "    }\n",
       "</style>\n",
       "<table border=\"1\" class=\"dataframe\">\n",
       "  <thead>\n",
       "    <tr style=\"text-align: right;\">\n",
       "      <th></th>\n",
       "      <th>HR_mean</th>\n",
       "      <th>O2Sat_mean</th>\n",
       "      <th>Temp_mean</th>\n",
       "      <th>SBP_mean</th>\n",
       "      <th>MAP_mean</th>\n",
       "      <th>DBP_mean</th>\n",
       "      <th>Resp_mean</th>\n",
       "      <th>EtCO2_mean</th>\n",
       "      <th>BaseExcess_mean</th>\n",
       "      <th>HCO3_mean</th>\n",
       "      <th>...</th>\n",
       "      <th>log_EtCO2_mean_x_MAP_mean</th>\n",
       "      <th>EtCO2_mean_over_MAP_mean</th>\n",
       "      <th>EtCO2_skew_x_MAP_skew</th>\n",
       "      <th>log_EtCO2_mean_x_DBP_mean</th>\n",
       "      <th>EtCO2_mean_over_DBP_mean</th>\n",
       "      <th>EtCO2_skew_x_DBP_skew</th>\n",
       "      <th>log_EtCO2_mean_x_Resp_mean</th>\n",
       "      <th>EtCO2_mean_over_Resp_mean</th>\n",
       "      <th>EtCO2_skew_x_Resp_skew</th>\n",
       "      <th>SepsisLabel</th>\n",
       "    </tr>\n",
       "  </thead>\n",
       "  <tbody>\n",
       "    <tr>\n",
       "      <th>0</th>\n",
       "      <td>93.150000</td>\n",
       "      <td>96.500000</td>\n",
       "      <td>36.633333</td>\n",
       "      <td>134.175000</td>\n",
       "      <td>99.100000</td>\n",
       "      <td>88.200000</td>\n",
       "      <td>18.675000</td>\n",
       "      <td>NaN</td>\n",
       "      <td>NaN</td>\n",
       "      <td>NaN</td>\n",
       "      <td>...</td>\n",
       "      <td>NaN</td>\n",
       "      <td>NaN</td>\n",
       "      <td>NaN</td>\n",
       "      <td>NaN</td>\n",
       "      <td>NaN</td>\n",
       "      <td>NaN</td>\n",
       "      <td>NaN</td>\n",
       "      <td>NaN</td>\n",
       "      <td>NaN</td>\n",
       "      <td>0.0</td>\n",
       "    </tr>\n",
       "    <tr>\n",
       "      <th>1</th>\n",
       "      <td>84.656250</td>\n",
       "      <td>94.156250</td>\n",
       "      <td>36.380000</td>\n",
       "      <td>155.750000</td>\n",
       "      <td>95.687500</td>\n",
       "      <td>63.593750</td>\n",
       "      <td>15.233333</td>\n",
       "      <td>NaN</td>\n",
       "      <td>NaN</td>\n",
       "      <td>NaN</td>\n",
       "      <td>...</td>\n",
       "      <td>NaN</td>\n",
       "      <td>NaN</td>\n",
       "      <td>NaN</td>\n",
       "      <td>NaN</td>\n",
       "      <td>NaN</td>\n",
       "      <td>NaN</td>\n",
       "      <td>NaN</td>\n",
       "      <td>NaN</td>\n",
       "      <td>NaN</td>\n",
       "      <td>0.0</td>\n",
       "    </tr>\n",
       "    <tr>\n",
       "      <th>2</th>\n",
       "      <td>76.490000</td>\n",
       "      <td>97.761905</td>\n",
       "      <td>37.383333</td>\n",
       "      <td>123.020833</td>\n",
       "      <td>85.778125</td>\n",
       "      <td>NaN</td>\n",
       "      <td>18.846939</td>\n",
       "      <td>NaN</td>\n",
       "      <td>NaN</td>\n",
       "      <td>25.0</td>\n",
       "      <td>...</td>\n",
       "      <td>NaN</td>\n",
       "      <td>NaN</td>\n",
       "      <td>NaN</td>\n",
       "      <td>NaN</td>\n",
       "      <td>NaN</td>\n",
       "      <td>NaN</td>\n",
       "      <td>NaN</td>\n",
       "      <td>NaN</td>\n",
       "      <td>NaN</td>\n",
       "      <td>0.0</td>\n",
       "    </tr>\n",
       "    <tr>\n",
       "      <th>3</th>\n",
       "      <td>75.474359</td>\n",
       "      <td>96.115385</td>\n",
       "      <td>37.252174</td>\n",
       "      <td>119.538462</td>\n",
       "      <td>72.243590</td>\n",
       "      <td>50.179487</td>\n",
       "      <td>18.355263</td>\n",
       "      <td>NaN</td>\n",
       "      <td>-0.400000</td>\n",
       "      <td>24.5</td>\n",
       "      <td>...</td>\n",
       "      <td>NaN</td>\n",
       "      <td>NaN</td>\n",
       "      <td>NaN</td>\n",
       "      <td>NaN</td>\n",
       "      <td>NaN</td>\n",
       "      <td>NaN</td>\n",
       "      <td>NaN</td>\n",
       "      <td>NaN</td>\n",
       "      <td>NaN</td>\n",
       "      <td>0.0</td>\n",
       "    </tr>\n",
       "    <tr>\n",
       "      <th>4</th>\n",
       "      <td>95.833333</td>\n",
       "      <td>99.416667</td>\n",
       "      <td>36.571429</td>\n",
       "      <td>145.722222</td>\n",
       "      <td>81.259259</td>\n",
       "      <td>62.037037</td>\n",
       "      <td>19.714286</td>\n",
       "      <td>NaN</td>\n",
       "      <td>NaN</td>\n",
       "      <td>NaN</td>\n",
       "      <td>...</td>\n",
       "      <td>NaN</td>\n",
       "      <td>NaN</td>\n",
       "      <td>NaN</td>\n",
       "      <td>NaN</td>\n",
       "      <td>NaN</td>\n",
       "      <td>NaN</td>\n",
       "      <td>NaN</td>\n",
       "      <td>NaN</td>\n",
       "      <td>NaN</td>\n",
       "      <td>0.0</td>\n",
       "    </tr>\n",
       "    <tr>\n",
       "      <th>...</th>\n",
       "      <td>...</td>\n",
       "      <td>...</td>\n",
       "      <td>...</td>\n",
       "      <td>...</td>\n",
       "      <td>...</td>\n",
       "      <td>...</td>\n",
       "      <td>...</td>\n",
       "      <td>...</td>\n",
       "      <td>...</td>\n",
       "      <td>...</td>\n",
       "      <td>...</td>\n",
       "      <td>...</td>\n",
       "      <td>...</td>\n",
       "      <td>...</td>\n",
       "      <td>...</td>\n",
       "      <td>...</td>\n",
       "      <td>...</td>\n",
       "      <td>...</td>\n",
       "      <td>...</td>\n",
       "      <td>...</td>\n",
       "      <td>...</td>\n",
       "    </tr>\n",
       "    <tr>\n",
       "      <th>19995</th>\n",
       "      <td>82.360000</td>\n",
       "      <td>95.240000</td>\n",
       "      <td>37.167143</td>\n",
       "      <td>157.364583</td>\n",
       "      <td>87.677083</td>\n",
       "      <td>54.322581</td>\n",
       "      <td>16.340426</td>\n",
       "      <td>NaN</td>\n",
       "      <td>0.750000</td>\n",
       "      <td>25.0</td>\n",
       "      <td>...</td>\n",
       "      <td>NaN</td>\n",
       "      <td>NaN</td>\n",
       "      <td>NaN</td>\n",
       "      <td>NaN</td>\n",
       "      <td>NaN</td>\n",
       "      <td>NaN</td>\n",
       "      <td>NaN</td>\n",
       "      <td>NaN</td>\n",
       "      <td>NaN</td>\n",
       "      <td>0.0</td>\n",
       "    </tr>\n",
       "    <tr>\n",
       "      <th>19996</th>\n",
       "      <td>71.000000</td>\n",
       "      <td>97.000000</td>\n",
       "      <td>36.833333</td>\n",
       "      <td>123.250000</td>\n",
       "      <td>78.500000</td>\n",
       "      <td>65.250000</td>\n",
       "      <td>20.000000</td>\n",
       "      <td>NaN</td>\n",
       "      <td>NaN</td>\n",
       "      <td>NaN</td>\n",
       "      <td>...</td>\n",
       "      <td>NaN</td>\n",
       "      <td>NaN</td>\n",
       "      <td>NaN</td>\n",
       "      <td>NaN</td>\n",
       "      <td>NaN</td>\n",
       "      <td>NaN</td>\n",
       "      <td>NaN</td>\n",
       "      <td>NaN</td>\n",
       "      <td>NaN</td>\n",
       "      <td>0.0</td>\n",
       "    </tr>\n",
       "    <tr>\n",
       "      <th>19997</th>\n",
       "      <td>92.666667</td>\n",
       "      <td>97.523810</td>\n",
       "      <td>37.220000</td>\n",
       "      <td>121.404762</td>\n",
       "      <td>78.142857</td>\n",
       "      <td>61.166667</td>\n",
       "      <td>18.142857</td>\n",
       "      <td>NaN</td>\n",
       "      <td>0.666667</td>\n",
       "      <td>26.0</td>\n",
       "      <td>...</td>\n",
       "      <td>NaN</td>\n",
       "      <td>NaN</td>\n",
       "      <td>NaN</td>\n",
       "      <td>NaN</td>\n",
       "      <td>NaN</td>\n",
       "      <td>NaN</td>\n",
       "      <td>NaN</td>\n",
       "      <td>NaN</td>\n",
       "      <td>NaN</td>\n",
       "      <td>0.0</td>\n",
       "    </tr>\n",
       "    <tr>\n",
       "      <th>19998</th>\n",
       "      <td>68.690476</td>\n",
       "      <td>97.190476</td>\n",
       "      <td>36.683333</td>\n",
       "      <td>138.119048</td>\n",
       "      <td>96.119048</td>\n",
       "      <td>78.309524</td>\n",
       "      <td>15.350000</td>\n",
       "      <td>NaN</td>\n",
       "      <td>NaN</td>\n",
       "      <td>NaN</td>\n",
       "      <td>...</td>\n",
       "      <td>NaN</td>\n",
       "      <td>NaN</td>\n",
       "      <td>NaN</td>\n",
       "      <td>NaN</td>\n",
       "      <td>NaN</td>\n",
       "      <td>NaN</td>\n",
       "      <td>NaN</td>\n",
       "      <td>NaN</td>\n",
       "      <td>NaN</td>\n",
       "      <td>0.0</td>\n",
       "    </tr>\n",
       "    <tr>\n",
       "      <th>19999</th>\n",
       "      <td>73.510417</td>\n",
       "      <td>96.395833</td>\n",
       "      <td>36.983333</td>\n",
       "      <td>151.197917</td>\n",
       "      <td>100.979167</td>\n",
       "      <td>71.395833</td>\n",
       "      <td>22.329787</td>\n",
       "      <td>NaN</td>\n",
       "      <td>NaN</td>\n",
       "      <td>NaN</td>\n",
       "      <td>...</td>\n",
       "      <td>NaN</td>\n",
       "      <td>NaN</td>\n",
       "      <td>NaN</td>\n",
       "      <td>NaN</td>\n",
       "      <td>NaN</td>\n",
       "      <td>NaN</td>\n",
       "      <td>NaN</td>\n",
       "      <td>NaN</td>\n",
       "      <td>NaN</td>\n",
       "      <td>0.0</td>\n",
       "    </tr>\n",
       "  </tbody>\n",
       "</table>\n",
       "<p>20000 rows × 486 columns</p>\n",
       "</div>"
      ],
      "text/plain": [
       "         HR_mean  O2Sat_mean  Temp_mean    SBP_mean    MAP_mean   DBP_mean  \\\n",
       "0      93.150000   96.500000  36.633333  134.175000   99.100000  88.200000   \n",
       "1      84.656250   94.156250  36.380000  155.750000   95.687500  63.593750   \n",
       "2      76.490000   97.761905  37.383333  123.020833   85.778125        NaN   \n",
       "3      75.474359   96.115385  37.252174  119.538462   72.243590  50.179487   \n",
       "4      95.833333   99.416667  36.571429  145.722222   81.259259  62.037037   \n",
       "...          ...         ...        ...         ...         ...        ...   \n",
       "19995  82.360000   95.240000  37.167143  157.364583   87.677083  54.322581   \n",
       "19996  71.000000   97.000000  36.833333  123.250000   78.500000  65.250000   \n",
       "19997  92.666667   97.523810  37.220000  121.404762   78.142857  61.166667   \n",
       "19998  68.690476   97.190476  36.683333  138.119048   96.119048  78.309524   \n",
       "19999  73.510417   96.395833  36.983333  151.197917  100.979167  71.395833   \n",
       "\n",
       "       Resp_mean  EtCO2_mean  BaseExcess_mean  HCO3_mean  ...  \\\n",
       "0      18.675000         NaN              NaN        NaN  ...   \n",
       "1      15.233333         NaN              NaN        NaN  ...   \n",
       "2      18.846939         NaN              NaN       25.0  ...   \n",
       "3      18.355263         NaN        -0.400000       24.5  ...   \n",
       "4      19.714286         NaN              NaN        NaN  ...   \n",
       "...          ...         ...              ...        ...  ...   \n",
       "19995  16.340426         NaN         0.750000       25.0  ...   \n",
       "19996  20.000000         NaN              NaN        NaN  ...   \n",
       "19997  18.142857         NaN         0.666667       26.0  ...   \n",
       "19998  15.350000         NaN              NaN        NaN  ...   \n",
       "19999  22.329787         NaN              NaN        NaN  ...   \n",
       "\n",
       "       log_EtCO2_mean_x_MAP_mean  EtCO2_mean_over_MAP_mean  \\\n",
       "0                            NaN                       NaN   \n",
       "1                            NaN                       NaN   \n",
       "2                            NaN                       NaN   \n",
       "3                            NaN                       NaN   \n",
       "4                            NaN                       NaN   \n",
       "...                          ...                       ...   \n",
       "19995                        NaN                       NaN   \n",
       "19996                        NaN                       NaN   \n",
       "19997                        NaN                       NaN   \n",
       "19998                        NaN                       NaN   \n",
       "19999                        NaN                       NaN   \n",
       "\n",
       "       EtCO2_skew_x_MAP_skew  log_EtCO2_mean_x_DBP_mean  \\\n",
       "0                        NaN                        NaN   \n",
       "1                        NaN                        NaN   \n",
       "2                        NaN                        NaN   \n",
       "3                        NaN                        NaN   \n",
       "4                        NaN                        NaN   \n",
       "...                      ...                        ...   \n",
       "19995                    NaN                        NaN   \n",
       "19996                    NaN                        NaN   \n",
       "19997                    NaN                        NaN   \n",
       "19998                    NaN                        NaN   \n",
       "19999                    NaN                        NaN   \n",
       "\n",
       "       EtCO2_mean_over_DBP_mean  EtCO2_skew_x_DBP_skew  \\\n",
       "0                           NaN                    NaN   \n",
       "1                           NaN                    NaN   \n",
       "2                           NaN                    NaN   \n",
       "3                           NaN                    NaN   \n",
       "4                           NaN                    NaN   \n",
       "...                         ...                    ...   \n",
       "19995                       NaN                    NaN   \n",
       "19996                       NaN                    NaN   \n",
       "19997                       NaN                    NaN   \n",
       "19998                       NaN                    NaN   \n",
       "19999                       NaN                    NaN   \n",
       "\n",
       "       log_EtCO2_mean_x_Resp_mean  EtCO2_mean_over_Resp_mean  \\\n",
       "0                             NaN                        NaN   \n",
       "1                             NaN                        NaN   \n",
       "2                             NaN                        NaN   \n",
       "3                             NaN                        NaN   \n",
       "4                             NaN                        NaN   \n",
       "...                           ...                        ...   \n",
       "19995                         NaN                        NaN   \n",
       "19996                         NaN                        NaN   \n",
       "19997                         NaN                        NaN   \n",
       "19998                         NaN                        NaN   \n",
       "19999                         NaN                        NaN   \n",
       "\n",
       "       EtCO2_skew_x_Resp_skew  SepsisLabel  \n",
       "0                         NaN          0.0  \n",
       "1                         NaN          0.0  \n",
       "2                         NaN          0.0  \n",
       "3                         NaN          0.0  \n",
       "4                         NaN          0.0  \n",
       "...                       ...          ...  \n",
       "19995                     NaN          0.0  \n",
       "19996                     NaN          0.0  \n",
       "19997                     NaN          0.0  \n",
       "19998                     NaN          0.0  \n",
       "19999                     NaN          0.0  \n",
       "\n",
       "[20000 rows x 486 columns]"
      ]
     },
     "execution_count": 13,
     "metadata": {},
     "output_type": "execute_result"
    }
   ],
   "source": [
    "train_df[features + [target]]"
   ]
  },
  {
   "cell_type": "code",
   "execution_count": 27,
   "metadata": {},
   "outputs": [
    {
     "data": {
      "image/png": "[encoded data removed]",
      "text/plain": [
       "<Figure size 1800x360 with 1 Axes>"
      ]
     },
     "metadata": {
      "needs_background": "light"
     },
     "output_type": "display_data"
    }
   ],
   "source": [
    "missing_values = (train_df.isna().sum() / len(train_df)).sort_values()\n",
    "plt.figure(figsize=(25,5))\n",
    "plt.bar(missing_values.index, missing_values.values)\n",
    "plt.xticks = None\n",
    "plt.show()"
   ]
  },
  {
   "cell_type": "code",
   "execution_count": 15,
   "metadata": {},
   "outputs": [
    {
     "name": "stdout",
     "output_type": "stream",
     "text": [
      "Weighted average of target values (0.5=balanced):\n"
     ]
    },
    {
     "data": {
      "text/plain": [
       "0.5146176604726499"
      ]
     },
     "execution_count": 15,
     "metadata": {},
     "output_type": "execute_result"
    }
   ],
   "source": [
    "alpha = 0.933\n",
    "weights = alpha * train_df[target] + (1-alpha) * (1-train_df[target])\n",
    "print('Weighted average of target values (0.5=balanced):')\n",
    "sum(weights * train_df[target]) / sum(weights)"
   ]
  },
  {
   "cell_type": "code",
   "execution_count": 16,
   "metadata": {},
   "outputs": [
    {
     "name": "stderr",
     "output_type": "stream",
     "text": [
      "/Users/snirlugassy/miniconda3/envs/deep/lib/python3.10/site-packages/xgboost/data.py:250: FutureWarning: pandas.Int64Index is deprecated and will be removed from pandas in a future version. Use pandas.Index with the appropriate dtype instead.\n",
      "  elif isinstance(data.columns, (pd.Int64Index, pd.RangeIndex)):\n"
     ]
    }
   ],
   "source": [
    "train_data = xgb.DMatrix(train_df[features], label=train_df[target], weight=weights)"
   ]
  },
  {
   "cell_type": "code",
   "execution_count": 17,
   "metadata": {},
   "outputs": [],
   "source": [
    "training_params = {\n",
    "    'objective': 'binary:logistic',\n",
    "    'eval_metric': ['logloss', 'map'],\n",
    "    # 'booster': 'dart', # default=gbtree\n",
    "    # 'rate_drop': 0.1, # default=0\n",
    "    # 'lambda': 1, # default=0\n",
    "    # 'learning_rate': 0.01, # default=0.3\n",
    "    # 'max_depth': 7, # default=6\n",
    "}\n",
    "\n",
    "NUM_ROUNDS = 128"
   ]
  },
  {
   "cell_type": "code",
   "execution_count": 18,
   "metadata": {},
   "outputs": [],
   "source": [
    "# TODO: use xgb_model param for continous training\n",
    "bst = xgb.train(params=training_params, dtrain=train_data, num_boost_round=NUM_ROUNDS)"
   ]
  },
  {
   "cell_type": "code",
   "execution_count": 19,
   "metadata": {},
   "outputs": [
    {
     "data": {
      "text/plain": [
       "(array([0.00202353, 0.00091269, 0.00353945, ..., 0.00861697, 0.00069432,\n",
       "        0.00040886], dtype=float32),\n",
       " numpy.ndarray)"
      ]
     },
     "execution_count": 19,
     "metadata": {},
     "output_type": "execute_result"
    }
   ],
   "source": [
    "y_predict_train = bst.predict(train_data)\n",
    "y_predict_train, type(y_predict_train)"
   ]
  },
  {
   "cell_type": "code",
   "execution_count": 20,
   "metadata": {},
   "outputs": [
    {
     "data": {
      "image/png": "[encoded data removed]",
      "text/plain": [
       "<Figure size 360x216 with 1 Axes>"
      ]
     },
     "metadata": {
      "needs_background": "light"
     },
     "output_type": "display_data"
    }
   ],
   "source": [
    "fig, ax = plt.subplots()\n",
    "fig.set_size_inches(5,3)\n",
    "xgb.plot_importance(bst, ax, max_num_features=10)\n",
    "plt.show()"
   ]
  },
  {
   "cell_type": "code",
   "execution_count": 21,
   "metadata": {},
   "outputs": [
    {
     "data": {
      "text/plain": [
       "0.9922861150070127"
      ]
     },
     "execution_count": 21,
     "metadata": {},
     "output_type": "execute_result"
    }
   ],
   "source": [
    "y_predict_train_label = 1 * (y_predict_train >= 0.5)\n",
    "f1_score(train_df[target], y_predict_train_label)"
   ]
  },
  {
   "cell_type": "code",
   "execution_count": 31,
   "metadata": {},
   "outputs": [],
   "source": [
    "bst.save_model('model_004.json')"
   ]
  },
  {
   "cell_type": "markdown",
   "metadata": {},
   "source": [
    "# Test"
   ]
  },
  {
   "cell_type": "code",
   "execution_count": 22,
   "metadata": {},
   "outputs": [],
   "source": [
    "y_predict_test = bst.predict(test_data)"
   ]
  },
  {
   "cell_type": "code",
   "execution_count": 23,
   "metadata": {},
   "outputs": [
    {
     "data": {
      "image/png": "[encoded data removed]",
      "text/plain": [
       "<Figure size 504x504 with 1 Axes>"
      ]
     },
     "metadata": {
      "needs_background": "light"
     },
     "output_type": "display_data"
    }
   ],
   "source": [
    "train_fpr, train_tpr, train_thresholds = roc_curve(y_true=train_df[target], y_score=y_predict_train)\n",
    "test_fpr, test_tpr, test_thresholds = roc_curve(y_true=test_df[target], y_score=y_predict_test)\n",
    "\n",
    "train_auc_score = roc_auc_score(y_true=train_df[target], y_score=y_predict_train)\n",
    "test_auc_score = roc_auc_score(y_true=test_df[target], y_score=y_predict_test)\n",
    "\n",
    "plt.figure(figsize=(7,7))\n",
    "plt.title('ROC Curve')\n",
    "plt.xlabel('False-Positive rate')\n",
    "plt.ylabel('True-Positive rate')\n",
    "plt.plot(train_fpr, train_tpr, color='purple', label='Train')\n",
    "plt.plot(test_fpr, test_tpr, color='green', label='Test')\n",
    "plt.legend([f'Train, AUC={train_auc_score:.3}', f'Test, AUC={test_auc_score:.3}'])\n",
    "plt.plot([0, 1], [0, 1], color=\"navy\", lw=2, linestyle=\"--\")\n",
    "plt.show()\n"
   ]
  },
  {
   "cell_type": "code",
   "execution_count": 24,
   "metadata": {},
   "outputs": [
    {
     "data": {
      "image/png": "[encoded data removed]",
      "text/plain": [
       "<Figure size 720x360 with 1 Axes>"
      ]
     },
     "metadata": {
      "needs_background": "light"
     },
     "output_type": "display_data"
    }
   ],
   "source": [
    "thresholds = np.linspace(0,1,100)\n",
    "_f1 = [f1_score(y_true=test_df[target], y_pred=1*(y_predict_test >= t)) for t in thresholds]\n",
    "\n",
    "plt.figure(figsize=(10,5))\n",
    "plt.title('F1 score using different thresholds')\n",
    "plt.xlabel('Threshold')\n",
    "plt.ylabel('F1 Score')\n",
    "plt.scatter(thresholds, _f1)\n",
    "plt.show()"
   ]
  },
  {
   "cell_type": "code",
   "execution_count": 33,
   "metadata": {},
   "outputs": [
    {
     "name": "stdout",
     "output_type": "stream",
     "text": [
      "max test f1: 0.6917080085046067 at threshold: 0.4646464646464647\n"
     ]
    }
   ],
   "source": [
    "max_f1 = max(_f1)\n",
    "optimal_threshold = thresholds[_f1.index(max_f1)]\n",
    "print('max test f1:', max_f1, 'at threshold:', optimal_threshold)"
   ]
  }
 ],
 "metadata": {
  "interpreter": {
   "hash": "7d538358a4a844c2698117f72ddbeea822b864d784b5f9260aa8445549be4a00"
  },
  "kernelspec": {
   "display_name": "Python 3.10.4 ('deep')",
   "language": "python",
   "name": "python3"
  },
  "language_info": {
   "codemirror_mode": {
    "name": "ipython",
    "version": 3
   },
   "file_extension": ".py",
   "mimetype": "text/x-python",
   "name": "python",
   "nbconvert_exporter": "python",
   "pygments_lexer": "ipython3",
   "version": "3.10.4"
  },
  "orig_nbformat": 4
 },
 "nbformat": 4,
 "nbformat_minor": 2
}
