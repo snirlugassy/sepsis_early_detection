{
 "cells": [
  {
   "cell_type": "code",
   "execution_count": 51,
   "metadata": {},
   "outputs": [],
   "source": [
    "import pickle\n",
    "import xgboost as xgb\n",
    "import numpy as np\n",
    "import pandas as pd\n",
    "from sklearn.metrics import roc_auc_score, roc_curve, f1_score, accuracy_score, confusion_matrix\n",
    "import matplotlib.pyplot as plt"
   ]
  },
  {
   "cell_type": "code",
   "execution_count": 29,
   "metadata": {},
   "outputs": [
    {
     "data": {
      "text/html": [
       "<div>\n",
       "<style scoped>\n",
       "    .dataframe tbody tr th:only-of-type {\n",
       "        vertical-align: middle;\n",
       "    }\n",
       "\n",
       "    .dataframe tbody tr th {\n",
       "        vertical-align: top;\n",
       "    }\n",
       "\n",
       "    .dataframe thead th {\n",
       "        text-align: right;\n",
       "    }\n",
       "</style>\n",
       "<table border=\"1\" class=\"dataframe\">\n",
       "  <thead>\n",
       "    <tr style=\"text-align: right;\">\n",
       "      <th></th>\n",
       "      <th>HR_mean</th>\n",
       "      <th>O2Sat_mean</th>\n",
       "      <th>Temp_mean</th>\n",
       "      <th>SBP_mean</th>\n",
       "      <th>MAP_mean</th>\n",
       "      <th>DBP_mean</th>\n",
       "      <th>Resp_mean</th>\n",
       "      <th>BUN_mean</th>\n",
       "      <th>Calcium_mean</th>\n",
       "      <th>Chloride_mean</th>\n",
       "      <th>...</th>\n",
       "      <th>Phosphate_range</th>\n",
       "      <th>Potassium_range</th>\n",
       "      <th>Hct_range</th>\n",
       "      <th>Hgb_range</th>\n",
       "      <th>WBC_range</th>\n",
       "      <th>Platelets_range</th>\n",
       "      <th>Age</th>\n",
       "      <th>Gender</th>\n",
       "      <th>ICULOS</th>\n",
       "      <th>SepsisLabel</th>\n",
       "    </tr>\n",
       "  </thead>\n",
       "  <tbody>\n",
       "    <tr>\n",
       "      <th>0</th>\n",
       "      <td>73.782609</td>\n",
       "      <td>96.504310</td>\n",
       "      <td>36.454286</td>\n",
       "      <td>105.816176</td>\n",
       "      <td>68.820755</td>\n",
       "      <td>58.110294</td>\n",
       "      <td>22.336207</td>\n",
       "      <td>22.363636</td>\n",
       "      <td>9.241667</td>\n",
       "      <td>106.545455</td>\n",
       "      <td>...</td>\n",
       "      <td>6.0</td>\n",
       "      <td>2.2</td>\n",
       "      <td>2.8</td>\n",
       "      <td>1.1</td>\n",
       "      <td>9.8</td>\n",
       "      <td>36.0</td>\n",
       "      <td>44.90</td>\n",
       "      <td>0.0</td>\n",
       "      <td>117.0</td>\n",
       "      <td>1.0</td>\n",
       "    </tr>\n",
       "    <tr>\n",
       "      <th>1</th>\n",
       "      <td>74.564356</td>\n",
       "      <td>97.505376</td>\n",
       "      <td>37.142800</td>\n",
       "      <td>112.931034</td>\n",
       "      <td>75.244828</td>\n",
       "      <td>NaN</td>\n",
       "      <td>19.240000</td>\n",
       "      <td>3.125000</td>\n",
       "      <td>8.225000</td>\n",
       "      <td>104.625000</td>\n",
       "      <td>...</td>\n",
       "      <td>0.8</td>\n",
       "      <td>0.6</td>\n",
       "      <td>7.3</td>\n",
       "      <td>1.5</td>\n",
       "      <td>4.2</td>\n",
       "      <td>62.0</td>\n",
       "      <td>46.43</td>\n",
       "      <td>0.0</td>\n",
       "      <td>107.0</td>\n",
       "      <td>1.0</td>\n",
       "    </tr>\n",
       "    <tr>\n",
       "      <th>2</th>\n",
       "      <td>72.300000</td>\n",
       "      <td>98.322222</td>\n",
       "      <td>36.541667</td>\n",
       "      <td>113.777778</td>\n",
       "      <td>69.200000</td>\n",
       "      <td>51.077778</td>\n",
       "      <td>18.476744</td>\n",
       "      <td>32.500000</td>\n",
       "      <td>4.660000</td>\n",
       "      <td>104.333333</td>\n",
       "      <td>...</td>\n",
       "      <td>1.5</td>\n",
       "      <td>1.0</td>\n",
       "      <td>4.6</td>\n",
       "      <td>1.8</td>\n",
       "      <td>5.1</td>\n",
       "      <td>117.0</td>\n",
       "      <td>51.00</td>\n",
       "      <td>1.0</td>\n",
       "      <td>48.0</td>\n",
       "      <td>1.0</td>\n",
       "    </tr>\n",
       "    <tr>\n",
       "      <th>3</th>\n",
       "      <td>61.516216</td>\n",
       "      <td>97.221622</td>\n",
       "      <td>36.593913</td>\n",
       "      <td>121.765625</td>\n",
       "      <td>63.800546</td>\n",
       "      <td>43.072917</td>\n",
       "      <td>19.323529</td>\n",
       "      <td>21.727273</td>\n",
       "      <td>8.100000</td>\n",
       "      <td>111.166667</td>\n",
       "      <td>...</td>\n",
       "      <td>1.8</td>\n",
       "      <td>1.2</td>\n",
       "      <td>5.0</td>\n",
       "      <td>1.8</td>\n",
       "      <td>6.6</td>\n",
       "      <td>46.0</td>\n",
       "      <td>81.74</td>\n",
       "      <td>1.0</td>\n",
       "      <td>189.0</td>\n",
       "      <td>1.0</td>\n",
       "    </tr>\n",
       "    <tr>\n",
       "      <th>4</th>\n",
       "      <td>121.071429</td>\n",
       "      <td>96.111111</td>\n",
       "      <td>36.436667</td>\n",
       "      <td>117.178571</td>\n",
       "      <td>86.101071</td>\n",
       "      <td>69.410714</td>\n",
       "      <td>22.946429</td>\n",
       "      <td>36.000000</td>\n",
       "      <td>9.000000</td>\n",
       "      <td>101.000000</td>\n",
       "      <td>...</td>\n",
       "      <td>0.0</td>\n",
       "      <td>0.5</td>\n",
       "      <td>1.0</td>\n",
       "      <td>1.2</td>\n",
       "      <td>0.0</td>\n",
       "      <td>0.0</td>\n",
       "      <td>88.65</td>\n",
       "      <td>1.0</td>\n",
       "      <td>29.0</td>\n",
       "      <td>1.0</td>\n",
       "    </tr>\n",
       "    <tr>\n",
       "      <th>...</th>\n",
       "      <td>...</td>\n",
       "      <td>...</td>\n",
       "      <td>...</td>\n",
       "      <td>...</td>\n",
       "      <td>...</td>\n",
       "      <td>...</td>\n",
       "      <td>...</td>\n",
       "      <td>...</td>\n",
       "      <td>...</td>\n",
       "      <td>...</td>\n",
       "      <td>...</td>\n",
       "      <td>...</td>\n",
       "      <td>...</td>\n",
       "      <td>...</td>\n",
       "      <td>...</td>\n",
       "      <td>...</td>\n",
       "      <td>...</td>\n",
       "      <td>...</td>\n",
       "      <td>...</td>\n",
       "      <td>...</td>\n",
       "      <td>...</td>\n",
       "    </tr>\n",
       "    <tr>\n",
       "      <th>18433</th>\n",
       "      <td>74.216216</td>\n",
       "      <td>96.850000</td>\n",
       "      <td>36.046364</td>\n",
       "      <td>98.176471</td>\n",
       "      <td>65.923077</td>\n",
       "      <td>NaN</td>\n",
       "      <td>18.094595</td>\n",
       "      <td>83.000000</td>\n",
       "      <td>8.000000</td>\n",
       "      <td>96.000000</td>\n",
       "      <td>...</td>\n",
       "      <td>0.5</td>\n",
       "      <td>0.6</td>\n",
       "      <td>9.2</td>\n",
       "      <td>0.8</td>\n",
       "      <td>0.8</td>\n",
       "      <td>26.0</td>\n",
       "      <td>79.42</td>\n",
       "      <td>1.0</td>\n",
       "      <td>46.0</td>\n",
       "      <td>0.0</td>\n",
       "    </tr>\n",
       "    <tr>\n",
       "      <th>18434</th>\n",
       "      <td>82.360000</td>\n",
       "      <td>95.240000</td>\n",
       "      <td>37.167143</td>\n",
       "      <td>157.364583</td>\n",
       "      <td>87.677083</td>\n",
       "      <td>54.322581</td>\n",
       "      <td>16.340426</td>\n",
       "      <td>12.000000</td>\n",
       "      <td>7.550000</td>\n",
       "      <td>107.000000</td>\n",
       "      <td>...</td>\n",
       "      <td>0.4</td>\n",
       "      <td>0.6</td>\n",
       "      <td>2.0</td>\n",
       "      <td>0.9</td>\n",
       "      <td>1.8</td>\n",
       "      <td>32.0</td>\n",
       "      <td>66.44</td>\n",
       "      <td>1.0</td>\n",
       "      <td>52.0</td>\n",
       "      <td>0.0</td>\n",
       "    </tr>\n",
       "    <tr>\n",
       "      <th>18435</th>\n",
       "      <td>71.000000</td>\n",
       "      <td>97.000000</td>\n",
       "      <td>36.833333</td>\n",
       "      <td>123.250000</td>\n",
       "      <td>78.500000</td>\n",
       "      <td>65.250000</td>\n",
       "      <td>20.000000</td>\n",
       "      <td>16.000000</td>\n",
       "      <td>8.600000</td>\n",
       "      <td>NaN</td>\n",
       "      <td>...</td>\n",
       "      <td>NaN</td>\n",
       "      <td>0.0</td>\n",
       "      <td>0.0</td>\n",
       "      <td>0.0</td>\n",
       "      <td>0.0</td>\n",
       "      <td>0.0</td>\n",
       "      <td>54.00</td>\n",
       "      <td>0.0</td>\n",
       "      <td>17.0</td>\n",
       "      <td>0.0</td>\n",
       "    </tr>\n",
       "    <tr>\n",
       "      <th>18436</th>\n",
       "      <td>68.690476</td>\n",
       "      <td>97.190476</td>\n",
       "      <td>36.683333</td>\n",
       "      <td>138.119048</td>\n",
       "      <td>96.119048</td>\n",
       "      <td>78.309524</td>\n",
       "      <td>15.350000</td>\n",
       "      <td>13.000000</td>\n",
       "      <td>8.300000</td>\n",
       "      <td>NaN</td>\n",
       "      <td>...</td>\n",
       "      <td>NaN</td>\n",
       "      <td>0.9</td>\n",
       "      <td>0.0</td>\n",
       "      <td>0.0</td>\n",
       "      <td>0.0</td>\n",
       "      <td>0.0</td>\n",
       "      <td>57.00</td>\n",
       "      <td>0.0</td>\n",
       "      <td>24.0</td>\n",
       "      <td>0.0</td>\n",
       "    </tr>\n",
       "    <tr>\n",
       "      <th>18437</th>\n",
       "      <td>73.510417</td>\n",
       "      <td>96.395833</td>\n",
       "      <td>36.983333</td>\n",
       "      <td>151.197917</td>\n",
       "      <td>100.979167</td>\n",
       "      <td>71.395833</td>\n",
       "      <td>22.329787</td>\n",
       "      <td>11.000000</td>\n",
       "      <td>8.000000</td>\n",
       "      <td>NaN</td>\n",
       "      <td>...</td>\n",
       "      <td>0.4</td>\n",
       "      <td>1.9</td>\n",
       "      <td>1.0</td>\n",
       "      <td>0.6</td>\n",
       "      <td>4.1</td>\n",
       "      <td>58.0</td>\n",
       "      <td>82.00</td>\n",
       "      <td>0.0</td>\n",
       "      <td>52.0</td>\n",
       "      <td>0.0</td>\n",
       "    </tr>\n",
       "  </tbody>\n",
       "</table>\n",
       "<p>18438 rows × 59 columns</p>\n",
       "</div>"
      ],
      "text/plain": [
       "          HR_mean  O2Sat_mean  Temp_mean    SBP_mean    MAP_mean   DBP_mean  \\\n",
       "0       73.782609   96.504310  36.454286  105.816176   68.820755  58.110294   \n",
       "1       74.564356   97.505376  37.142800  112.931034   75.244828        NaN   \n",
       "2       72.300000   98.322222  36.541667  113.777778   69.200000  51.077778   \n",
       "3       61.516216   97.221622  36.593913  121.765625   63.800546  43.072917   \n",
       "4      121.071429   96.111111  36.436667  117.178571   86.101071  69.410714   \n",
       "...           ...         ...        ...         ...         ...        ...   \n",
       "18433   74.216216   96.850000  36.046364   98.176471   65.923077        NaN   \n",
       "18434   82.360000   95.240000  37.167143  157.364583   87.677083  54.322581   \n",
       "18435   71.000000   97.000000  36.833333  123.250000   78.500000  65.250000   \n",
       "18436   68.690476   97.190476  36.683333  138.119048   96.119048  78.309524   \n",
       "18437   73.510417   96.395833  36.983333  151.197917  100.979167  71.395833   \n",
       "\n",
       "       Resp_mean   BUN_mean  Calcium_mean  Chloride_mean  ...  \\\n",
       "0      22.336207  22.363636      9.241667     106.545455  ...   \n",
       "1      19.240000   3.125000      8.225000     104.625000  ...   \n",
       "2      18.476744  32.500000      4.660000     104.333333  ...   \n",
       "3      19.323529  21.727273      8.100000     111.166667  ...   \n",
       "4      22.946429  36.000000      9.000000     101.000000  ...   \n",
       "...          ...        ...           ...            ...  ...   \n",
       "18433  18.094595  83.000000      8.000000      96.000000  ...   \n",
       "18434  16.340426  12.000000      7.550000     107.000000  ...   \n",
       "18435  20.000000  16.000000      8.600000            NaN  ...   \n",
       "18436  15.350000  13.000000      8.300000            NaN  ...   \n",
       "18437  22.329787  11.000000      8.000000            NaN  ...   \n",
       "\n",
       "       Phosphate_range  Potassium_range  Hct_range  Hgb_range  WBC_range  \\\n",
       "0                  6.0              2.2        2.8        1.1        9.8   \n",
       "1                  0.8              0.6        7.3        1.5        4.2   \n",
       "2                  1.5              1.0        4.6        1.8        5.1   \n",
       "3                  1.8              1.2        5.0        1.8        6.6   \n",
       "4                  0.0              0.5        1.0        1.2        0.0   \n",
       "...                ...              ...        ...        ...        ...   \n",
       "18433              0.5              0.6        9.2        0.8        0.8   \n",
       "18434              0.4              0.6        2.0        0.9        1.8   \n",
       "18435              NaN              0.0        0.0        0.0        0.0   \n",
       "18436              NaN              0.9        0.0        0.0        0.0   \n",
       "18437              0.4              1.9        1.0        0.6        4.1   \n",
       "\n",
       "       Platelets_range    Age  Gender  ICULOS  SepsisLabel  \n",
       "0                 36.0  44.90     0.0   117.0          1.0  \n",
       "1                 62.0  46.43     0.0   107.0          1.0  \n",
       "2                117.0  51.00     1.0    48.0          1.0  \n",
       "3                 46.0  81.74     1.0   189.0          1.0  \n",
       "4                  0.0  88.65     1.0    29.0          1.0  \n",
       "...                ...    ...     ...     ...          ...  \n",
       "18433             26.0  79.42     1.0    46.0          0.0  \n",
       "18434             32.0  66.44     1.0    52.0          0.0  \n",
       "18435              0.0  54.00     0.0    17.0          0.0  \n",
       "18436              0.0  57.00     0.0    24.0          0.0  \n",
       "18437             58.0  82.00     0.0    52.0          0.0  \n",
       "\n",
       "[18438 rows x 59 columns]"
      ]
     },
     "execution_count": 29,
     "metadata": {},
     "output_type": "execute_result"
    }
   ],
   "source": [
    "with open('clean_data.df', 'rb') as pkl:\n",
    "    df = pickle.load(pkl)\n",
    "df.reset_index(drop=True, inplace=True)\n",
    "df"
   ]
  },
  {
   "cell_type": "code",
   "execution_count": 30,
   "metadata": {},
   "outputs": [
    {
     "data": {
      "text/plain": [
       "'58 features'"
      ]
     },
     "execution_count": 30,
     "metadata": {},
     "output_type": "execute_result"
    }
   ],
   "source": [
    "target = 'SepsisLabel'\n",
    "features = list(df.columns)\n",
    "features.remove(target)\n",
    "f'{len(features)} features'"
   ]
  },
  {
   "cell_type": "code",
   "execution_count": 31,
   "metadata": {},
   "outputs": [
    {
     "data": {
      "text/plain": [
       "0        0.7\n",
       "1        0.7\n",
       "2        0.7\n",
       "3        0.7\n",
       "4        0.7\n",
       "        ... \n",
       "18433    0.3\n",
       "18434    0.3\n",
       "18435    0.3\n",
       "18436    0.3\n",
       "18437    0.3\n",
       "Name: SepsisLabel, Length: 18438, dtype: float64"
      ]
     },
     "execution_count": 31,
     "metadata": {},
     "output_type": "execute_result"
    }
   ],
   "source": [
    "weights = 0.7 * df[target] + 0.3 * (1-df[target])\n",
    "weights"
   ]
  },
  {
   "cell_type": "code",
   "execution_count": 32,
   "metadata": {},
   "outputs": [
    {
     "name": "stderr",
     "output_type": "stream",
     "text": [
      "/Users/snirlugassy/miniconda3/envs/deep/lib/python3.10/site-packages/xgboost/data.py:250: FutureWarning: pandas.Int64Index is deprecated and will be removed from pandas in a future version. Use pandas.Index with the appropriate dtype instead.\n",
      "  elif isinstance(data.columns, (pd.Int64Index, pd.RangeIndex)):\n"
     ]
    }
   ],
   "source": [
    "train_data = xgb.DMatrix(df[features], label=df[target], weight=weights)"
   ]
  },
  {
   "cell_type": "code",
   "execution_count": 33,
   "metadata": {},
   "outputs": [],
   "source": [
    "training_params = {\n",
    "    'objective': 'binary:logistic',\n",
    "    'eval_metric': 'logloss'\n",
    "}"
   ]
  },
  {
   "cell_type": "code",
   "execution_count": 34,
   "metadata": {},
   "outputs": [],
   "source": [
    "bst = xgb.train(params=training_params, dtrain=train_data, num_boost_round=10)"
   ]
  },
  {
   "cell_type": "code",
   "execution_count": 38,
   "metadata": {},
   "outputs": [
    {
     "data": {
      "text/plain": [
       "(array([0.95634896, 0.95451313, 0.0840038 , ..., 0.05072098, 0.04561391,\n",
       "        0.04629427], dtype=float32),\n",
       " numpy.ndarray)"
      ]
     },
     "execution_count": 38,
     "metadata": {},
     "output_type": "execute_result"
    }
   ],
   "source": [
    "y_predict = bst.predict(train_data)\n",
    "y_predict, type(y_predict)"
   ]
  },
  {
   "cell_type": "code",
   "execution_count": 43,
   "metadata": {},
   "outputs": [
    {
     "data": {
      "text/plain": [
       "array([1, 1, 0, ..., 0, 0, 0])"
      ]
     },
     "execution_count": 43,
     "metadata": {},
     "output_type": "execute_result"
    }
   ],
   "source": [
    "threshold = 0.5\n",
    "y_predict_label = 1*(y_predict >= threshold)\n",
    "y_predict_label"
   ]
  },
  {
   "cell_type": "code",
   "execution_count": 61,
   "metadata": {},
   "outputs": [
    {
     "data": {
      "image/png": "[encoded data removed]",
      "text/plain": [
       "<Figure size 504x504 with 1 Axes>"
      ]
     },
     "metadata": {
      "needs_background": "light"
     },
     "output_type": "display_data"
    }
   ],
   "source": [
    "fpr, tpr, thresholds = roc_curve(y_true=df[target], y_score=y_predict)\n",
    "\n",
    "_auc_score = roc_auc_score(y_true=df[target], y_score=y_predict)\n",
    "\n",
    "plt.figure(figsize=(7,7))\n",
    "plt.title(f'ROC Curve, AUC Score = {_auc_score:.4}')\n",
    "plt.xlabel('False-Positive rate')\n",
    "plt.ylabel('True-Positive rate')\n",
    "plt.plot(fpr, tpr, color='purple')\n",
    "plt.plot([0, 1], [0, 1], color=\"navy\", lw=2, linestyle=\"--\")\n",
    "plt.show()\n"
   ]
  },
  {
   "cell_type": "code",
   "execution_count": 53,
   "metadata": {},
   "outputs": [
    {
     "data": {
      "text/plain": [
       "0.7395121951219512"
      ]
     },
     "execution_count": 53,
     "metadata": {},
     "output_type": "execute_result"
    }
   ],
   "source": [
    "f1_score(y_true=df[target], y_pred=y_predict_label)"
   ]
  },
  {
   "cell_type": "code",
   "execution_count": null,
   "metadata": {},
   "outputs": [],
   "source": []
  }
 ],
 "metadata": {
  "interpreter": {
   "hash": "7d538358a4a844c2698117f72ddbeea822b864d784b5f9260aa8445549be4a00"
  },
  "kernelspec": {
   "display_name": "Python 3.10.4 ('deep')",
   "language": "python",
   "name": "python3"
  },
  "language_info": {
   "codemirror_mode": {
    "name": "ipython",
    "version": 3
   },
   "file_extension": ".py",
   "mimetype": "text/x-python",
   "name": "python",
   "nbconvert_exporter": "python",
   "pygments_lexer": "ipython3",
   "version": "3.10.4"
  },
  "orig_nbformat": 4
 },
 "nbformat": 4,
 "nbformat_minor": 2
}
