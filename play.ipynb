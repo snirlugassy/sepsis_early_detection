{
 "cells": [
  {
   "cell_type": "code",
   "execution_count": 1,
   "metadata": {},
   "outputs": [
    {
     "name": "stderr",
     "output_type": "stream",
     "text": [
      "/Users/snirlugassy/miniconda3/envs/deep/lib/python3.10/site-packages/tqdm/auto.py:22: TqdmWarning: IProgress not found. Please update jupyter and ipywidgets. See https://ipywidgets.readthedocs.io/en/stable/user_install.html\n",
      "  from .autonotebook import tqdm as notebook_tqdm\n"
     ]
    },
    {
     "name": "stdout",
     "output_type": "stream",
     "text": [
      "Found 10000 files in ./data/test\n"
     ]
    }
   ],
   "source": [
    "import os\n",
    "import gc\n",
    "import csv\n",
    "import argparse\n",
    "import pickle\n",
    "\n",
    "import torch\n",
    "from torch.utils.data import DataLoader\n",
    "import pandas as pd\n",
    "import numpy as np\n",
    "from scipy.interpolate import interp1d\n",
    "\n",
    "from tqdm import tqdm\n",
    "\n",
    "from dataset import ICUSepsisDataset\n",
    "from model import SepsisPredictionModel_B1\n",
    "\n",
    "icu_test = ICUSepsisDataset('./data/test')"
   ]
  },
  {
   "cell_type": "code",
   "execution_count": 3,
   "metadata": {},
   "outputs": [
    {
     "name": "stdout",
     "output_type": "stream",
     "text": [
      "SepsisPredictionModel_B1(\n",
      "  (lstm): LSTM(9, 200, num_layers=2, batch_first=True)\n",
      "  (mlp): Sequential(\n",
      "    (0): Linear(in_features=200, out_features=100, bias=True)\n",
      "    (1): ReLU()\n",
      "    (2): Dropout(p=0.2, inplace=False)\n",
      "    (3): Linear(in_features=100, out_features=20, bias=True)\n",
      "    (4): ReLU()\n",
      "    (5): Linear(in_features=20, out_features=2, bias=True)\n",
      "  )\n",
      ")\n",
      "Found 20000 files in ./data/train\n",
      "x.shape torch.Size([23, 9])\n",
      "y.shape torch.Size([23])\n",
      "asd torch.Size([200])\n",
      "output.shape torch.Size([2])\n"
     ]
    }
   ],
   "source": [
    "EPOCHS = 10\n",
    "LR = 0.005\n",
    "\n",
    "device = torch.device('cuda' if torch.cuda.is_available() else 'cpu')\n",
    "model = SepsisPredictionModel_B1(input_size=len(ICUSepsisDataset.features), hidden_dim=200)\n",
    "model.to(device)\n",
    "print(model)\n",
    "\n",
    "icu_train = ICUSepsisDataset(os.path.join('./data', 'train'))\n",
    "train_loader = DataLoader(icu_train, batch_size=1, shuffle=True)\n",
    "train_size = len(icu_train)\n",
    "\n",
    "loss = torch.nn.CrossEntropyLoss()\n",
    "optimizer = torch.optim.Adam(model.parameters(), lr=LR)\n",
    "\n",
    "for epoch in range(EPOCHS):\n",
    "    train_loss = 0.0\n",
    "    i = 0\n",
    "    for x,y in icu_train:\n",
    "        # ignore invalid samples\n",
    "        if x is None:\n",
    "            continue\n",
    "\n",
    "        i += 1\n",
    "        optimizer.zero_grad()\n",
    "\n",
    "        x = x.to(device)\n",
    "        print('x.shape', x.shape)\n",
    "        y = y.to(device)\n",
    "        print('y.shape', y.shape)\n",
    "        N = len(y)\n",
    "\n",
    "        # Forward pass\n",
    "        output = model(x)\n",
    "        print('output.shape', output.shape)\n",
    "        L = loss(output, y[-1])\n",
    "        train_loss += L.item() * x.size(0)\n",
    "\n",
    "        # Backpropagation\n",
    "        L.backward()\n",
    "        optimizer.step()\n",
    "\n",
    "        if i % 40 == 0:\n",
    "            print(f'L: {train_loss / i: .5}')\n",
    "        \n",
    "        break\n",
    "    break\n",
    "\n",
    "    train_loss /= train_size\n",
    "\n",
    "    print(f'Epoch {epoch+1}/{EPOCHS}, Loss {train_loss}')"
   ]
  },
  {
   "cell_type": "code",
   "execution_count": null,
   "metadata": {},
   "outputs": [],
   "source": [
    "def calc_accuracy(predicted:np.array, labels:np.array):\n",
    "    return sum(predicted == labels) / len(labels)"
   ]
  },
  {
   "cell_type": "code",
   "execution_count": null,
   "metadata": {},
   "outputs": [],
   "source": [
    "def calc_f1_score(predicted:np.array, labels:np.array):\n",
    "    tp = int(np.logical_and(labels==1, predicted==1).sum())\n",
    "    fp = int(np.logical_and(labels==0, predicted==1).sum())\n",
    "    fn = int(np.logical_and(labels==1, predicted==0).sum())\n",
    "    tn = int(np.logical_and(labels==0, predicted==0).sum())\n",
    "    print('tp = ', tp)\n",
    "    print('fp = ', fp)\n",
    "    print('fn = ', fn)\n",
    "    print('tn = ', tn)\n",
    "    \n",
    "    return 2 * tp / (2 * tp + fp + fn)"
   ]
  },
  {
   "cell_type": "code",
   "execution_count": null,
   "metadata": {},
   "outputs": [],
   "source": [
    "class TestModel(torch.nn.Module):\n",
    "    def __init__(self, input_size, hidden_dim=100):\n",
    "        super(TestModel, self).__init__()\n",
    "        self.lstm = torch.nn.LSTM(input_size, hidden_size=hidden_dim, batch_first=True, num_layers=2)\n",
    "        self.mlp = torch.nn.Sequential(\n",
    "            torch.nn.Linear(hidden_dim, 100), \n",
    "            torch.nn.ReLU(), \n",
    "            torch.nn.Dropout(p=0.2),\n",
    "            torch.nn.Linear(100, 20), \n",
    "            torch.nn.ReLU(),\n",
    "            torch.nn.Linear(20, 2)\n",
    "        )\n",
    "\n",
    "    def forward(self, x):\n",
    "        print(1, x.shape)\n",
    "\n",
    "        # considers only the last state for predicting sepsis\n",
    "        x, _ = self.lstm(x)\n",
    "        print(2, x.shape)\n",
    "        x = x[-1].squeeze()\n",
    "        print(3, x.shape)\n",
    "\n",
    "        x = self.mlp(x)\n",
    "        print(4, x.shape)\n",
    "        return x\n",
    "\n",
    "device = torch.device('cuda' if torch.cuda.is_available() else 'cpu')\n",
    "model = TestModel(input_size=len(ICUSepsisDataset.features))\n",
    "model.to(device)\n",
    "# model.load_state_dict(torch.load('model_a_1.state', map_location=device))"
   ]
  },
  {
   "cell_type": "code",
   "execution_count": null,
   "metadata": {},
   "outputs": [],
   "source": [
    "x,y = next(iter(icu_test))\n",
    "label = int(y[-1])\n",
    "print(x.shape, y.shape)\n",
    "output = model(x)\n",
    "print(output, output.shape)"
   ]
  },
  {
   "cell_type": "code",
   "execution_count": null,
   "metadata": {},
   "outputs": [],
   "source": [
    "loss = torch.nn.CrossEntropyLoss()"
   ]
  },
  {
   "cell_type": "code",
   "execution_count": null,
   "metadata": {},
   "outputs": [],
   "source": [
    "loss(output, y[-1])"
   ]
  },
  {
   "cell_type": "code",
   "execution_count": null,
   "metadata": {},
   "outputs": [],
   "source": [
    "y_true = []\n",
    "y_predict = []\n",
    "\n",
    "with tqdm(total=len(icu_test)) as pbar:\n",
    "    for x,y in icu_test:\n",
    "        pbar.update(1)\n",
    "        # ignore invalid samples\n",
    "\n",
    "        \n",
    "        y = y.to(device)  # squeeze since batch_size=1\n",
    "        label = int(y[-1])\n",
    "        N = len(y)\n",
    "\n",
    "        if x is None:\n",
    "            y_true.append(label)\n",
    "            y_predict.append(0)\n",
    "            continue\n",
    "\n",
    "        x = x.to(device).unsqueeze(0)\n",
    "\n",
    "        # Forward pass\n",
    "        output = model(x).view(N,2)\n",
    "        prediction = torch.softmax(output, dim=1).argmax(dim=1)\n",
    "\n",
    "        assert prediction.shape == y.shape\n",
    "\n",
    "        y_true.append(label)\n",
    "        y_predict.append(int(prediction[-1]))"
   ]
  },
  {
   "cell_type": "code",
   "execution_count": null,
   "metadata": {},
   "outputs": [],
   "source": [
    "y_true = np.array(y_true)\n",
    "y_predict = np.array(y_predict)"
   ]
  },
  {
   "cell_type": "code",
   "execution_count": null,
   "metadata": {},
   "outputs": [],
   "source": [
    "print('Model A.1 accuracy:', calc_accuracy(y_predict, y_true))"
   ]
  },
  {
   "cell_type": "code",
   "execution_count": null,
   "metadata": {},
   "outputs": [],
   "source": [
    "print('Model A.1 F1-score:', calc_f1_score(y_predict, y_true))"
   ]
  },
  {
   "cell_type": "markdown",
   "metadata": {},
   "source": [
    "We observe that model A.1 has very poor performence, without a single True Positive"
   ]
  },
  {
   "cell_type": "markdown",
   "metadata": {},
   "source": [
    "# Model A.2"
   ]
  },
  {
   "cell_type": "code",
   "execution_count": null,
   "metadata": {},
   "outputs": [],
   "source": [
    "model = SepsisPredictionModel_A2(input_size=len(ICUSepsisDataset.features))\n",
    "model.to(device)\n",
    "model.load_state_dict(torch.load('model_a_2.state', map_location=device))"
   ]
  },
  {
   "cell_type": "code",
   "execution_count": null,
   "metadata": {},
   "outputs": [],
   "source": [
    "y_true = []\n",
    "y_predict = []\n",
    "\n",
    "with tqdm(total=len(icu_test)) as pbar:\n",
    "    for x,y in icu_test:\n",
    "        pbar.update(1)\n",
    "        # ignore invalid samples\n",
    "\n",
    "        \n",
    "        y = y.to(device)  # squeeze since batch_size=1\n",
    "        label = int(y[-1])\n",
    "        N = len(y)\n",
    "\n",
    "        if x is None:\n",
    "            y_true.append(label)\n",
    "            y_predict.append(0)\n",
    "            continue\n",
    "\n",
    "        x = x.to(device).unsqueeze(0)\n",
    "\n",
    "        # Forward pass\n",
    "        output = model(x).view(N,2)\n",
    "        prediction = torch.softmax(output, dim=1).argmax(dim=1)\n",
    "\n",
    "        assert prediction.shape == y.shape\n",
    "\n",
    "        y_true.append(label)\n",
    "        y_predict.append(int(prediction[-1]))"
   ]
  },
  {
   "cell_type": "code",
   "execution_count": null,
   "metadata": {},
   "outputs": [],
   "source": [
    "y_true = np.array(y_true)\n",
    "y_predict = np.array(y_predict)"
   ]
  },
  {
   "cell_type": "code",
   "execution_count": null,
   "metadata": {},
   "outputs": [],
   "source": [
    "print('Model A.2 accuracy:', calc_accuracy(y_predict, y_true))"
   ]
  },
  {
   "cell_type": "code",
   "execution_count": null,
   "metadata": {},
   "outputs": [],
   "source": [
    "print('Model A.2 F1-score:', calc_f1_score(y_predict, y_true))"
   ]
  },
  {
   "cell_type": "markdown",
   "metadata": {},
   "source": [
    "Model A.2 ...."
   ]
  }
 ],
 "metadata": {
  "interpreter": {
   "hash": "7d538358a4a844c2698117f72ddbeea822b864d784b5f9260aa8445549be4a00"
  },
  "kernelspec": {
   "display_name": "Python 3.10.4 ('deep')",
   "language": "python",
   "name": "python3"
  },
  "language_info": {
   "codemirror_mode": {
    "name": "ipython",
    "version": 3
   },
   "file_extension": ".py",
   "mimetype": "text/x-python",
   "name": "python",
   "nbconvert_exporter": "python",
   "pygments_lexer": "ipython3",
   "version": "3.10.4"
  },
  "orig_nbformat": 4
 },
 "nbformat": 4,
 "nbformat_minor": 2
}
