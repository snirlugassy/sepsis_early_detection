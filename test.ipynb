{
 "cells": [
  {
   "cell_type": "code",
   "execution_count": 1,
   "metadata": {},
   "outputs": [
    {
     "name": "stderr",
     "output_type": "stream",
     "text": [
      "/Users/snirlugassy/miniconda3/envs/deep/lib/python3.10/site-packages/tqdm/auto.py:22: TqdmWarning: IProgress not found. Please update jupyter and ipywidgets. See https://ipywidgets.readthedocs.io/en/stable/user_install.html\n",
      "  from .autonotebook import tqdm as notebook_tqdm\n"
     ]
    }
   ],
   "source": [
    "import os\n",
    "import gc\n",
    "import csv\n",
    "import argparse\n",
    "import pickle\n",
    "\n",
    "import torch\n",
    "from torch.utils.data import DataLoader\n",
    "import pandas as pd\n",
    "import numpy as np\n",
    "from scipy.interpolate import interp1d\n",
    "\n",
    "from tqdm import tqdm\n",
    "\n",
    "from dataset import ICUSepsisDataset\n",
    "from model import SepsisPredictionModel_A1"
   ]
  },
  {
   "cell_type": "code",
   "execution_count": 8,
   "metadata": {},
   "outputs": [],
   "source": [
    "def calc_accuracy(predicted:np.array, labels:np.array):\n",
    "    return sum(predicted == labels) / len(labels)"
   ]
  },
  {
   "cell_type": "code",
   "execution_count": 14,
   "metadata": {},
   "outputs": [],
   "source": [
    "def calc_f1_score(predicted:np.array, labels:np.array):\n",
    "    tp = int(np.logical_and(labels==1, predicted==1).sum())\n",
    "    fp = int(np.logical_and(labels==0, predicted==1).sum())\n",
    "    fn = int(np.logical_and(labels==1, predicted==0).sum())\n",
    "    tn = int(np.logical_and(labels==0, predicted==0).sum())\n",
    "    print('tp = ', tp)\n",
    "    print('fp = ', fp)\n",
    "    print('fn = ', fn)\n",
    "    print('tn = ', tn)\n",
    "    \n",
    "    return 2 * tp / (2 * tp + fp + fn)"
   ]
  },
  {
   "cell_type": "code",
   "execution_count": 2,
   "metadata": {},
   "outputs": [
    {
     "name": "stdout",
     "output_type": "stream",
     "text": [
      "Found 10000 files in ./data/test\n"
     ]
    }
   ],
   "source": [
    "icu_test = ICUSepsisDataset('./data/test')"
   ]
  },
  {
   "cell_type": "markdown",
   "metadata": {},
   "source": [
    "# Model A.1"
   ]
  },
  {
   "cell_type": "code",
   "execution_count": 3,
   "metadata": {},
   "outputs": [
    {
     "data": {
      "text/plain": [
       "<All keys matched successfully>"
      ]
     },
     "execution_count": 3,
     "metadata": {},
     "output_type": "execute_result"
    }
   ],
   "source": [
    "device = torch.device('cuda' if torch.cuda.is_available() else 'cpu')\n",
    "model = SepsisPredictionModel_A1(input_size=len(ICUSepsisDataset.features))\n",
    "model.to(device)\n",
    "model.load_state_dict(torch.load('model_a_1.state', map_location=device))"
   ]
  },
  {
   "cell_type": "code",
   "execution_count": 4,
   "metadata": {},
   "outputs": [
    {
     "name": "stderr",
     "output_type": "stream",
     "text": [
      "100%|██████████| 10000/10000 [02:11<00:00, 76.22it/s]\n"
     ]
    }
   ],
   "source": [
    "y_true = []\n",
    "y_predict = []\n",
    "\n",
    "with tqdm(total=len(icu_test)) as pbar:\n",
    "    for x,y in icu_test:\n",
    "        pbar.update(1)\n",
    "        # ignore invalid samples\n",
    "\n",
    "        \n",
    "        y = y.to(device)  # squeeze since batch_size=1\n",
    "        label = int(y[-1])\n",
    "        N = len(y)\n",
    "\n",
    "        if x is None:\n",
    "            y_true.append(label)\n",
    "            y_predict.append(0)\n",
    "            continue\n",
    "\n",
    "        x = x.to(device).unsqueeze(0)\n",
    "\n",
    "        # Forward pass\n",
    "        output = model(x).view(N,2)\n",
    "        prediction = torch.softmax(output, dim=1).argmax(dim=1)\n",
    "\n",
    "        assert prediction.shape == y.shape\n",
    "\n",
    "        y_true.append(label)\n",
    "        y_predict.append(int(prediction[-1]))"
   ]
  },
  {
   "cell_type": "code",
   "execution_count": 5,
   "metadata": {},
   "outputs": [],
   "source": [
    "y_true = np.array(y_true)\n",
    "y_predict = np.array(y_predict)"
   ]
  },
  {
   "cell_type": "code",
   "execution_count": 10,
   "metadata": {},
   "outputs": [
    {
     "name": "stdout",
     "output_type": "stream",
     "text": [
      "Model A.1 accuracy: 0.9259\n"
     ]
    }
   ],
   "source": [
    "print('Model A.1 accuracy:', calc_accuracy(y_predict, y_true))"
   ]
  },
  {
   "cell_type": "code",
   "execution_count": 15,
   "metadata": {},
   "outputs": [
    {
     "name": "stdout",
     "output_type": "stream",
     "text": [
      "tp =  0\n",
      "fp =  0\n",
      "fn =  741\n",
      "tn =  9259\n",
      "Model A.1 F1-score: 0.0\n"
     ]
    }
   ],
   "source": [
    "print('Model A.1 F1-score:', calc_f1_score(y_predict, y_true))"
   ]
  },
  {
   "cell_type": "markdown",
   "metadata": {},
   "source": [
    "We observe that model A.1 has very poor performence, without a single True Positive"
   ]
  },
  {
   "cell_type": "markdown",
   "metadata": {},
   "source": [
    "# Model A.2"
   ]
  },
  {
   "cell_type": "code",
   "execution_count": null,
   "metadata": {},
   "outputs": [],
   "source": [
    "model = SepsisPredictionModel_A2(input_size=len(ICUSepsisDataset.features))\n",
    "model.to(device)\n",
    "model.load_state_dict(torch.load('model_a_2.state', map_location=device))"
   ]
  },
  {
   "cell_type": "code",
   "execution_count": null,
   "metadata": {},
   "outputs": [],
   "source": [
    "y_true = []\n",
    "y_predict = []\n",
    "\n",
    "with tqdm(total=len(icu_test)) as pbar:\n",
    "    for x,y in icu_test:\n",
    "        pbar.update(1)\n",
    "        # ignore invalid samples\n",
    "\n",
    "        \n",
    "        y = y.to(device)  # squeeze since batch_size=1\n",
    "        label = int(y[-1])\n",
    "        N = len(y)\n",
    "\n",
    "        if x is None:\n",
    "            y_true.append(label)\n",
    "            y_predict.append(0)\n",
    "            continue\n",
    "\n",
    "        x = x.to(device).unsqueeze(0)\n",
    "\n",
    "        # Forward pass\n",
    "        output = model(x).view(N,2)\n",
    "        prediction = torch.softmax(output, dim=1).argmax(dim=1)\n",
    "\n",
    "        assert prediction.shape == y.shape\n",
    "\n",
    "        y_true.append(label)\n",
    "        y_predict.append(int(prediction[-1]))"
   ]
  },
  {
   "cell_type": "code",
   "execution_count": null,
   "metadata": {},
   "outputs": [],
   "source": [
    "y_true = np.array(y_true)\n",
    "y_predict = np.array(y_predict)"
   ]
  },
  {
   "cell_type": "code",
   "execution_count": null,
   "metadata": {},
   "outputs": [],
   "source": [
    "print('Model A.2 accuracy:', calc_accuracy(y_predict, y_true))"
   ]
  },
  {
   "cell_type": "code",
   "execution_count": null,
   "metadata": {},
   "outputs": [],
   "source": [
    "print('Model A.2 F1-score:', calc_f1_score(y_predict, y_true))"
   ]
  },
  {
   "cell_type": "markdown",
   "metadata": {},
   "source": [
    "Model A.2 ...."
   ]
  }
 ],
 "metadata": {
  "interpreter": {
   "hash": "7d538358a4a844c2698117f72ddbeea822b864d784b5f9260aa8445549be4a00"
  },
  "kernelspec": {
   "display_name": "Python 3.10.4 ('deep')",
   "language": "python",
   "name": "python3"
  },
  "language_info": {
   "codemirror_mode": {
    "name": "ipython",
    "version": 3
   },
   "file_extension": ".py",
   "mimetype": "text/x-python",
   "name": "python",
   "nbconvert_exporter": "python",
   "pygments_lexer": "ipython3",
   "version": "3.10.4"
  },
  "orig_nbformat": 4
 },
 "nbformat": 4,
 "nbformat_minor": 2
}
