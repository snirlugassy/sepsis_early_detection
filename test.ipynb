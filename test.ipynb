{
 "cells": [
  {
   "cell_type": "code",
   "execution_count": 3,
   "metadata": {},
   "outputs": [
    {
     "name": "stdout",
     "output_type": "stream",
     "text": [
      "====== TRAIN =======\n",
      "optimizer: adam\n",
      "epochs: 1\n",
      "l-rate: 0.005\n",
      "device: cpu\n",
      "====================\n",
      "Found 20000 files in /Users/snirlugassy/Projects/sepsis_early_detection/data/train\n"
     ]
    }
   ],
   "source": [
    "import os\n",
    "import gc\n",
    "import csv\n",
    "import argparse\n",
    "import pickle\n",
    "\n",
    "import torch\n",
    "from torch.utils.data import DataLoader\n",
    "import pandas as pd\n",
    "import numpy as np\n",
    "from scipy.interpolate import interp1d\n",
    "\n",
    "from dataset import ICUSepsisDataset\n",
    "from model import SepsisPredictionModel\n",
    "\n",
    "device = torch.device('cuda' if torch.cuda.is_available() else 'cpu')\n",
    "\n",
    "OPTIMIZERS = {\n",
    "    'adam': torch.optim.Adam,\n",
    "    'adadelta': torch.optim.Adadelta,\n",
    "    'sgd': torch.optim.SGD,\n",
    "    'adagrad': torch.optim.Adagrad\n",
    "}\n",
    "\n",
    "argparser = argparse.ArgumentParser(description='Train mask detection nerual network')\n",
    "argparser.add_argument('--data-path', type=str, required=True, dest='data_path', default='/home/student/data/')\n",
    "argparser.add_argument('--epochs', type=int, dest='epochs', default=100)\n",
    "argparser.add_argument('--optimizer', type=str, dest='optimizer', choices=OPTIMIZERS.keys(), default='adam')\n",
    "argparser.add_argument('--lr', type=float, dest='lr', default=0.005)\n",
    "argparser.add_argument('--print-steps', type=int, dest='print_steps')\n",
    "\n",
    "args = argparser.parse_args(['--data-path', '/Users/snirlugassy/Projects/sepsis_early_detection/data', '--epochs', '1'])\n",
    "\n",
    "print('====== TRAIN =======')\n",
    "print('optimizer:', args.optimizer)\n",
    "print('epochs:', args.epochs)\n",
    "print('l-rate:', args.lr)\n",
    "print('device:', device)\n",
    "print('====================')\n",
    "\n",
    "model = SepsisPredictionModel(input_size=len(ICUSepsisDataset.features))\n",
    "model.to(device)\n",
    "\n",
    "icu_train = ICUSepsisDataset(os.path.join(args.data_path, 'train'))\n",
    "train_loader = DataLoader(icu_train, batch_size=1, shuffle=True)\n",
    "\n",
    "loss = torch.nn.CrossEntropyLoss()\n",
    "optimizer = OPTIMIZERS[args.optimizer](model.parameters(), lr=args.lr)\n",
    " "
   ]
  },
  {
   "cell_type": "code",
   "execution_count": 5,
   "metadata": {},
   "outputs": [
    {
     "name": "stdout",
     "output_type": "stream",
     "text": [
      "torch.Size([1, 45, 9]) torch.Size([1, 45])\n",
      "torch.Size([1, 45, 2])\n"
     ]
    }
   ],
   "source": [
    "x,y = next(iter(train_loader))\n",
    "print(x.shape, y.shape)\n",
    "output = model(x)\n",
    "print(output.shape)"
   ]
  },
  {
   "cell_type": "code",
   "execution_count": 10,
   "metadata": {},
   "outputs": [
    {
     "data": {
      "text/plain": [
       "tensor(0.6885, grad_fn=<NllLossBackward0>)"
      ]
     },
     "execution_count": 10,
     "metadata": {},
     "output_type": "execute_result"
    }
   ],
   "source": [
    "loss()"
   ]
  }
 ],
 "metadata": {
  "interpreter": {
   "hash": "7d538358a4a844c2698117f72ddbeea822b864d784b5f9260aa8445549be4a00"
  },
  "kernelspec": {
   "display_name": "Python 3.10.4 ('deep')",
   "language": "python",
   "name": "python3"
  },
  "language_info": {
   "codemirror_mode": {
    "name": "ipython",
    "version": 3
   },
   "file_extension": ".py",
   "mimetype": "text/x-python",
   "name": "python",
   "nbconvert_exporter": "python",
   "pygments_lexer": "ipython3",
   "version": "3.10.4"
  },
  "orig_nbformat": 4
 },
 "nbformat": 4,
 "nbformat_minor": 2
}
