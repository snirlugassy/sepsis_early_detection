{
 "cells": [
  {
   "cell_type": "code",
   "execution_count": 1,
   "metadata": {},
   "outputs": [
    {
     "name": "stderr",
     "output_type": "stream",
     "text": [
      "/Users/snirlugassy/miniconda3/envs/deep/lib/python3.10/site-packages/tqdm/auto.py:22: TqdmWarning: IProgress not found. Please update jupyter and ipywidgets. See https://ipywidgets.readthedocs.io/en/stable/user_install.html\n",
      "  from .autonotebook import tqdm as notebook_tqdm\n"
     ]
    }
   ],
   "source": [
    "import os\n",
    "import gc\n",
    "import csv\n",
    "import argparse\n",
    "import pickle\n",
    "\n",
    "import torch\n",
    "from torch.utils.data import DataLoader\n",
    "import pandas as pd\n",
    "import numpy as np\n",
    "from scipy.interpolate import interp1d\n",
    "\n",
    "from tqdm import tqdm\n",
    "\n",
    "from dataset import ICUSepsisDataset\n",
    "from model import SepsisPredictionModel_A1, SepsisPredictionModel_B1, SepsisPredictionModel_C1\n",
    "\n",
    "device = torch.device('cuda' if torch.cuda.is_available() else 'cpu')"
   ]
  },
  {
   "cell_type": "code",
   "execution_count": 12,
   "metadata": {},
   "outputs": [],
   "source": [
    "def calc_accuracy(predicted:np.array, labels:np.array):\n",
    "    return sum(predicted == labels) / len(labels)"
   ]
  },
  {
   "cell_type": "code",
   "execution_count": 11,
   "metadata": {},
   "outputs": [],
   "source": [
    "def calc_f1_score(predicted:np.array, labels:np.array):\n",
    "    tp = int(np.logical_and(labels==1, predicted==1).sum())\n",
    "    fp = int(np.logical_and(labels==0, predicted==1).sum())\n",
    "    fn = int(np.logical_and(labels==1, predicted==0).sum())\n",
    "    tn = int(np.logical_and(labels==0, predicted==0).sum())\n",
    "    print('tp = ', tp)\n",
    "    print('fp = ', fp)\n",
    "    print('fn = ', fn)\n",
    "    print('tn = ', tn)\n",
    "    \n",
    "    return 2 * tp / (2 * tp + fp + fn)"
   ]
  },
  {
   "cell_type": "code",
   "execution_count": 4,
   "metadata": {},
   "outputs": [
    {
     "name": "stdout",
     "output_type": "stream",
     "text": [
      "Found 10000 files in ../data/test\n"
     ]
    }
   ],
   "source": [
    "icu_test = ICUSepsisDataset('../data/test')"
   ]
  },
  {
   "cell_type": "markdown",
   "metadata": {},
   "source": [
    "# Model A.1"
   ]
  },
  {
   "cell_type": "code",
   "execution_count": 3,
   "metadata": {},
   "outputs": [
    {
     "data": {
      "text/plain": [
       "<All keys matched successfully>"
      ]
     },
     "execution_count": 3,
     "metadata": {},
     "output_type": "execute_result"
    }
   ],
   "source": [
    "model = SepsisPredictionModel_A1(input_size=len(ICUSepsisDataset.features))\n",
    "model.to(device)\n",
    "model.load_state_dict(torch.load('model_a_1.state', map_location=device))"
   ]
  },
  {
   "cell_type": "code",
   "execution_count": 4,
   "metadata": {},
   "outputs": [
    {
     "name": "stderr",
     "output_type": "stream",
     "text": [
      "100%|██████████| 10000/10000 [02:11<00:00, 76.22it/s]\n"
     ]
    }
   ],
   "source": [
    "y_true = []\n",
    "y_predict = []\n",
    "\n",
    "with tqdm(total=len(icu_test)) as pbar:\n",
    "    for x,y in icu_test:\n",
    "        pbar.update(1)\n",
    "        # ignore invalid samples\n",
    "\n",
    "        \n",
    "        y = y.to(device)  # squeeze since batch_size=1\n",
    "        label = int(y[-1])\n",
    "        N = len(y)\n",
    "\n",
    "        if x is None:\n",
    "            y_true.append(label)\n",
    "            y_predict.append(0)\n",
    "            continue\n",
    "\n",
    "        x = x.to(device).unsqueeze(0)\n",
    "\n",
    "        # Forward pass\n",
    "        output = model(x).view(N,2)\n",
    "        prediction = torch.softmax(output, dim=1).argmax(dim=1)\n",
    "\n",
    "        assert prediction.shape == y.shape\n",
    "\n",
    "        y_true.append(label)\n",
    "        y_predict.append(int(prediction[-1]))"
   ]
  },
  {
   "cell_type": "code",
   "execution_count": 18,
   "metadata": {},
   "outputs": [],
   "source": [
    "y_true = np.array(y_true)\n",
    "y_predict = np.array(y_predict)"
   ]
  },
  {
   "cell_type": "code",
   "execution_count": 19,
   "metadata": {},
   "outputs": [
    {
     "name": "stdout",
     "output_type": "stream",
     "text": [
      "Model A.1 accuracy: 0.9259\n"
     ]
    }
   ],
   "source": [
    "print('Model A.1 accuracy:', calc_accuracy(y_predict, y_true))"
   ]
  },
  {
   "cell_type": "code",
   "execution_count": 15,
   "metadata": {},
   "outputs": [
    {
     "name": "stdout",
     "output_type": "stream",
     "text": [
      "tp =  0\n",
      "fp =  0\n",
      "fn =  741\n",
      "tn =  9259\n",
      "Model A.1 F1-score: 0.0\n"
     ]
    }
   ],
   "source": [
    "print('Model A.1 F1-score:', calc_f1_score(y_predict, y_true))"
   ]
  },
  {
   "cell_type": "markdown",
   "metadata": {},
   "source": [
    "We observe that model A.1 has very poor performence, without a single True Positive"
   ]
  },
  {
   "cell_type": "markdown",
   "metadata": {},
   "source": [
    "# Model B.1"
   ]
  },
  {
   "cell_type": "code",
   "execution_count": 2,
   "metadata": {},
   "outputs": [
    {
     "ename": "RuntimeError",
     "evalue": "Error(s) in loading state_dict for SepsisPredictionModel_B1:\n\tsize mismatch for lstm.weight_ih_l0: copying a param with shape torch.Size([800, 9]) from checkpoint, the shape in current model is torch.Size([800, 8]).",
     "output_type": "error",
     "traceback": [
      "\u001b[0;31m---------------------------------------------------------------------------\u001b[0m",
      "\u001b[0;31mRuntimeError\u001b[0m                              Traceback (most recent call last)",
      "Input \u001b[0;32mIn [2]\u001b[0m, in \u001b[0;36m<cell line: 3>\u001b[0;34m()\u001b[0m\n\u001b[1;32m      1\u001b[0m model \u001b[38;5;241m=\u001b[39m SepsisPredictionModel_B1(input_size\u001b[38;5;241m=\u001b[39m\u001b[38;5;28mlen\u001b[39m(ICUSepsisDataset\u001b[38;5;241m.\u001b[39mfeatures), hidden_dim\u001b[38;5;241m=\u001b[39m\u001b[38;5;241m200\u001b[39m)\n\u001b[1;32m      2\u001b[0m model\u001b[38;5;241m.\u001b[39mto(device)\n\u001b[0;32m----> 3\u001b[0m \u001b[43mmodel\u001b[49m\u001b[38;5;241;43m.\u001b[39;49m\u001b[43mload_state_dict\u001b[49m\u001b[43m(\u001b[49m\u001b[43mtorch\u001b[49m\u001b[38;5;241;43m.\u001b[39;49m\u001b[43mload\u001b[49m\u001b[43m(\u001b[49m\u001b[38;5;124;43m'\u001b[39;49m\u001b[38;5;124;43mmodel_b_1.state\u001b[39;49m\u001b[38;5;124;43m'\u001b[39;49m\u001b[43m,\u001b[49m\u001b[43m \u001b[49m\u001b[43mmap_location\u001b[49m\u001b[38;5;241;43m=\u001b[39;49m\u001b[43mdevice\u001b[49m\u001b[43m)\u001b[49m\u001b[43m)\u001b[49m\n",
      "File \u001b[0;32m~/miniconda3/envs/deep/lib/python3.10/site-packages/torch/nn/modules/module.py:1497\u001b[0m, in \u001b[0;36mModule.load_state_dict\u001b[0;34m(self, state_dict, strict)\u001b[0m\n\u001b[1;32m   1492\u001b[0m         error_msgs\u001b[38;5;241m.\u001b[39minsert(\n\u001b[1;32m   1493\u001b[0m             \u001b[38;5;241m0\u001b[39m, \u001b[38;5;124m'\u001b[39m\u001b[38;5;124mMissing key(s) in state_dict: \u001b[39m\u001b[38;5;132;01m{}\u001b[39;00m\u001b[38;5;124m. \u001b[39m\u001b[38;5;124m'\u001b[39m\u001b[38;5;241m.\u001b[39mformat(\n\u001b[1;32m   1494\u001b[0m                 \u001b[38;5;124m'\u001b[39m\u001b[38;5;124m, \u001b[39m\u001b[38;5;124m'\u001b[39m\u001b[38;5;241m.\u001b[39mjoin(\u001b[38;5;124m'\u001b[39m\u001b[38;5;124m\"\u001b[39m\u001b[38;5;132;01m{}\u001b[39;00m\u001b[38;5;124m\"\u001b[39m\u001b[38;5;124m'\u001b[39m\u001b[38;5;241m.\u001b[39mformat(k) \u001b[38;5;28;01mfor\u001b[39;00m k \u001b[38;5;129;01min\u001b[39;00m missing_keys)))\n\u001b[1;32m   1496\u001b[0m \u001b[38;5;28;01mif\u001b[39;00m \u001b[38;5;28mlen\u001b[39m(error_msgs) \u001b[38;5;241m>\u001b[39m \u001b[38;5;241m0\u001b[39m:\n\u001b[0;32m-> 1497\u001b[0m     \u001b[38;5;28;01mraise\u001b[39;00m \u001b[38;5;167;01mRuntimeError\u001b[39;00m(\u001b[38;5;124m'\u001b[39m\u001b[38;5;124mError(s) in loading state_dict for \u001b[39m\u001b[38;5;132;01m{}\u001b[39;00m\u001b[38;5;124m:\u001b[39m\u001b[38;5;130;01m\\n\u001b[39;00m\u001b[38;5;130;01m\\t\u001b[39;00m\u001b[38;5;132;01m{}\u001b[39;00m\u001b[38;5;124m'\u001b[39m\u001b[38;5;241m.\u001b[39mformat(\n\u001b[1;32m   1498\u001b[0m                        \u001b[38;5;28mself\u001b[39m\u001b[38;5;241m.\u001b[39m\u001b[38;5;18m__class__\u001b[39m\u001b[38;5;241m.\u001b[39m\u001b[38;5;18m__name__\u001b[39m, \u001b[38;5;124m\"\u001b[39m\u001b[38;5;130;01m\\n\u001b[39;00m\u001b[38;5;130;01m\\t\u001b[39;00m\u001b[38;5;124m\"\u001b[39m\u001b[38;5;241m.\u001b[39mjoin(error_msgs)))\n\u001b[1;32m   1499\u001b[0m \u001b[38;5;28;01mreturn\u001b[39;00m _IncompatibleKeys(missing_keys, unexpected_keys)\n",
      "\u001b[0;31mRuntimeError\u001b[0m: Error(s) in loading state_dict for SepsisPredictionModel_B1:\n\tsize mismatch for lstm.weight_ih_l0: copying a param with shape torch.Size([800, 9]) from checkpoint, the shape in current model is torch.Size([800, 8])."
     ]
    }
   ],
   "source": [
    "model = SepsisPredictionModel_B1(input_size=len(ICUSepsisDataset.features), hidden_dim=200)\n",
    "model.to(device)\n",
    "model.load_state_dict(torch.load('model_b_1.state', map_location=device))"
   ]
  },
  {
   "cell_type": "code",
   "execution_count": 17,
   "metadata": {},
   "outputs": [
    {
     "name": "stderr",
     "output_type": "stream",
     "text": [
      "100%|██████████| 10000/10000 [02:44<00:00, 60.72it/s]\n"
     ]
    }
   ],
   "source": [
    "y_true = []\n",
    "y_predict = []\n",
    "\n",
    "with tqdm(total=len(icu_test)) as pbar:\n",
    "    for x,y in icu_test:\n",
    "        pbar.update(1)\n",
    "        # ignore invalid samples\n",
    "\n",
    "        \n",
    "        y = y.to(device)  # squeeze since batch_size=1\n",
    "        label = int(y[-1])\n",
    "        N = len(y)\n",
    "\n",
    "        if x is None:\n",
    "            y_true.append(label)\n",
    "            y_predict.append(0)\n",
    "            continue\n",
    "\n",
    "        x = x.to(device).unsqueeze(0)\n",
    "\n",
    "        # Forward pass\n",
    "        output = model(x)\n",
    "        prediction = torch.softmax(output, dim=1).argmax(dim=1)\n",
    "\n",
    "        y_true.append(label)\n",
    "        y_predict.append(int(prediction))"
   ]
  },
  {
   "cell_type": "code",
   "execution_count": 20,
   "metadata": {},
   "outputs": [],
   "source": [
    "y_true = np.array(y_true)\n",
    "y_predict = np.array(y_predict)"
   ]
  },
  {
   "cell_type": "code",
   "execution_count": 21,
   "metadata": {},
   "outputs": [
    {
     "name": "stdout",
     "output_type": "stream",
     "text": [
      "Model B.1 accuracy: 0.9259\n"
     ]
    }
   ],
   "source": [
    "print('Model B.1 accuracy:', calc_accuracy(y_predict, y_true))"
   ]
  },
  {
   "cell_type": "code",
   "execution_count": 22,
   "metadata": {},
   "outputs": [
    {
     "name": "stdout",
     "output_type": "stream",
     "text": [
      "tp =  0\n",
      "fp =  0\n",
      "fn =  741\n",
      "tn =  9259\n",
      "Model B.1 F1-score: 0.0\n"
     ]
    }
   ],
   "source": [
    "print('Model B.1 F1-score:', calc_f1_score(y_predict, y_true))"
   ]
  },
  {
   "cell_type": "markdown",
   "metadata": {},
   "source": [
    "Model A.2 ...."
   ]
  },
  {
   "cell_type": "markdown",
   "metadata": {},
   "source": [
    "# Model C.1"
   ]
  },
  {
   "cell_type": "code",
   "execution_count": 3,
   "metadata": {},
   "outputs": [
    {
     "data": {
      "text/plain": [
       "<All keys matched successfully>"
      ]
     },
     "execution_count": 3,
     "metadata": {},
     "output_type": "execute_result"
    }
   ],
   "source": [
    "model = SepsisPredictionModel_C1(input_size=len(ICUSepsisDataset.features), hidden_dim=200)\n",
    "model.to(device)\n",
    "model.load_state_dict(torch.load('model_c_1.state', map_location=device))"
   ]
  },
  {
   "cell_type": "code",
   "execution_count": 5,
   "metadata": {},
   "outputs": [
    {
     "name": "stderr",
     "output_type": "stream",
     "text": [
      "100%|██████████| 10000/10000 [04:33<00:00, 36.50it/s]\n"
     ]
    }
   ],
   "source": [
    "y_true = []\n",
    "y_predict = []\n",
    "\n",
    "with tqdm(total=len(icu_test)) as pbar:\n",
    "    for x,y in icu_test:\n",
    "        pbar.update(1)\n",
    "        # ignore invalid samples\n",
    "\n",
    "        \n",
    "        y = y.to(device)  # squeeze since batch_size=1\n",
    "        label = int(y[-1])\n",
    "        N = len(y)\n",
    "\n",
    "        if x is None:\n",
    "            y_true.append(label)\n",
    "            y_predict.append(0)\n",
    "            continue\n",
    "\n",
    "        x = x.to(device)\n",
    "\n",
    "        # Forward pass\n",
    "        output = model(x).view(1,-1)\n",
    "        prediction = torch.softmax(output, dim=1).argmax(dim=1)\n",
    "\n",
    "        y_true.append(label)\n",
    "        y_predict.append(int(prediction))"
   ]
  },
  {
   "cell_type": "code",
   "execution_count": 6,
   "metadata": {},
   "outputs": [],
   "source": [
    "y_true = np.array(y_true)\n",
    "y_predict = np.array(y_predict)"
   ]
  },
  {
   "cell_type": "code",
   "execution_count": 14,
   "metadata": {},
   "outputs": [
    {
     "name": "stdout",
     "output_type": "stream",
     "text": [
      "Model C.1 accuracy: 0.9259\n"
     ]
    }
   ],
   "source": [
    "print('Model C.1 accuracy:', calc_accuracy(y_predict, y_true))"
   ]
  },
  {
   "cell_type": "code",
   "execution_count": 13,
   "metadata": {},
   "outputs": [
    {
     "name": "stdout",
     "output_type": "stream",
     "text": [
      "tp =  0\n",
      "fp =  0\n",
      "fn =  741\n",
      "tn =  9259\n",
      "Model C.1 F1-score: 0.0\n"
     ]
    }
   ],
   "source": [
    "print('Model C.1 F1-score:', calc_f1_score(y_predict, y_true))"
   ]
  },
  {
   "cell_type": "markdown",
   "metadata": {},
   "source": [
    "Model A.2 ...."
   ]
  }
 ],
 "metadata": {
  "interpreter": {
   "hash": "7d538358a4a844c2698117f72ddbeea822b864d784b5f9260aa8445549be4a00"
  },
  "kernelspec": {
   "display_name": "Python 3.10.4 ('deep')",
   "language": "python",
   "name": "python3"
  },
  "language_info": {
   "codemirror_mode": {
    "name": "ipython",
    "version": 3
   },
   "file_extension": ".py",
   "mimetype": "text/x-python",
   "name": "python",
   "nbconvert_exporter": "python",
   "pygments_lexer": "ipython3",
   "version": "3.10.4"
  },
  "orig_nbformat": 4
 },
 "nbformat": 4,
 "nbformat_minor": 2
}
